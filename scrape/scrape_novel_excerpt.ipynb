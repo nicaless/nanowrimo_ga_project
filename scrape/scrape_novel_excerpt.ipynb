{
 "cells": [
  {
   "cell_type": "code",
   "execution_count": 1,
   "metadata": {
    "collapsed": true
   },
   "outputs": [],
   "source": [
    "import urllib\n",
    "import pandas as pd\n",
    "import numpy as np\n",
    "from bs4 import BeautifulSoup"
   ]
  },
  {
   "cell_type": "code",
   "execution_count": 2,
   "metadata": {
    "collapsed": false
   },
   "outputs": [
    {
     "data": {
      "text/html": [
       "<div>\n",
       "<table border=\"1\" class=\"dataframe\">\n",
       "  <thead>\n",
       "    <tr style=\"text-align: right;\">\n",
       "      <th></th>\n",
       "      <th>Novel Pages</th>\n",
       "    </tr>\n",
       "  </thead>\n",
       "  <tbody>\n",
       "    <tr>\n",
       "      <th>0</th>\n",
       "      <td>http://nanowrimo.org/participants/nicaless/nov...</td>\n",
       "    </tr>\n",
       "    <tr>\n",
       "      <th>1</th>\n",
       "      <td>http://nanowrimo.org/participants/nicaless/nov...</td>\n",
       "    </tr>\n",
       "    <tr>\n",
       "      <th>2</th>\n",
       "      <td>http://nanowrimo.org/participants/rachel-b-moo...</td>\n",
       "    </tr>\n",
       "    <tr>\n",
       "      <th>3</th>\n",
       "      <td>http://nanowrimo.org/participants/rachel-b-moo...</td>\n",
       "    </tr>\n",
       "    <tr>\n",
       "      <th>4</th>\n",
       "      <td>http://nanowrimo.org/participants/rachel-b-moo...</td>\n",
       "    </tr>\n",
       "  </tbody>\n",
       "</table>\n",
       "</div>"
      ],
      "text/plain": [
       "                                         Novel Pages\n",
       "0  http://nanowrimo.org/participants/nicaless/nov...\n",
       "1  http://nanowrimo.org/participants/nicaless/nov...\n",
       "2  http://nanowrimo.org/participants/rachel-b-moo...\n",
       "3  http://nanowrimo.org/participants/rachel-b-moo...\n",
       "4  http://nanowrimo.org/participants/rachel-b-moo..."
      ]
     },
     "execution_count": 2,
     "metadata": {},
     "output_type": "execute_result"
    }
   ],
   "source": [
    "# get the urls for each of the novels on the NaNoWriMo website\n",
    "novel_pages = pd.read_csv('../rawdata/novel_pages.csv')\n",
    "novel_pages.head()"
   ]
  },
  {
   "cell_type": "code",
   "execution_count": 4,
   "metadata": {
    "collapsed": false,
    "scrolled": true
   },
   "outputs": [],
   "source": [
    "excerpts = []\n",
    "for i in novel_pages['Novel Pages']:\n",
    "    # open the url\n",
    "    page = urllib.urlopen(i).read()\n",
    "    # parse the page\n",
    "    soup = BeautifulSoup(page, 'html.parser')\n",
    "    # find the novel_synopsis tag\n",
    "    excerpt = soup.find(id='novel_excerpt').encode_contents()\n",
    "    # add the synopsis to the array\n",
    "    excerpts.append(excerpt)"
   ]
  },
  {
   "cell_type": "code",
   "execution_count": 5,
   "metadata": {
    "collapsed": false
   },
   "outputs": [
    {
     "name": "stdout",
     "output_type": "stream",
     "text": [
      "2123\n"
     ]
    }
   ],
   "source": [
    "print len(excerpts)"
   ]
  },
  {
   "cell_type": "code",
   "execution_count": 6,
   "metadata": {
    "collapsed": false
   },
   "outputs": [
    {
     "data": {
      "text/html": [
       "<div>\n",
       "<table border=\"1\" class=\"dataframe\">\n",
       "  <thead>\n",
       "    <tr style=\"text-align: right;\">\n",
       "      <th></th>\n",
       "      <th>Writer Name</th>\n",
       "      <th>Novel Name</th>\n",
       "      <th>Genre</th>\n",
       "      <th>Final Word Count</th>\n",
       "      <th>Daily Average</th>\n",
       "      <th>Winner</th>\n",
       "      <th>Synopses</th>\n",
       "      <th>url</th>\n",
       "      <th>Novel Date</th>\n",
       "    </tr>\n",
       "  </thead>\n",
       "  <tbody>\n",
       "    <tr>\n",
       "      <th>0</th>\n",
       "      <td>Nicaless</td>\n",
       "      <td>Novel: Lauren's Birthday</td>\n",
       "      <td>Genre: Young Adult</td>\n",
       "      <td>24229</td>\n",
       "      <td>807</td>\n",
       "      <td>0</td>\n",
       "      <td>\\n&lt;p&gt;&lt;/p&gt;\\n</td>\n",
       "      <td>http://nanowrimo.org/participants/nicaless/nov...</td>\n",
       "      <td>November 2015</td>\n",
       "    </tr>\n",
       "    <tr>\n",
       "      <th>1</th>\n",
       "      <td>Nicaless</td>\n",
       "      <td>Novel: A Mystery in the Kingdom of Aermon</td>\n",
       "      <td>Genre: Fantasy</td>\n",
       "      <td>50919</td>\n",
       "      <td>1,697</td>\n",
       "      <td>1</td>\n",
       "      <td>\\n&lt;p&gt;Hitoshi is appointed the youngest Judge a...</td>\n",
       "      <td>http://nanowrimo.org/participants/nicaless/nov...</td>\n",
       "      <td>November 2014</td>\n",
       "    </tr>\n",
       "    <tr>\n",
       "      <th>2</th>\n",
       "      <td>Rachel B. Moore</td>\n",
       "      <td>Novel: Finding Fortunato</td>\n",
       "      <td>Genre: Literary</td>\n",
       "      <td>50603</td>\n",
       "      <td>1,686</td>\n",
       "      <td>1</td>\n",
       "      <td>\\n&lt;p&gt;Sam and Anna Gold and their newly adoptiv...</td>\n",
       "      <td>http://nanowrimo.org/participants/rachel-b-moo...</td>\n",
       "      <td>November 2015</td>\n",
       "    </tr>\n",
       "    <tr>\n",
       "      <th>3</th>\n",
       "      <td>Rachel B. Moore</td>\n",
       "      <td>Novel: The Residency</td>\n",
       "      <td>Genre: Literary</td>\n",
       "      <td>50425</td>\n",
       "      <td>1,680</td>\n",
       "      <td>1</td>\n",
       "      <td>\\n&lt;p&gt;It's every writer's dream - an all-expens...</td>\n",
       "      <td>http://nanowrimo.org/participants/rachel-b-moo...</td>\n",
       "      <td>November 2014</td>\n",
       "    </tr>\n",
       "    <tr>\n",
       "      <th>4</th>\n",
       "      <td>Rachel B. Moore</td>\n",
       "      <td>Novel: The Jew From Fortunato</td>\n",
       "      <td>Genre: Literary Fiction</td>\n",
       "      <td>41447</td>\n",
       "      <td>1,381</td>\n",
       "      <td>0</td>\n",
       "      <td>\\n&lt;p&gt;20-something Andre Levinsky is a fish out...</td>\n",
       "      <td>http://nanowrimo.org/participants/rachel-b-moo...</td>\n",
       "      <td>November 2013</td>\n",
       "    </tr>\n",
       "  </tbody>\n",
       "</table>\n",
       "</div>"
      ],
      "text/plain": [
       "       Writer Name                                 Novel Name  \\\n",
       "0         Nicaless                   Novel: Lauren's Birthday   \n",
       "1         Nicaless  Novel: A Mystery in the Kingdom of Aermon   \n",
       "2  Rachel B. Moore                   Novel: Finding Fortunato   \n",
       "3  Rachel B. Moore                       Novel: The Residency   \n",
       "4  Rachel B. Moore              Novel: The Jew From Fortunato   \n",
       "\n",
       "                     Genre  Final Word Count Daily Average  Winner  \\\n",
       "0       Genre: Young Adult             24229           807       0   \n",
       "1           Genre: Fantasy             50919         1,697       1   \n",
       "2          Genre: Literary             50603         1,686       1   \n",
       "3          Genre: Literary             50425         1,680       1   \n",
       "4  Genre: Literary Fiction             41447         1,381       0   \n",
       "\n",
       "                                            Synopses  \\\n",
       "0                                        \\n<p></p>\\n   \n",
       "1  \\n<p>Hitoshi is appointed the youngest Judge a...   \n",
       "2  \\n<p>Sam and Anna Gold and their newly adoptiv...   \n",
       "3  \\n<p>It's every writer's dream - an all-expens...   \n",
       "4  \\n<p>20-something Andre Levinsky is a fish out...   \n",
       "\n",
       "                                                 url     Novel Date  \n",
       "0  http://nanowrimo.org/participants/nicaless/nov...  November 2015  \n",
       "1  http://nanowrimo.org/participants/nicaless/nov...  November 2014  \n",
       "2  http://nanowrimo.org/participants/rachel-b-moo...  November 2015  \n",
       "3  http://nanowrimo.org/participants/rachel-b-moo...  November 2014  \n",
       "4  http://nanowrimo.org/participants/rachel-b-moo...  November 2013  "
      ]
     },
     "execution_count": 6,
     "metadata": {},
     "output_type": "execute_result"
    }
   ],
   "source": [
    "novel_data = pd.read_csv(\"../clean data/novel_data.csv\", index_col = 0)\n",
    "novel_data.head()"
   ]
  },
  {
   "cell_type": "code",
   "execution_count": 7,
   "metadata": {
    "collapsed": true
   },
   "outputs": [],
   "source": [
    "novel_data['Excerpt'] = excerpts"
   ]
  },
  {
   "cell_type": "code",
   "execution_count": 8,
   "metadata": {
    "collapsed": false
   },
   "outputs": [
    {
     "data": {
      "text/html": [
       "<div>\n",
       "<table border=\"1\" class=\"dataframe\">\n",
       "  <thead>\n",
       "    <tr style=\"text-align: right;\">\n",
       "      <th></th>\n",
       "      <th>Writer Name</th>\n",
       "      <th>Novel Name</th>\n",
       "      <th>Genre</th>\n",
       "      <th>Final Word Count</th>\n",
       "      <th>Daily Average</th>\n",
       "      <th>Winner</th>\n",
       "      <th>Synopses</th>\n",
       "      <th>url</th>\n",
       "      <th>Novel Date</th>\n",
       "      <th>Excerpt</th>\n",
       "    </tr>\n",
       "  </thead>\n",
       "  <tbody>\n",
       "    <tr>\n",
       "      <th>0</th>\n",
       "      <td>Nicaless</td>\n",
       "      <td>Novel: Lauren's Birthday</td>\n",
       "      <td>Genre: Young Adult</td>\n",
       "      <td>24229</td>\n",
       "      <td>807</td>\n",
       "      <td>0</td>\n",
       "      <td>\\n&lt;p&gt;&lt;/p&gt;\\n</td>\n",
       "      <td>http://nanowrimo.org/participants/nicaless/nov...</td>\n",
       "      <td>November 2015</td>\n",
       "      <td>\\n&lt;p&gt;&lt;/p&gt;\\n</td>\n",
       "    </tr>\n",
       "    <tr>\n",
       "      <th>1</th>\n",
       "      <td>Nicaless</td>\n",
       "      <td>Novel: A Mystery in the Kingdom of Aermon</td>\n",
       "      <td>Genre: Fantasy</td>\n",
       "      <td>50919</td>\n",
       "      <td>1,697</td>\n",
       "      <td>1</td>\n",
       "      <td>\\n&lt;p&gt;Hitoshi is appointed the youngest Judge a...</td>\n",
       "      <td>http://nanowrimo.org/participants/nicaless/nov...</td>\n",
       "      <td>November 2014</td>\n",
       "      <td>\\n&lt;p&gt;This story, funnily enough, started out a...</td>\n",
       "    </tr>\n",
       "    <tr>\n",
       "      <th>2</th>\n",
       "      <td>Rachel B. Moore</td>\n",
       "      <td>Novel: Finding Fortunato</td>\n",
       "      <td>Genre: Literary</td>\n",
       "      <td>50603</td>\n",
       "      <td>1,686</td>\n",
       "      <td>1</td>\n",
       "      <td>\\n&lt;p&gt;Sam and Anna Gold and their newly adoptiv...</td>\n",
       "      <td>http://nanowrimo.org/participants/rachel-b-moo...</td>\n",
       "      <td>November 2015</td>\n",
       "      <td>\\n&lt;p&gt;&lt;/p&gt;\\n</td>\n",
       "    </tr>\n",
       "    <tr>\n",
       "      <th>3</th>\n",
       "      <td>Rachel B. Moore</td>\n",
       "      <td>Novel: The Residency</td>\n",
       "      <td>Genre: Literary</td>\n",
       "      <td>50425</td>\n",
       "      <td>1,680</td>\n",
       "      <td>1</td>\n",
       "      <td>\\n&lt;p&gt;It's every writer's dream - an all-expens...</td>\n",
       "      <td>http://nanowrimo.org/participants/rachel-b-moo...</td>\n",
       "      <td>November 2014</td>\n",
       "      <td>\\n&lt;p&gt;&lt;/p&gt;\\n</td>\n",
       "    </tr>\n",
       "    <tr>\n",
       "      <th>4</th>\n",
       "      <td>Rachel B. Moore</td>\n",
       "      <td>Novel: The Jew From Fortunato</td>\n",
       "      <td>Genre: Literary Fiction</td>\n",
       "      <td>41447</td>\n",
       "      <td>1,381</td>\n",
       "      <td>0</td>\n",
       "      <td>\\n&lt;p&gt;20-something Andre Levinsky is a fish out...</td>\n",
       "      <td>http://nanowrimo.org/participants/rachel-b-moo...</td>\n",
       "      <td>November 2013</td>\n",
       "      <td>\\n&lt;p&gt;&lt;/p&gt;\\n</td>\n",
       "    </tr>\n",
       "  </tbody>\n",
       "</table>\n",
       "</div>"
      ],
      "text/plain": [
       "       Writer Name                                 Novel Name  \\\n",
       "0         Nicaless                   Novel: Lauren's Birthday   \n",
       "1         Nicaless  Novel: A Mystery in the Kingdom of Aermon   \n",
       "2  Rachel B. Moore                   Novel: Finding Fortunato   \n",
       "3  Rachel B. Moore                       Novel: The Residency   \n",
       "4  Rachel B. Moore              Novel: The Jew From Fortunato   \n",
       "\n",
       "                     Genre  Final Word Count Daily Average  Winner  \\\n",
       "0       Genre: Young Adult             24229           807       0   \n",
       "1           Genre: Fantasy             50919         1,697       1   \n",
       "2          Genre: Literary             50603         1,686       1   \n",
       "3          Genre: Literary             50425         1,680       1   \n",
       "4  Genre: Literary Fiction             41447         1,381       0   \n",
       "\n",
       "                                            Synopses  \\\n",
       "0                                        \\n<p></p>\\n   \n",
       "1  \\n<p>Hitoshi is appointed the youngest Judge a...   \n",
       "2  \\n<p>Sam and Anna Gold and their newly adoptiv...   \n",
       "3  \\n<p>It's every writer's dream - an all-expens...   \n",
       "4  \\n<p>20-something Andre Levinsky is a fish out...   \n",
       "\n",
       "                                                 url     Novel Date  \\\n",
       "0  http://nanowrimo.org/participants/nicaless/nov...  November 2015   \n",
       "1  http://nanowrimo.org/participants/nicaless/nov...  November 2014   \n",
       "2  http://nanowrimo.org/participants/rachel-b-moo...  November 2015   \n",
       "3  http://nanowrimo.org/participants/rachel-b-moo...  November 2014   \n",
       "4  http://nanowrimo.org/participants/rachel-b-moo...  November 2013   \n",
       "\n",
       "                                             Excerpt  \n",
       "0                                        \\n<p></p>\\n  \n",
       "1  \\n<p>This story, funnily enough, started out a...  \n",
       "2                                        \\n<p></p>\\n  \n",
       "3                                        \\n<p></p>\\n  \n",
       "4                                        \\n<p></p>\\n  "
      ]
     },
     "execution_count": 8,
     "metadata": {},
     "output_type": "execute_result"
    }
   ],
   "source": [
    "novel_data.head()"
   ]
  },
  {
   "cell_type": "code",
   "execution_count": 9,
   "metadata": {
    "collapsed": true
   },
   "outputs": [],
   "source": [
    "novel_data.to_csv(\"../clean data/novel_data.csv\")"
   ]
  },
  {
   "cell_type": "code",
   "execution_count": null,
   "metadata": {
    "collapsed": true
   },
   "outputs": [],
   "source": []
  }
 ],
 "metadata": {
  "kernelspec": {
   "display_name": "Python 2",
   "language": "python",
   "name": "python2"
  },
  "language_info": {
   "codemirror_mode": {
    "name": "ipython",
    "version": 2
   },
   "file_extension": ".py",
   "mimetype": "text/x-python",
   "name": "python",
   "nbconvert_exporter": "python",
   "pygments_lexer": "ipython2",
   "version": "2.7.11"
  }
 },
 "nbformat": 4,
 "nbformat_minor": 0
}
