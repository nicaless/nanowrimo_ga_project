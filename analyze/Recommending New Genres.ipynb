{
 "cells": [
  {
   "cell_type": "code",
   "execution_count": 87,
   "metadata": {
    "collapsed": false
   },
   "outputs": [
    {
     "data": {
      "text/html": [
       "<div>\n",
       "<table border=\"1\" class=\"dataframe\">\n",
       "  <thead>\n",
       "    <tr style=\"text-align: right;\">\n",
       "      <th></th>\n",
       "      <th>Writer Name</th>\n",
       "      <th>Genres</th>\n",
       "    </tr>\n",
       "  </thead>\n",
       "  <tbody>\n",
       "    <tr>\n",
       "      <th>0</th>\n",
       "      <td>Nicaless</td>\n",
       "      <td>Fantasy, Young Adult</td>\n",
       "    </tr>\n",
       "    <tr>\n",
       "      <th>1</th>\n",
       "      <td>Rachel B. Moore</td>\n",
       "      <td>Literary, Literary Fiction</td>\n",
       "    </tr>\n",
       "    <tr>\n",
       "      <th>2</th>\n",
       "      <td>abookishbabe</td>\n",
       "      <td>Young Adult</td>\n",
       "    </tr>\n",
       "    <tr>\n",
       "      <th>3</th>\n",
       "      <td>alexabexis</td>\n",
       "      <td>Romance, Horror/Supernatural, Horror &amp; Superna...</td>\n",
       "    </tr>\n",
       "    <tr>\n",
       "      <th>4</th>\n",
       "      <td>AllYellowFlowers</td>\n",
       "      <td>Literary, Literary Fiction</td>\n",
       "    </tr>\n",
       "  </tbody>\n",
       "</table>\n",
       "</div>"
      ],
      "text/plain": [
       "        Writer Name                                             Genres\n",
       "0          Nicaless                               Fantasy, Young Adult\n",
       "1   Rachel B. Moore                         Literary, Literary Fiction\n",
       "2      abookishbabe                                        Young Adult\n",
       "3        alexabexis  Romance, Horror/Supernatural, Horror & Superna...\n",
       "4  AllYellowFlowers                         Literary, Literary Fiction"
      ]
     },
     "execution_count": 87,
     "metadata": {},
     "output_type": "execute_result"
    }
   ],
   "source": [
    "import pandas as pd\n",
    "import warnings\n",
    "warnings.filterwarnings(\"ignore\")\n",
    "writer_genres = pd.read_csv(\"../clean data/writer_genres.csv\", index_col=0)\n",
    "writer_genres.head()"
   ]
  },
  {
   "cell_type": "markdown",
   "metadata": {},
   "source": [
    "Below defines a function that calculates the jaccard distance from two different lists of genres."
   ]
  },
  {
   "cell_type": "code",
   "execution_count": 89,
   "metadata": {
    "collapsed": false
   },
   "outputs": [
    {
     "data": {
      "text/plain": [
       "0.5"
      ]
     },
     "execution_count": 89,
     "metadata": {},
     "output_type": "execute_result"
    }
   ],
   "source": [
    "def jaccard(a, b):\n",
    "    if (type(a) == \"float\" or type(b) == float):\n",
    "        return 0\n",
    "    a = set(a.split(\", \"))\n",
    "    b = set(b.split(\", \"))\n",
    "    intersect = a.intersection(b)\n",
    "    union = a.union(b)\n",
    "    return float(len(intersect)) / len(union)\n",
    "\n",
    "nicaless_genres = writer_genres['Genres'][writer_genres['Writer Name'] == \"Nicaless\"].values[0]\n",
    "abookishbabe_genres = writer_genres['Genres'][writer_genres['Writer Name'] == \"abookishbabe\"].values[0]\n",
    "jaccard(nicaless_genres, abookishbabe_genres)"
   ]
  },
  {
   "cell_type": "markdown",
   "metadata": {},
   "source": [
    "Here defines a function that uses the jaccard function to calculate the distance between a given writer's list of genres and all other writers' genres and returns a set of suggested genres based on the top ten closes writers."
   ]
  },
  {
   "cell_type": "code",
   "execution_count": 92,
   "metadata": {
    "collapsed": false
   },
   "outputs": [],
   "source": [
    "def getSimilar(writer):\n",
    "    my_genres = writer_genres['Genres'][writer_genres['Writer Name'] == writer].values[0]\n",
    "    \n",
    "    writers = []\n",
    "    genres = []\n",
    "    score = []\n",
    "    for i in range(0, len(writer_genres)):\n",
    "        writer_name = writer_genres['Writer Name'][i]\n",
    "        other_genres = writer_genres['Genres'][i]\n",
    "        writers.append(writer_name)\n",
    "        genres.append(other_genres)\n",
    "        score.append(jaccard(my_genres, other_genres))\n",
    "    df = pd.DataFrame(writers)\n",
    "    df['genres'] = genres\n",
    "    df['score'] = score\n",
    "    df = df[df['score'] != 1.0]\n",
    "    df = df.sort(['score'], ascending=0)\n",
    "    \n",
    "    suggested_genres = df['genres'][0:10]\n",
    "    \n",
    "    new_genres = []\n",
    "    for i in suggested_genres:\n",
    "        i = i.split(\", \")\n",
    "        for j in i:\n",
    "            new_genres.append(j)\n",
    "    new_genres = (set(new_genres)).difference(set(my_genres.split(\", \")))\n",
    "    # if there are no new genres to suggest, suggest the top genres\n",
    "    if len(new_genres) == 0:\n",
    "        new_genres = set([\"Fantasy\", \"Young Adult\", \"Science Fiction\"])\n",
    "    print \"I suggest you try writing for the following genres:\"\n",
    "    return new_genres\n"
   ]
  },
  {
   "cell_type": "code",
   "execution_count": 93,
   "metadata": {
    "collapsed": false
   },
   "outputs": [
    {
     "name": "stdout",
     "output_type": "stream",
     "text": [
      "I suggest you try writing for the following genres:\n"
     ]
    },
    {
     "data": {
      "text/plain": [
       "{'Romance', 'Science Fiction', 'Young Adult & Youth', 'nan'}"
      ]
     },
     "execution_count": 93,
     "metadata": {},
     "output_type": "execute_result"
    }
   ],
   "source": [
    "getSimilar(\"Nicaless\")"
   ]
  },
  {
   "cell_type": "code",
   "execution_count": 94,
   "metadata": {
    "collapsed": false
   },
   "outputs": [
    {
     "name": "stdout",
     "output_type": "stream",
     "text": [
      "I suggest you try writing for the following genres:\n"
     ]
    },
    {
     "data": {
      "text/plain": [
       "{'Fanfiction',\n",
       " 'Non-Fiction',\n",
       " 'Romance',\n",
       " 'Science Fiction',\n",
       " 'Steampunk',\n",
       " 'Thriller/Suspense',\n",
       " 'Young Adult',\n",
       " 'nan'}"
      ]
     },
     "execution_count": 94,
     "metadata": {},
     "output_type": "execute_result"
    }
   ],
   "source": [
    "getSimilar(\"Trillian Anderson\")"
   ]
  },
  {
   "cell_type": "code",
   "execution_count": 95,
   "metadata": {
    "collapsed": false
   },
   "outputs": [
    {
     "name": "stdout",
     "output_type": "stream",
     "text": [
      "I suggest you try writing for the following genres:\n"
     ]
    },
    {
     "data": {
      "text/plain": [
       "{'Fantasy', 'Science Fiction', 'Young Adult'}"
      ]
     },
     "execution_count": 95,
     "metadata": {},
     "output_type": "execute_result"
    }
   ],
   "source": [
    "getSimilar(\"AmberMeyer\")"
   ]
  },
  {
   "cell_type": "code",
   "execution_count": 96,
   "metadata": {
    "collapsed": false
   },
   "outputs": [
    {
     "name": "stdout",
     "output_type": "stream",
     "text": [
      "I suggest you try writing for the following genres:\n"
     ]
    },
    {
     "data": {
      "text/plain": [
       "{'Romance', 'Science Fiction', 'Young Adult & Youth', 'nan'}"
      ]
     },
     "execution_count": 96,
     "metadata": {},
     "output_type": "execute_result"
    }
   ],
   "source": [
    "getSimilar(\"Brandon Sanderson\")"
   ]
  },
  {
   "cell_type": "markdown",
   "metadata": {},
   "source": [
    "Cool! Looks like I have a lot in common with what Brandon Sanderson writes based on our recommendations! "
   ]
  },
  {
   "cell_type": "markdown",
   "metadata": {},
   "source": [
    "Of course, this recommender only works for writers already in my list of writers and their known past-written genres, but I'm hoping it's a list that will continue to expand."
   ]
  },
  {
   "cell_type": "code",
   "execution_count": null,
   "metadata": {
    "collapsed": true
   },
   "outputs": [],
   "source": []
  }
 ],
 "metadata": {
  "kernelspec": {
   "display_name": "Python 2",
   "language": "python",
   "name": "python2"
  },
  "language_info": {
   "codemirror_mode": {
    "name": "ipython",
    "version": 2
   },
   "file_extension": ".py",
   "mimetype": "text/x-python",
   "name": "python",
   "nbconvert_exporter": "python",
   "pygments_lexer": "ipython2",
   "version": "2.7.11"
  }
 },
 "nbformat": 4,
 "nbformat_minor": 0
}
