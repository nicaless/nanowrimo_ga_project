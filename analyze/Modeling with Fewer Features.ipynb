{
 "cells": [
  {
   "cell_type": "markdown",
   "metadata": {},
   "source": [
    "# Predicting NaNoWriMo winners with Logistic Regression"
   ]
  },
  {
   "cell_type": "markdown",
   "metadata": {},
   "source": [
    "In my first attempt at Logistic Regression I used all the numeric features, but now I want to exclude information from the contest that has already started.  "
   ]
  },
  {
   "cell_type": "code",
   "execution_count": 1,
   "metadata": {
    "collapsed": false
   },
   "outputs": [
    {
     "data": {
      "text/html": [
       "<div>\n",
       "<table border=\"1\" class=\"dataframe\">\n",
       "  <thead>\n",
       "    <tr style=\"text-align: right;\">\n",
       "      <th></th>\n",
       "      <th>Writer Name</th>\n",
       "      <th>Member Length</th>\n",
       "      <th>LifetimeWordCount</th>\n",
       "      <th>url</th>\n",
       "      <th>Age</th>\n",
       "      <th>Birthday</th>\n",
       "      <th>Favorite books or authors</th>\n",
       "      <th>Favorite noveling music</th>\n",
       "      <th>Hobbies</th>\n",
       "      <th>Location</th>\n",
       "      <th>...</th>\n",
       "      <th>Expected Max Submission</th>\n",
       "      <th>Expected Max Day</th>\n",
       "      <th>Expected Std Submissions</th>\n",
       "      <th>Expected Consec Subs</th>\n",
       "      <th>FW Total</th>\n",
       "      <th>FW Sub</th>\n",
       "      <th>FH Total</th>\n",
       "      <th>FH Sub</th>\n",
       "      <th>SH Total</th>\n",
       "      <th>SH Sub</th>\n",
       "    </tr>\n",
       "  </thead>\n",
       "  <tbody>\n",
       "    <tr>\n",
       "      <th>0</th>\n",
       "      <td>Nicaless</td>\n",
       "      <td>2</td>\n",
       "      <td>50919</td>\n",
       "      <td>http://nanowrimo.org/participants/nicaless</td>\n",
       "      <td>24</td>\n",
       "      <td>December 20</td>\n",
       "      <td>Ursula Le Guin, J.K.</td>\n",
       "      <td>Classical, Musicals</td>\n",
       "      <td>Reading, Video Games, Blogging, Learning</td>\n",
       "      <td>San Francisco, CA</td>\n",
       "      <td>...</td>\n",
       "      <td>24935.0</td>\n",
       "      <td>28.000000</td>\n",
       "      <td>6235.712933</td>\n",
       "      <td>12.000000</td>\n",
       "      <td>6689</td>\n",
       "      <td>6</td>\n",
       "      <td>12486</td>\n",
       "      <td>9</td>\n",
       "      <td>11743</td>\n",
       "      <td>3</td>\n",
       "    </tr>\n",
       "    <tr>\n",
       "      <th>1</th>\n",
       "      <td>Rachel B. Moore</td>\n",
       "      <td>10</td>\n",
       "      <td>478090</td>\n",
       "      <td>http://nanowrimo.org/participants/rachel-b-moore</td>\n",
       "      <td>NaN</td>\n",
       "      <td>NaN</td>\n",
       "      <td>2666, Unaccustomed Earth, Exit Music, Crazy Lo...</td>\n",
       "      <td>Belle and Sebastian, Elliott Smith, PJ Harvey,...</td>\n",
       "      <td>Reading, volunteering, knitting, listening to ...</td>\n",
       "      <td>San Francisco</td>\n",
       "      <td>...</td>\n",
       "      <td>3809.0</td>\n",
       "      <td>9.000000</td>\n",
       "      <td>1002.295167</td>\n",
       "      <td>6.800000</td>\n",
       "      <td>16722</td>\n",
       "      <td>7</td>\n",
       "      <td>24086</td>\n",
       "      <td>14</td>\n",
       "      <td>26517</td>\n",
       "      <td>14</td>\n",
       "    </tr>\n",
       "    <tr>\n",
       "      <th>2</th>\n",
       "      <td>abookishbabe</td>\n",
       "      <td>1</td>\n",
       "      <td>0</td>\n",
       "      <td>http://nanowrimo.org/participants/abookishbabe</td>\n",
       "      <td>NaN</td>\n",
       "      <td>April 2</td>\n",
       "      <td>Colleen Hoover, Veronica Roth, Jennifer Niven,...</td>\n",
       "      <td>Tori Kelley</td>\n",
       "      <td>Reading (DUH), Day dreaming, Going to Disneyla...</td>\n",
       "      <td>Sacramento, CA</td>\n",
       "      <td>...</td>\n",
       "      <td>NaN</td>\n",
       "      <td>NaN</td>\n",
       "      <td>NaN</td>\n",
       "      <td>NaN</td>\n",
       "      <td>28632</td>\n",
       "      <td>1</td>\n",
       "      <td>29299</td>\n",
       "      <td>2</td>\n",
       "      <td>0</td>\n",
       "      <td>0</td>\n",
       "    </tr>\n",
       "    <tr>\n",
       "      <th>3</th>\n",
       "      <td>alexabexis</td>\n",
       "      <td>11</td>\n",
       "      <td>475500</td>\n",
       "      <td>http://nanowrimo.org/participants/alexabexis</td>\n",
       "      <td>NaN</td>\n",
       "      <td>NaN</td>\n",
       "      <td>NaN</td>\n",
       "      <td>Three Goddesses playlist Florence + the Machin...</td>\n",
       "      <td>drawing, reading, movies &amp; TV shows, comics, p...</td>\n",
       "      <td>New York City</td>\n",
       "      <td>...</td>\n",
       "      <td>2325.0</td>\n",
       "      <td>8.545455</td>\n",
       "      <td>570.626795</td>\n",
       "      <td>8.090909</td>\n",
       "      <td>25360</td>\n",
       "      <td>7</td>\n",
       "      <td>38034</td>\n",
       "      <td>12</td>\n",
       "      <td>40766</td>\n",
       "      <td>9</td>\n",
       "    </tr>\n",
       "    <tr>\n",
       "      <th>4</th>\n",
       "      <td>AllYellowFlowers</td>\n",
       "      <td>3</td>\n",
       "      <td>30428</td>\n",
       "      <td>http://nanowrimo.org/participants/AllYellowFlo...</td>\n",
       "      <td>NaN</td>\n",
       "      <td>NaN</td>\n",
       "      <td>Lolita, Jesus' Son, Ask the</td>\n",
       "      <td>the sound of the coffeemaker</td>\n",
       "      <td>cryptozoology</td>\n",
       "      <td>Allston</td>\n",
       "      <td>...</td>\n",
       "      <td>2054.5</td>\n",
       "      <td>4.500000</td>\n",
       "      <td>538.273315</td>\n",
       "      <td>21.000000</td>\n",
       "      <td>1800</td>\n",
       "      <td>5</td>\n",
       "      <td>5300</td>\n",
       "      <td>10</td>\n",
       "      <td>5700</td>\n",
       "      <td>9</td>\n",
       "    </tr>\n",
       "  </tbody>\n",
       "</table>\n",
       "<p>5 rows × 41 columns</p>\n",
       "</div>"
      ],
      "text/plain": [
       "        Writer Name  Member Length  LifetimeWordCount  \\\n",
       "0          Nicaless              2              50919   \n",
       "1   Rachel B. Moore             10             478090   \n",
       "2      abookishbabe              1                  0   \n",
       "3        alexabexis             11             475500   \n",
       "4  AllYellowFlowers              3              30428   \n",
       "\n",
       "                                                 url  Age     Birthday  \\\n",
       "0         http://nanowrimo.org/participants/nicaless   24  December 20   \n",
       "1   http://nanowrimo.org/participants/rachel-b-moore  NaN          NaN   \n",
       "2     http://nanowrimo.org/participants/abookishbabe  NaN      April 2   \n",
       "3       http://nanowrimo.org/participants/alexabexis  NaN          NaN   \n",
       "4  http://nanowrimo.org/participants/AllYellowFlo...  NaN          NaN   \n",
       "\n",
       "                           Favorite books or authors  \\\n",
       "0                               Ursula Le Guin, J.K.   \n",
       "1  2666, Unaccustomed Earth, Exit Music, Crazy Lo...   \n",
       "2  Colleen Hoover, Veronica Roth, Jennifer Niven,...   \n",
       "3                                                NaN   \n",
       "4                        Lolita, Jesus' Son, Ask the   \n",
       "\n",
       "                             Favorite noveling music  \\\n",
       "0                                Classical, Musicals   \n",
       "1  Belle and Sebastian, Elliott Smith, PJ Harvey,...   \n",
       "2                                        Tori Kelley   \n",
       "3  Three Goddesses playlist Florence + the Machin...   \n",
       "4                       the sound of the coffeemaker   \n",
       "\n",
       "                                             Hobbies           Location  \\\n",
       "0           Reading, Video Games, Blogging, Learning  San Francisco, CA   \n",
       "1  Reading, volunteering, knitting, listening to ...      San Francisco   \n",
       "2  Reading (DUH), Day dreaming, Going to Disneyla...     Sacramento, CA   \n",
       "3  drawing, reading, movies & TV shows, comics, p...      New York City   \n",
       "4                                      cryptozoology            Allston   \n",
       "\n",
       "    ...   Expected Max Submission Expected Max Day Expected Std Submissions  \\\n",
       "0   ...                   24935.0        28.000000              6235.712933   \n",
       "1   ...                    3809.0         9.000000              1002.295167   \n",
       "2   ...                       NaN              NaN                      NaN   \n",
       "3   ...                    2325.0         8.545455               570.626795   \n",
       "4   ...                    2054.5         4.500000               538.273315   \n",
       "\n",
       "   Expected Consec Subs  FW Total  FW Sub  FH Total  FH Sub  SH Total  SH Sub  \n",
       "0             12.000000      6689       6     12486       9     11743       3  \n",
       "1              6.800000     16722       7     24086      14     26517      14  \n",
       "2                   NaN     28632       1     29299       2         0       0  \n",
       "3              8.090909     25360       7     38034      12     40766       9  \n",
       "4             21.000000      1800       5      5300      10      5700       9  \n",
       "\n",
       "[5 rows x 41 columns]"
      ]
     },
     "execution_count": 1,
     "metadata": {},
     "output_type": "execute_result"
    }
   ],
   "source": [
    "# import the data\n",
    "import pandas as pd\n",
    "import numpy as np\n",
    "import warnings\n",
    "warnings.filterwarnings('ignore')\n",
    "\n",
    "writers = pd.read_csv(\"../clean data/user_summary_no2015.csv\", index_col=0)\n",
    "writers.head()"
   ]
  },
  {
   "cell_type": "code",
   "execution_count": 2,
   "metadata": {
    "collapsed": false
   },
   "outputs": [
    {
     "data": {
      "text/plain": [
       "Index([u'Writer Name', u'Member Length', u'LifetimeWordCount', u'url', u'Age',\n",
       "       u'Birthday', u'Favorite books or authors', u'Favorite noveling music',\n",
       "       u'Hobbies', u'Location', u'Occupation', u'Primary Role',\n",
       "       u'Sponsorship URL', u'Expected Final Word Count',\n",
       "       u'Expected Daily Average', u'CURRENT WINNER', u'Current Donor', u'Wins',\n",
       "       u'Donations', u'Participated', u'Consecutive Donor',\n",
       "       u'Consecutive Wins', u'Consecutive Part', u'Part Years', u'Win Years',\n",
       "       u'Donor Years', u'Num Novels', u'Expected Num Submissions',\n",
       "       u'Expected Avg Submission', u'Expected Min Submission',\n",
       "       u'Expected Min Day', u'Expected Max Submission', u'Expected Max Day',\n",
       "       u'Expected Std Submissions', u'Expected Consec Subs', u'FW Total',\n",
       "       u'FW Sub', u'FH Total', u'FH Sub', u'SH Total', u'SH Sub'],\n",
       "      dtype='object')"
      ]
     },
     "execution_count": 2,
     "metadata": {},
     "output_type": "execute_result"
    }
   ],
   "source": [
    "writers.columns"
   ]
  },
  {
   "cell_type": "code",
   "execution_count": 3,
   "metadata": {
    "collapsed": false
   },
   "outputs": [],
   "source": [
    "# convert primary role and sponsorship url to binary vars\n",
    "writers['Primary Role'][writers['Primary Role'] == 'Municipal Liaison'] = 1\n",
    "writers['Primary Role'][writers['Primary Role'] != 1] = 0\n",
    "\n",
    "writers['Sponsorship URL'].fillna(0, inplace=True)\n",
    "writers['Sponsorship URL'][writers['Sponsorship URL'] != 0] = 1"
   ]
  },
  {
   "cell_type": "code",
   "execution_count": 2,
   "metadata": {
    "collapsed": false
   },
   "outputs": [
    {
     "data": {
      "text/plain": [
       "Index([u'Member Length', u'LifetimeWordCount', u'Age',\n",
       "       u'Expected Final Word Count', u'Expected Daily Average',\n",
       "       u'CURRENT WINNER', u'Current Donor', u'Wins', u'Donations',\n",
       "       u'Participated', u'Consecutive Donor', u'Consecutive Wins',\n",
       "       u'Consecutive Part', u'Num Novels', u'Expected Num Submissions',\n",
       "       u'Expected Avg Submission', u'Expected Min Submission',\n",
       "       u'Expected Min Day', u'Expected Max Submission', u'Expected Max Day',\n",
       "       u'Expected Std Submissions', u'Expected Consec Subs', u'FW Total',\n",
       "       u'FW Sub', u'FH Total', u'FH Sub', u'SH Total', u'SH Sub'],\n",
       "      dtype='object')"
      ]
     },
     "execution_count": 2,
     "metadata": {},
     "output_type": "execute_result"
    }
   ],
   "source": [
    "# let's keep ALL NUMERIAL COLUMNS except the CURRENT WINNER column which we will use as response\n",
    "features = writers._get_numeric_data()\n",
    "features.columns"
   ]
  },
  {
   "cell_type": "code",
   "execution_count": 3,
   "metadata": {
    "collapsed": false
   },
   "outputs": [
    {
     "data": {
      "text/html": [
       "<div>\n",
       "<table border=\"1\" class=\"dataframe\">\n",
       "  <thead>\n",
       "    <tr style=\"text-align: right;\">\n",
       "      <th></th>\n",
       "      <th>Member Length</th>\n",
       "      <th>LifetimeWordCount</th>\n",
       "      <th>Age</th>\n",
       "      <th>Expected Final Word Count</th>\n",
       "      <th>Expected Daily Average</th>\n",
       "      <th>Wins</th>\n",
       "      <th>Donations</th>\n",
       "      <th>Participated</th>\n",
       "      <th>Consecutive Donor</th>\n",
       "      <th>Consecutive Wins</th>\n",
       "      <th>Consecutive Part</th>\n",
       "      <th>Num Novels</th>\n",
       "      <th>Expected Num Submissions</th>\n",
       "      <th>Expected Avg Submission</th>\n",
       "      <th>Expected Min Submission</th>\n",
       "      <th>Expected Min Day</th>\n",
       "      <th>Expected Max Submission</th>\n",
       "      <th>Expected Max Day</th>\n",
       "      <th>Expected Std Submissions</th>\n",
       "      <th>Expected Consec Subs</th>\n",
       "    </tr>\n",
       "  </thead>\n",
       "  <tbody>\n",
       "    <tr>\n",
       "      <th>0</th>\n",
       "      <td>2</td>\n",
       "      <td>50919</td>\n",
       "      <td>24</td>\n",
       "      <td>50919.000000</td>\n",
       "      <td>1697.300000</td>\n",
       "      <td>1</td>\n",
       "      <td>1</td>\n",
       "      <td>1</td>\n",
       "      <td>1</td>\n",
       "      <td>1</td>\n",
       "      <td>1</td>\n",
       "      <td>1</td>\n",
       "      <td>14.000000</td>\n",
       "      <td>3637.071429</td>\n",
       "      <td>299.0</td>\n",
       "      <td>2.000000</td>\n",
       "      <td>24935.0</td>\n",
       "      <td>28.000000</td>\n",
       "      <td>6235.712933</td>\n",
       "      <td>12.000000</td>\n",
       "    </tr>\n",
       "    <tr>\n",
       "      <th>1</th>\n",
       "      <td>10</td>\n",
       "      <td>478090</td>\n",
       "      <td>NaN</td>\n",
       "      <td>47809.000000</td>\n",
       "      <td>1593.633333</td>\n",
       "      <td>8</td>\n",
       "      <td>8</td>\n",
       "      <td>10</td>\n",
       "      <td>8</td>\n",
       "      <td>7</td>\n",
       "      <td>10</td>\n",
       "      <td>10</td>\n",
       "      <td>8.300000</td>\n",
       "      <td>918.057453</td>\n",
       "      <td>42.7</td>\n",
       "      <td>7.700000</td>\n",
       "      <td>3809.0</td>\n",
       "      <td>9.000000</td>\n",
       "      <td>1002.295167</td>\n",
       "      <td>6.800000</td>\n",
       "    </tr>\n",
       "    <tr>\n",
       "      <th>2</th>\n",
       "      <td>1</td>\n",
       "      <td>0</td>\n",
       "      <td>NaN</td>\n",
       "      <td>NaN</td>\n",
       "      <td>NaN</td>\n",
       "      <td>0</td>\n",
       "      <td>0</td>\n",
       "      <td>0</td>\n",
       "      <td>0</td>\n",
       "      <td>0</td>\n",
       "      <td>0</td>\n",
       "      <td>NaN</td>\n",
       "      <td>NaN</td>\n",
       "      <td>NaN</td>\n",
       "      <td>NaN</td>\n",
       "      <td>NaN</td>\n",
       "      <td>NaN</td>\n",
       "      <td>NaN</td>\n",
       "      <td>NaN</td>\n",
       "      <td>NaN</td>\n",
       "    </tr>\n",
       "    <tr>\n",
       "      <th>3</th>\n",
       "      <td>11</td>\n",
       "      <td>475500</td>\n",
       "      <td>NaN</td>\n",
       "      <td>43227.272727</td>\n",
       "      <td>1440.909091</td>\n",
       "      <td>7</td>\n",
       "      <td>7</td>\n",
       "      <td>11</td>\n",
       "      <td>4</td>\n",
       "      <td>4</td>\n",
       "      <td>11</td>\n",
       "      <td>11</td>\n",
       "      <td>9.272727</td>\n",
       "      <td>822.780595</td>\n",
       "      <td>36.0</td>\n",
       "      <td>6.727273</td>\n",
       "      <td>2325.0</td>\n",
       "      <td>8.545455</td>\n",
       "      <td>570.626795</td>\n",
       "      <td>8.090909</td>\n",
       "    </tr>\n",
       "    <tr>\n",
       "      <th>4</th>\n",
       "      <td>3</td>\n",
       "      <td>30428</td>\n",
       "      <td>NaN</td>\n",
       "      <td>15214.000000</td>\n",
       "      <td>507.133333</td>\n",
       "      <td>0</td>\n",
       "      <td>0</td>\n",
       "      <td>2</td>\n",
       "      <td>0</td>\n",
       "      <td>0</td>\n",
       "      <td>1</td>\n",
       "      <td>2</td>\n",
       "      <td>22.000000</td>\n",
       "      <td>678.318083</td>\n",
       "      <td>50.0</td>\n",
       "      <td>10.500000</td>\n",
       "      <td>2054.5</td>\n",
       "      <td>4.500000</td>\n",
       "      <td>538.273315</td>\n",
       "      <td>21.000000</td>\n",
       "    </tr>\n",
       "  </tbody>\n",
       "</table>\n",
       "</div>"
      ],
      "text/plain": [
       "   Member Length  LifetimeWordCount  Age  Expected Final Word Count  \\\n",
       "0              2              50919   24               50919.000000   \n",
       "1             10             478090  NaN               47809.000000   \n",
       "2              1                  0  NaN                        NaN   \n",
       "3             11             475500  NaN               43227.272727   \n",
       "4              3              30428  NaN               15214.000000   \n",
       "\n",
       "   Expected Daily Average  Wins  Donations  Participated  Consecutive Donor  \\\n",
       "0             1697.300000     1          1             1                  1   \n",
       "1             1593.633333     8          8            10                  8   \n",
       "2                     NaN     0          0             0                  0   \n",
       "3             1440.909091     7          7            11                  4   \n",
       "4              507.133333     0          0             2                  0   \n",
       "\n",
       "   Consecutive Wins  Consecutive Part  Num Novels  Expected Num Submissions  \\\n",
       "0                 1                 1           1                 14.000000   \n",
       "1                 7                10          10                  8.300000   \n",
       "2                 0                 0         NaN                       NaN   \n",
       "3                 4                11          11                  9.272727   \n",
       "4                 0                 1           2                 22.000000   \n",
       "\n",
       "   Expected Avg Submission  Expected Min Submission  Expected Min Day  \\\n",
       "0              3637.071429                    299.0          2.000000   \n",
       "1               918.057453                     42.7          7.700000   \n",
       "2                      NaN                      NaN               NaN   \n",
       "3               822.780595                     36.0          6.727273   \n",
       "4               678.318083                     50.0         10.500000   \n",
       "\n",
       "   Expected Max Submission  Expected Max Day  Expected Std Submissions  \\\n",
       "0                  24935.0         28.000000               6235.712933   \n",
       "1                   3809.0          9.000000               1002.295167   \n",
       "2                      NaN               NaN                       NaN   \n",
       "3                   2325.0          8.545455                570.626795   \n",
       "4                   2054.5          4.500000                538.273315   \n",
       "\n",
       "   Expected Consec Subs  \n",
       "0             12.000000  \n",
       "1              6.800000  \n",
       "2                   NaN  \n",
       "3              8.090909  \n",
       "4             21.000000  "
      ]
     },
     "execution_count": 3,
     "metadata": {},
     "output_type": "execute_result"
    }
   ],
   "source": [
    "del features['CURRENT WINNER']\n",
    "# delete features that would only be collected after a contest starts\n",
    "del features['Current Donor']\n",
    "del features['FW Total']\n",
    "del features['FW Sub']\n",
    "del features['FH Total']\n",
    "del features['FH Sub']\n",
    "del features['SH Total']\n",
    "del features['SH Sub']\n",
    "features.head()"
   ]
  },
  {
   "cell_type": "code",
   "execution_count": 4,
   "metadata": {
    "collapsed": false
   },
   "outputs": [],
   "source": [
    "y = writers['CURRENT WINNER'].values"
   ]
  },
  {
   "cell_type": "code",
   "execution_count": 5,
   "metadata": {
    "collapsed": false
   },
   "outputs": [
    {
     "data": {
      "text/html": [
       "<div>\n",
       "<table border=\"1\" class=\"dataframe\">\n",
       "  <thead>\n",
       "    <tr style=\"text-align: right;\">\n",
       "      <th></th>\n",
       "      <th>Member Length</th>\n",
       "      <th>LifetimeWordCount</th>\n",
       "      <th>Age</th>\n",
       "      <th>Expected Final Word Count</th>\n",
       "      <th>Expected Daily Average</th>\n",
       "      <th>Wins</th>\n",
       "      <th>Donations</th>\n",
       "      <th>Participated</th>\n",
       "      <th>Consecutive Donor</th>\n",
       "      <th>Consecutive Wins</th>\n",
       "      <th>Consecutive Part</th>\n",
       "      <th>Num Novels</th>\n",
       "      <th>Expected Num Submissions</th>\n",
       "      <th>Expected Avg Submission</th>\n",
       "      <th>Expected Min Submission</th>\n",
       "      <th>Expected Min Day</th>\n",
       "      <th>Expected Max Submission</th>\n",
       "      <th>Expected Max Day</th>\n",
       "      <th>Expected Std Submissions</th>\n",
       "      <th>Expected Consec Subs</th>\n",
       "    </tr>\n",
       "  </thead>\n",
       "  <tbody>\n",
       "    <tr>\n",
       "      <th>count</th>\n",
       "      <td>501.000000</td>\n",
       "      <td>501.000000</td>\n",
       "      <td>501.000000</td>\n",
       "      <td>501.000000</td>\n",
       "      <td>501.000000</td>\n",
       "      <td>501.000000</td>\n",
       "      <td>501.000000</td>\n",
       "      <td>501.000000</td>\n",
       "      <td>501.000000</td>\n",
       "      <td>501.000000</td>\n",
       "      <td>501.000000</td>\n",
       "      <td>501.000000</td>\n",
       "      <td>501.000000</td>\n",
       "      <td>501.000000</td>\n",
       "      <td>501.000000</td>\n",
       "      <td>501.000000</td>\n",
       "      <td>501.000000</td>\n",
       "      <td>501.000000</td>\n",
       "      <td>501.000000</td>\n",
       "      <td>501.000000</td>\n",
       "    </tr>\n",
       "    <tr>\n",
       "      <th>mean</th>\n",
       "      <td>4.212575</td>\n",
       "      <td>172552.676647</td>\n",
       "      <td>8.596806</td>\n",
       "      <td>36428.312194</td>\n",
       "      <td>1214.277073</td>\n",
       "      <td>2.606786</td>\n",
       "      <td>1.421158</td>\n",
       "      <td>3.656687</td>\n",
       "      <td>1.047904</td>\n",
       "      <td>1.960080</td>\n",
       "      <td>3.057884</td>\n",
       "      <td>3.377246</td>\n",
       "      <td>10.826177</td>\n",
       "      <td>1708.026777</td>\n",
       "      <td>73.105821</td>\n",
       "      <td>6.128300</td>\n",
       "      <td>4764.389341</td>\n",
       "      <td>10.005534</td>\n",
       "      <td>1314.411102</td>\n",
       "      <td>9.573348</td>\n",
       "    </tr>\n",
       "    <tr>\n",
       "      <th>std</th>\n",
       "      <td>3.255209</td>\n",
       "      <td>329113.331830</td>\n",
       "      <td>14.463648</td>\n",
       "      <td>43782.218313</td>\n",
       "      <td>1459.407277</td>\n",
       "      <td>4.651782</td>\n",
       "      <td>3.044384</td>\n",
       "      <td>4.899582</td>\n",
       "      <td>1.760029</td>\n",
       "      <td>2.539764</td>\n",
       "      <td>2.946632</td>\n",
       "      <td>3.451290</td>\n",
       "      <td>8.520344</td>\n",
       "      <td>2053.622361</td>\n",
       "      <td>1566.761571</td>\n",
       "      <td>6.145692</td>\n",
       "      <td>5727.358954</td>\n",
       "      <td>8.406292</td>\n",
       "      <td>2011.241171</td>\n",
       "      <td>8.393503</td>\n",
       "    </tr>\n",
       "    <tr>\n",
       "      <th>min</th>\n",
       "      <td>0.166667</td>\n",
       "      <td>0.000000</td>\n",
       "      <td>0.000000</td>\n",
       "      <td>0.000000</td>\n",
       "      <td>0.000000</td>\n",
       "      <td>0.000000</td>\n",
       "      <td>0.000000</td>\n",
       "      <td>0.000000</td>\n",
       "      <td>0.000000</td>\n",
       "      <td>0.000000</td>\n",
       "      <td>0.000000</td>\n",
       "      <td>0.000000</td>\n",
       "      <td>0.000000</td>\n",
       "      <td>0.000000</td>\n",
       "      <td>-21113.500000</td>\n",
       "      <td>0.000000</td>\n",
       "      <td>0.000000</td>\n",
       "      <td>0.000000</td>\n",
       "      <td>0.000000</td>\n",
       "      <td>0.000000</td>\n",
       "    </tr>\n",
       "    <tr>\n",
       "      <th>25%</th>\n",
       "      <td>1.000000</td>\n",
       "      <td>9818.000000</td>\n",
       "      <td>0.000000</td>\n",
       "      <td>7443.250000</td>\n",
       "      <td>248.108333</td>\n",
       "      <td>0.000000</td>\n",
       "      <td>0.000000</td>\n",
       "      <td>1.000000</td>\n",
       "      <td>0.000000</td>\n",
       "      <td>0.000000</td>\n",
       "      <td>1.000000</td>\n",
       "      <td>1.000000</td>\n",
       "      <td>2.000000</td>\n",
       "      <td>362.750000</td>\n",
       "      <td>0.000000</td>\n",
       "      <td>1.000000</td>\n",
       "      <td>955.000000</td>\n",
       "      <td>1.000000</td>\n",
       "      <td>256.685927</td>\n",
       "      <td>0.000000</td>\n",
       "    </tr>\n",
       "    <tr>\n",
       "      <th>50%</th>\n",
       "      <td>4.000000</td>\n",
       "      <td>93385.000000</td>\n",
       "      <td>0.000000</td>\n",
       "      <td>37594.333333</td>\n",
       "      <td>1253.144444</td>\n",
       "      <td>1.000000</td>\n",
       "      <td>0.000000</td>\n",
       "      <td>2.000000</td>\n",
       "      <td>0.000000</td>\n",
       "      <td>1.000000</td>\n",
       "      <td>2.000000</td>\n",
       "      <td>2.000000</td>\n",
       "      <td>10.250000</td>\n",
       "      <td>1446.652778</td>\n",
       "      <td>85.666667</td>\n",
       "      <td>4.500000</td>\n",
       "      <td>3546.500000</td>\n",
       "      <td>9.333333</td>\n",
       "      <td>873.018486</td>\n",
       "      <td>8.500000</td>\n",
       "    </tr>\n",
       "    <tr>\n",
       "      <th>75%</th>\n",
       "      <td>6.000000</td>\n",
       "      <td>206482.000000</td>\n",
       "      <td>20.000000</td>\n",
       "      <td>50734.200000</td>\n",
       "      <td>1691.140000</td>\n",
       "      <td>3.000000</td>\n",
       "      <td>2.000000</td>\n",
       "      <td>5.000000</td>\n",
       "      <td>1.000000</td>\n",
       "      <td>3.000000</td>\n",
       "      <td>4.000000</td>\n",
       "      <td>5.000000</td>\n",
       "      <td>17.333333</td>\n",
       "      <td>2213.520000</td>\n",
       "      <td>291.500000</td>\n",
       "      <td>10.000000</td>\n",
       "      <td>6250.000000</td>\n",
       "      <td>16.200000</td>\n",
       "      <td>1516.145753</td>\n",
       "      <td>16.000000</td>\n",
       "    </tr>\n",
       "    <tr>\n",
       "      <th>max</th>\n",
       "      <td>13.000000</td>\n",
       "      <td>4562712.000000</td>\n",
       "      <td>61.000000</td>\n",
       "      <td>651816.000000</td>\n",
       "      <td>21727.200000</td>\n",
       "      <td>52.000000</td>\n",
       "      <td>36.000000</td>\n",
       "      <td>52.000000</td>\n",
       "      <td>9.000000</td>\n",
       "      <td>14.000000</td>\n",
       "      <td>14.000000</td>\n",
       "      <td>26.000000</td>\n",
       "      <td>30.000000</td>\n",
       "      <td>20869.236584</td>\n",
       "      <td>5000.000000</td>\n",
       "      <td>27.666667</td>\n",
       "      <td>51238.000000</td>\n",
       "      <td>30.000000</td>\n",
       "      <td>23874.872328</td>\n",
       "      <td>30.000000</td>\n",
       "    </tr>\n",
       "  </tbody>\n",
       "</table>\n",
       "</div>"
      ],
      "text/plain": [
       "       Member Length  LifetimeWordCount         Age  \\\n",
       "count     501.000000         501.000000  501.000000   \n",
       "mean        4.212575      172552.676647    8.596806   \n",
       "std         3.255209      329113.331830   14.463648   \n",
       "min         0.166667           0.000000    0.000000   \n",
       "25%         1.000000        9818.000000    0.000000   \n",
       "50%         4.000000       93385.000000    0.000000   \n",
       "75%         6.000000      206482.000000   20.000000   \n",
       "max        13.000000     4562712.000000   61.000000   \n",
       "\n",
       "       Expected Final Word Count  Expected Daily Average        Wins  \\\n",
       "count                 501.000000              501.000000  501.000000   \n",
       "mean                36428.312194             1214.277073    2.606786   \n",
       "std                 43782.218313             1459.407277    4.651782   \n",
       "min                     0.000000                0.000000    0.000000   \n",
       "25%                  7443.250000              248.108333    0.000000   \n",
       "50%                 37594.333333             1253.144444    1.000000   \n",
       "75%                 50734.200000             1691.140000    3.000000   \n",
       "max                651816.000000            21727.200000   52.000000   \n",
       "\n",
       "        Donations  Participated  Consecutive Donor  Consecutive Wins  \\\n",
       "count  501.000000    501.000000         501.000000        501.000000   \n",
       "mean     1.421158      3.656687           1.047904          1.960080   \n",
       "std      3.044384      4.899582           1.760029          2.539764   \n",
       "min      0.000000      0.000000           0.000000          0.000000   \n",
       "25%      0.000000      1.000000           0.000000          0.000000   \n",
       "50%      0.000000      2.000000           0.000000          1.000000   \n",
       "75%      2.000000      5.000000           1.000000          3.000000   \n",
       "max     36.000000     52.000000           9.000000         14.000000   \n",
       "\n",
       "       Consecutive Part  Num Novels  Expected Num Submissions  \\\n",
       "count        501.000000  501.000000                501.000000   \n",
       "mean           3.057884    3.377246                 10.826177   \n",
       "std            2.946632    3.451290                  8.520344   \n",
       "min            0.000000    0.000000                  0.000000   \n",
       "25%            1.000000    1.000000                  2.000000   \n",
       "50%            2.000000    2.000000                 10.250000   \n",
       "75%            4.000000    5.000000                 17.333333   \n",
       "max           14.000000   26.000000                 30.000000   \n",
       "\n",
       "       Expected Avg Submission  Expected Min Submission  Expected Min Day  \\\n",
       "count               501.000000               501.000000        501.000000   \n",
       "mean               1708.026777                73.105821          6.128300   \n",
       "std                2053.622361              1566.761571          6.145692   \n",
       "min                   0.000000            -21113.500000          0.000000   \n",
       "25%                 362.750000                 0.000000          1.000000   \n",
       "50%                1446.652778                85.666667          4.500000   \n",
       "75%                2213.520000               291.500000         10.000000   \n",
       "max               20869.236584              5000.000000         27.666667   \n",
       "\n",
       "       Expected Max Submission  Expected Max Day  Expected Std Submissions  \\\n",
       "count               501.000000        501.000000                501.000000   \n",
       "mean               4764.389341         10.005534               1314.411102   \n",
       "std                5727.358954          8.406292               2011.241171   \n",
       "min                   0.000000          0.000000                  0.000000   \n",
       "25%                 955.000000          1.000000                256.685927   \n",
       "50%                3546.500000          9.333333                873.018486   \n",
       "75%                6250.000000         16.200000               1516.145753   \n",
       "max               51238.000000         30.000000              23874.872328   \n",
       "\n",
       "       Expected Consec Subs  \n",
       "count            501.000000  \n",
       "mean               9.573348  \n",
       "std                8.393503  \n",
       "min                0.000000  \n",
       "25%                0.000000  \n",
       "50%                8.500000  \n",
       "75%               16.000000  \n",
       "max               30.000000  "
      ]
     },
     "execution_count": 5,
     "metadata": {},
     "output_type": "execute_result"
    }
   ],
   "source": [
    "# inputting 0 for users without prior data for daily avg, avg submission, num submissions etc. and so are marked NaN\n",
    "features.fillna(0, inplace=True)\n",
    "features.describe()"
   ]
  },
  {
   "cell_type": "code",
   "execution_count": 6,
   "metadata": {
    "collapsed": false
   },
   "outputs": [],
   "source": [
    "from sklearn.linear_model import LogisticRegression\n",
    "from sklearn.preprocessing import StandardScaler\n",
    "from sklearn.cross_validation import cross_val_score\n",
    "from sklearn.cross_validation import train_test_split\n",
    "from sklearn.metrics import classification_report"
   ]
  },
  {
   "cell_type": "markdown",
   "metadata": {},
   "source": [
    "### Normalize data"
   ]
  },
  {
   "cell_type": "code",
   "execution_count": 7,
   "metadata": {
    "collapsed": false
   },
   "outputs": [
    {
     "data": {
      "text/plain": [
       "array([ 1.77967343,  0.92929298, -0.5949674 ,  0.26019839,  0.26019839,\n",
       "        1.16054543,  2.1631367 ,  1.29595831,  3.95393831,  1.98638802,\n",
       "        2.35830378,  1.92083955, -0.29678396, -0.38505565, -0.01942619,\n",
       "        0.25599572, -0.16697823, -0.11973645, -0.15534084, -0.33074635])"
      ]
     },
     "execution_count": 7,
     "metadata": {},
     "output_type": "execute_result"
    }
   ],
   "source": [
    "scaler = StandardScaler()\n",
    "features_norm = scaler.fit_transform(features)\n",
    "features_norm[1]"
   ]
  },
  {
   "cell_type": "markdown",
   "metadata": {},
   "source": [
    "### Apply Logistic Regression"
   ]
  },
  {
   "cell_type": "code",
   "execution_count": 8,
   "metadata": {
    "collapsed": false
   },
   "outputs": [],
   "source": [
    "X_train, X_test, y_train, y_test = train_test_split(features_norm,y, test_size=0.2, random_state=0)"
   ]
  },
  {
   "cell_type": "code",
   "execution_count": 14,
   "metadata": {
    "collapsed": false
   },
   "outputs": [
    {
     "name": "stdout",
     "output_type": "stream",
     "text": [
      "0.682823639775\n",
      "             precision    recall  f1-score   support\n",
      "\n",
      "          0       0.68      0.87      0.76        55\n",
      "          1       0.77      0.50      0.61        46\n",
      "\n",
      "avg / total       0.72      0.70      0.69       101\n",
      "\n",
      "0.70297029703\n"
     ]
    }
   ],
   "source": [
    "model_lr = LogisticRegression(C=5)\n",
    "print cross_val_score(model_lr,X_train, y_train,cv=10).mean()\n",
    "\n",
    "model_lr = LogisticRegression(C=5).fit(X_train, y_train)\n",
    "print classification_report(y_test,model_lr.predict(X_test))\n",
    "print model_lr.score(X_test,y_test)"
   ]
  },
  {
   "cell_type": "markdown",
   "metadata": {},
   "source": [
    "Not as accurate as when including current contest data.  Can assume then that activity in the first couple weeks of the contest is __very predictive of winning.__  \n",
    "\n",
    "Still, let's try some other models and see how they do.\n",
    "\n"
   ]
  },
  {
   "cell_type": "markdown",
   "metadata": {
    "collapsed": true
   },
   "source": [
    "### Naive Bayes"
   ]
  },
  {
   "cell_type": "code",
   "execution_count": 23,
   "metadata": {
    "collapsed": false
   },
   "outputs": [
    {
     "name": "stdout",
     "output_type": "stream",
     "text": [
      "0.670064102564\n",
      "             precision    recall  f1-score   support\n",
      "\n",
      "          0       0.65      0.87      0.74        55\n",
      "          1       0.74      0.43      0.55        46\n",
      "\n",
      "avg / total       0.69      0.67      0.65       101\n",
      "\n",
      "0.673267326733\n"
     ]
    }
   ],
   "source": [
    "from sklearn.naive_bayes import GaussianNB\n",
    "\n",
    "model_nb = GaussianNB()\n",
    "print cross_val_score(model_nb, X_train, y_train, cv=10).mean()\n",
    "\n",
    "model_nb.fit(X_train, y_train)\n",
    "print classification_report(y_test,model_nb.predict(X_test))\n",
    "print model_nb.score(X_test, y_test)"
   ]
  },
  {
   "cell_type": "markdown",
   "metadata": {},
   "source": [
    "### SVM"
   ]
  },
  {
   "cell_type": "code",
   "execution_count": 27,
   "metadata": {
    "collapsed": false
   },
   "outputs": [
    {
     "name": "stdout",
     "output_type": "stream",
     "text": [
      "0.705644152595\n",
      "             precision    recall  f1-score   support\n",
      "\n",
      "          0       0.69      0.89      0.78        55\n",
      "          1       0.80      0.52      0.63        46\n",
      "\n",
      "avg / total       0.74      0.72      0.71       101\n",
      "\n",
      "0.722772277228\n"
     ]
    }
   ],
   "source": [
    "from sklearn.svm import SVC\n",
    "\n",
    "model_svc = SVC(kernel=\"rbf\",C=1)\n",
    "print cross_val_score(model_svc, X_train, y_train, cv=10).mean()\n",
    "\n",
    "model_svc.fit(X_train, y_train)\n",
    "print classification_report(y_test,model_svc.predict(X_test))\n",
    "print model_svc.score(X_test, y_test)"
   ]
  },
  {
   "cell_type": "markdown",
   "metadata": {},
   "source": [
    "### Decision Tree"
   ]
  },
  {
   "cell_type": "code",
   "execution_count": 17,
   "metadata": {
    "collapsed": true
   },
   "outputs": [],
   "source": [
    "from sklearn.tree import DecisionTreeClassifier"
   ]
  },
  {
   "cell_type": "code",
   "execution_count": 18,
   "metadata": {
    "collapsed": false
   },
   "outputs": [
    {
     "name": "stdout",
     "output_type": "stream",
     "text": [
      "0.660243902439\n",
      "             precision    recall  f1-score   support\n",
      "\n",
      "          0       0.62      0.76      0.68        55\n",
      "          1       0.61      0.43      0.51        46\n",
      "\n",
      "avg / total       0.61      0.61      0.60       101\n",
      "\n",
      "0.613861386139\n"
     ]
    }
   ],
   "source": [
    "model_dt = DecisionTreeClassifier(max_depth=4)\n",
    "print cross_val_score(model_dt, X_train, y_train, cv=10).mean()\n",
    "\n",
    "model_dt.fit(X_train, y_train)\n",
    "print classification_report(y_test,model_dt.predict(X_test))\n",
    "print model_dt.score(X_test, y_test)"
   ]
  },
  {
   "cell_type": "code",
   "execution_count": 19,
   "metadata": {
    "collapsed": false
   },
   "outputs": [
    {
     "data": {
      "text/html": [
       "<div>\n",
       "<table border=\"1\" class=\"dataframe\">\n",
       "  <thead>\n",
       "    <tr style=\"text-align: right;\">\n",
       "      <th></th>\n",
       "      <th>0</th>\n",
       "      <th>1</th>\n",
       "    </tr>\n",
       "  </thead>\n",
       "  <tbody>\n",
       "    <tr>\n",
       "      <th>4</th>\n",
       "      <td>Expected Daily Average</td>\n",
       "      <td>0.421500</td>\n",
       "    </tr>\n",
       "    <tr>\n",
       "      <th>1</th>\n",
       "      <td>LifetimeWordCount</td>\n",
       "      <td>0.221274</td>\n",
       "    </tr>\n",
       "    <tr>\n",
       "      <th>0</th>\n",
       "      <td>Member Length</td>\n",
       "      <td>0.064714</td>\n",
       "    </tr>\n",
       "    <tr>\n",
       "      <th>14</th>\n",
       "      <td>Expected Min Submission</td>\n",
       "      <td>0.057052</td>\n",
       "    </tr>\n",
       "    <tr>\n",
       "      <th>17</th>\n",
       "      <td>Expected Max Day</td>\n",
       "      <td>0.055056</td>\n",
       "    </tr>\n",
       "  </tbody>\n",
       "</table>\n",
       "</div>"
      ],
      "text/plain": [
       "                          0         1\n",
       "4    Expected Daily Average  0.421500\n",
       "1         LifetimeWordCount  0.221274\n",
       "0             Member Length  0.064714\n",
       "14  Expected Min Submission  0.057052\n",
       "17         Expected Max Day  0.055056"
      ]
     },
     "execution_count": 19,
     "metadata": {},
     "output_type": "execute_result"
    }
   ],
   "source": [
    "dt_importances = pd.DataFrame(zip(features.columns, model_dt.feature_importances_))\n",
    "dt_importances.sort_values(1, ascending=False).head() # most to least predictive of being 0 ??? because negative? "
   ]
  },
  {
   "cell_type": "markdown",
   "metadata": {},
   "source": [
    "Without the data from the current contest, the most important features are Expected Daily Average and LifetimeWordCount, or a writer's average daily writing productivity and how much they've participated in the past"
   ]
  },
  {
   "cell_type": "markdown",
   "metadata": {},
   "source": [
    "### Random Forests"
   ]
  },
  {
   "cell_type": "code",
   "execution_count": 24,
   "metadata": {
    "collapsed": true
   },
   "outputs": [],
   "source": [
    "from sklearn.ensemble import RandomForestClassifier, AdaBoostClassifier"
   ]
  },
  {
   "cell_type": "code",
   "execution_count": 25,
   "metadata": {
    "collapsed": false
   },
   "outputs": [
    {
     "name": "stdout",
     "output_type": "stream",
     "text": [
      "0.690390869293\n",
      "             precision    recall  f1-score   support\n",
      "\n",
      "          0       0.72      0.89      0.80        55\n",
      "          1       0.82      0.59      0.68        46\n",
      "\n",
      "avg / total       0.77      0.75      0.75       101\n",
      "\n",
      "0.752475247525\n"
     ]
    }
   ],
   "source": [
    "model_rf = RandomForestClassifier(max_depth=4, n_estimators=100, max_features=2)\n",
    "print cross_val_score(model_rf, X_train, y_train, cv=10).mean()\n",
    "\n",
    "model_rf.fit(X_train, y_train)\n",
    "print classification_report(y_test,model_rf.predict(X_test))\n",
    "print model_rf.score(X_test, y_test)"
   ]
  },
  {
   "cell_type": "code",
   "execution_count": 26,
   "metadata": {
    "collapsed": false
   },
   "outputs": [
    {
     "data": {
      "text/html": [
       "<div>\n",
       "<table border=\"1\" class=\"dataframe\">\n",
       "  <thead>\n",
       "    <tr style=\"text-align: right;\">\n",
       "      <th></th>\n",
       "      <th>0</th>\n",
       "      <th>1</th>\n",
       "    </tr>\n",
       "  </thead>\n",
       "  <tbody>\n",
       "    <tr>\n",
       "      <th>4</th>\n",
       "      <td>Expected Daily Average</td>\n",
       "      <td>0.123783</td>\n",
       "    </tr>\n",
       "    <tr>\n",
       "      <th>1</th>\n",
       "      <td>LifetimeWordCount</td>\n",
       "      <td>0.110945</td>\n",
       "    </tr>\n",
       "    <tr>\n",
       "      <th>3</th>\n",
       "      <td>Expected Final Word Count</td>\n",
       "      <td>0.100577</td>\n",
       "    </tr>\n",
       "    <tr>\n",
       "      <th>9</th>\n",
       "      <td>Consecutive Wins</td>\n",
       "      <td>0.077699</td>\n",
       "    </tr>\n",
       "    <tr>\n",
       "      <th>5</th>\n",
       "      <td>Wins</td>\n",
       "      <td>0.059649</td>\n",
       "    </tr>\n",
       "  </tbody>\n",
       "</table>\n",
       "</div>"
      ],
      "text/plain": [
       "                           0         1\n",
       "4     Expected Daily Average  0.123783\n",
       "1          LifetimeWordCount  0.110945\n",
       "3  Expected Final Word Count  0.100577\n",
       "9           Consecutive Wins  0.077699\n",
       "5                       Wins  0.059649"
      ]
     },
     "execution_count": 26,
     "metadata": {},
     "output_type": "execute_result"
    }
   ],
   "source": [
    "rf_importances = pd.DataFrame(zip(features.columns, model_rf.feature_importances_))\n",
    "rf_importances.sort_values(1, ascending=False).head() # most to least predictive of being 0 ??? because negative? "
   ]
  },
  {
   "cell_type": "markdown",
   "metadata": {},
   "source": [
    "Random Forests and Support Vector Machines do best in predicting.  "
   ]
  }
 ],
 "metadata": {
  "kernelspec": {
   "display_name": "Python 2",
   "language": "python",
   "name": "python2"
  },
  "language_info": {
   "codemirror_mode": {
    "name": "ipython",
    "version": 2
   },
   "file_extension": ".py",
   "mimetype": "text/x-python",
   "name": "python",
   "nbconvert_exporter": "python",
   "pygments_lexer": "ipython2",
   "version": "2.7.11"
  }
 },
 "nbformat": 4,
 "nbformat_minor": 0
}
