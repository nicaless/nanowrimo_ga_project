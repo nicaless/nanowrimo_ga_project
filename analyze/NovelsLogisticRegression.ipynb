{
 "cells": [
  {
   "cell_type": "code",
   "execution_count": 20,
   "metadata": {
    "collapsed": true
   },
   "outputs": [],
   "source": [
    "import numpy as np\n",
    "import pandas as pd\n",
    "\n",
    "import warnings\n",
    "from matplotlib.colors import ListedColormap\n",
    "\n",
    "warnings.filterwarnings('ignore')\n",
    "%matplotlib inline\n",
    "\n",
    "from sklearn.cross_validation import train_test_split\n",
    "from sklearn.cross_validation import cross_val_score\n",
    "from sklearn.metrics import classification_report\n",
    "from sklearn import metrics"
   ]
  },
  {
   "cell_type": "code",
   "execution_count": 21,
   "metadata": {
    "collapsed": false
   },
   "outputs": [
    {
     "data": {
      "text/html": [
       "<div>\n",
       "<table border=\"1\" class=\"dataframe\">\n",
       "  <thead>\n",
       "    <tr style=\"text-align: right;\">\n",
       "      <th></th>\n",
       "      <th>Writer Name</th>\n",
       "      <th>Novel Name</th>\n",
       "      <th>Genre</th>\n",
       "      <th>Final Word Count</th>\n",
       "      <th>Daily Average</th>\n",
       "      <th>Winner</th>\n",
       "      <th>Synopses</th>\n",
       "      <th>url</th>\n",
       "      <th>Novel Date</th>\n",
       "      <th>Excerpt</th>\n",
       "      <th>...</th>\n",
       "      <th>num uniques</th>\n",
       "      <th>num sentences</th>\n",
       "      <th>paragraphs</th>\n",
       "      <th>fk score</th>\n",
       "      <th>has excerpt</th>\n",
       "      <th>num words excerpt</th>\n",
       "      <th>num uniques excerpt</th>\n",
       "      <th>num sentences excerpt</th>\n",
       "      <th>paragraphs excerpt</th>\n",
       "      <th>fk score excerpt</th>\n",
       "    </tr>\n",
       "  </thead>\n",
       "  <tbody>\n",
       "    <tr>\n",
       "      <th>0</th>\n",
       "      <td>Nicaless</td>\n",
       "      <td>Novel: Lauren's Birthday</td>\n",
       "      <td>Young Adult</td>\n",
       "      <td>24229</td>\n",
       "      <td>807</td>\n",
       "      <td>0</td>\n",
       "      <td>\\n&lt;p&gt;&lt;/p&gt;\\n</td>\n",
       "      <td>http://nanowrimo.org/participants/nicaless/nov...</td>\n",
       "      <td>November 2015</td>\n",
       "      <td>\\n&lt;p&gt;&lt;/p&gt;\\n</td>\n",
       "      <td>...</td>\n",
       "      <td>0</td>\n",
       "      <td>0</td>\n",
       "      <td>0</td>\n",
       "      <td>0.00</td>\n",
       "      <td>0</td>\n",
       "      <td>0</td>\n",
       "      <td>0</td>\n",
       "      <td>0</td>\n",
       "      <td>0</td>\n",
       "      <td>0.00</td>\n",
       "    </tr>\n",
       "    <tr>\n",
       "      <th>1</th>\n",
       "      <td>Nicaless</td>\n",
       "      <td>Novel: A Mystery in the Kingdom of Aermon</td>\n",
       "      <td>Fantasy</td>\n",
       "      <td>50919</td>\n",
       "      <td>1,697</td>\n",
       "      <td>1</td>\n",
       "      <td>\\n&lt;p&gt;Hitoshi is appointed the youngest Judge a...</td>\n",
       "      <td>http://nanowrimo.org/participants/nicaless/nov...</td>\n",
       "      <td>November 2014</td>\n",
       "      <td>\\n&lt;p&gt;This story, funnily enough, started out a...</td>\n",
       "      <td>...</td>\n",
       "      <td>42</td>\n",
       "      <td>3</td>\n",
       "      <td>1</td>\n",
       "      <td>65.73</td>\n",
       "      <td>1</td>\n",
       "      <td>132</td>\n",
       "      <td>96</td>\n",
       "      <td>13</td>\n",
       "      <td>7</td>\n",
       "      <td>78.25</td>\n",
       "    </tr>\n",
       "    <tr>\n",
       "      <th>2</th>\n",
       "      <td>Rachel B. Moore</td>\n",
       "      <td>Novel: Finding Fortunato</td>\n",
       "      <td>Literary</td>\n",
       "      <td>50603</td>\n",
       "      <td>1,686</td>\n",
       "      <td>1</td>\n",
       "      <td>\\n&lt;p&gt;Sam and Anna Gold and their newly adoptiv...</td>\n",
       "      <td>http://nanowrimo.org/participants/rachel-b-moo...</td>\n",
       "      <td>November 2015</td>\n",
       "      <td>\\n&lt;p&gt;&lt;/p&gt;\\n</td>\n",
       "      <td>...</td>\n",
       "      <td>109</td>\n",
       "      <td>7</td>\n",
       "      <td>4</td>\n",
       "      <td>58.62</td>\n",
       "      <td>0</td>\n",
       "      <td>0</td>\n",
       "      <td>0</td>\n",
       "      <td>0</td>\n",
       "      <td>0</td>\n",
       "      <td>0.00</td>\n",
       "    </tr>\n",
       "    <tr>\n",
       "      <th>3</th>\n",
       "      <td>Rachel B. Moore</td>\n",
       "      <td>Novel: The Residency</td>\n",
       "      <td>Literary</td>\n",
       "      <td>50425</td>\n",
       "      <td>1,680</td>\n",
       "      <td>1</td>\n",
       "      <td>\\n&lt;p&gt;It's every writer's dream - an all-expens...</td>\n",
       "      <td>http://nanowrimo.org/participants/rachel-b-moo...</td>\n",
       "      <td>November 2014</td>\n",
       "      <td>\\n&lt;p&gt;&lt;/p&gt;\\n</td>\n",
       "      <td>...</td>\n",
       "      <td>51</td>\n",
       "      <td>4</td>\n",
       "      <td>3</td>\n",
       "      <td>65.73</td>\n",
       "      <td>0</td>\n",
       "      <td>0</td>\n",
       "      <td>0</td>\n",
       "      <td>0</td>\n",
       "      <td>0</td>\n",
       "      <td>0.00</td>\n",
       "    </tr>\n",
       "    <tr>\n",
       "      <th>4</th>\n",
       "      <td>Rachel B. Moore</td>\n",
       "      <td>Novel: The Jew From Fortunato</td>\n",
       "      <td>Literary Fiction</td>\n",
       "      <td>41447</td>\n",
       "      <td>1,381</td>\n",
       "      <td>0</td>\n",
       "      <td>\\n&lt;p&gt;20-something Andre Levinsky is a fish out...</td>\n",
       "      <td>http://nanowrimo.org/participants/rachel-b-moo...</td>\n",
       "      <td>November 2013</td>\n",
       "      <td>\\n&lt;p&gt;&lt;/p&gt;\\n</td>\n",
       "      <td>...</td>\n",
       "      <td>93</td>\n",
       "      <td>4</td>\n",
       "      <td>1</td>\n",
       "      <td>56.93</td>\n",
       "      <td>0</td>\n",
       "      <td>0</td>\n",
       "      <td>0</td>\n",
       "      <td>0</td>\n",
       "      <td>0</td>\n",
       "      <td>0.00</td>\n",
       "    </tr>\n",
       "  </tbody>\n",
       "</table>\n",
       "<p>5 rows × 24 columns</p>\n",
       "</div>"
      ],
      "text/plain": [
       "       Writer Name                                 Novel Name  \\\n",
       "0         Nicaless                   Novel: Lauren's Birthday   \n",
       "1         Nicaless  Novel: A Mystery in the Kingdom of Aermon   \n",
       "2  Rachel B. Moore                   Novel: Finding Fortunato   \n",
       "3  Rachel B. Moore                       Novel: The Residency   \n",
       "4  Rachel B. Moore              Novel: The Jew From Fortunato   \n",
       "\n",
       "              Genre  Final Word Count Daily Average  Winner  \\\n",
       "0       Young Adult             24229           807       0   \n",
       "1           Fantasy             50919         1,697       1   \n",
       "2          Literary             50603         1,686       1   \n",
       "3          Literary             50425         1,680       1   \n",
       "4  Literary Fiction             41447         1,381       0   \n",
       "\n",
       "                                            Synopses  \\\n",
       "0                                        \\n<p></p>\\n   \n",
       "1  \\n<p>Hitoshi is appointed the youngest Judge a...   \n",
       "2  \\n<p>Sam and Anna Gold and their newly adoptiv...   \n",
       "3  \\n<p>It's every writer's dream - an all-expens...   \n",
       "4  \\n<p>20-something Andre Levinsky is a fish out...   \n",
       "\n",
       "                                                 url     Novel Date  \\\n",
       "0  http://nanowrimo.org/participants/nicaless/nov...  November 2015   \n",
       "1  http://nanowrimo.org/participants/nicaless/nov...  November 2014   \n",
       "2  http://nanowrimo.org/participants/rachel-b-moo...  November 2015   \n",
       "3  http://nanowrimo.org/participants/rachel-b-moo...  November 2014   \n",
       "4  http://nanowrimo.org/participants/rachel-b-moo...  November 2013   \n",
       "\n",
       "                                             Excerpt        ...         \\\n",
       "0                                        \\n<p></p>\\n        ...          \n",
       "1  \\n<p>This story, funnily enough, started out a...        ...          \n",
       "2                                        \\n<p></p>\\n        ...          \n",
       "3                                        \\n<p></p>\\n        ...          \n",
       "4                                        \\n<p></p>\\n        ...          \n",
       "\n",
       "   num uniques  num sentences  paragraphs  fk score  has excerpt  \\\n",
       "0            0              0           0      0.00            0   \n",
       "1           42              3           1     65.73            1   \n",
       "2          109              7           4     58.62            0   \n",
       "3           51              4           3     65.73            0   \n",
       "4           93              4           1     56.93            0   \n",
       "\n",
       "   num words excerpt  num uniques excerpt  num sentences excerpt  \\\n",
       "0                  0                    0                      0   \n",
       "1                132                   96                     13   \n",
       "2                  0                    0                      0   \n",
       "3                  0                    0                      0   \n",
       "4                  0                    0                      0   \n",
       "\n",
       "   paragraphs excerpt  fk score excerpt  \n",
       "0                   0              0.00  \n",
       "1                   7             78.25  \n",
       "2                   0              0.00  \n",
       "3                   0              0.00  \n",
       "4                   0              0.00  \n",
       "\n",
       "[5 rows x 24 columns]"
      ]
     },
     "execution_count": 21,
     "metadata": {},
     "output_type": "execute_result"
    }
   ],
   "source": [
    "novel_features = pd.read_csv(\"novel_features.csv\", index_col = 0)\n",
    "novel_features.head()"
   ]
  },
  {
   "cell_type": "code",
   "execution_count": 22,
   "metadata": {
    "collapsed": false
   },
   "outputs": [
    {
     "data": {
      "text/plain": [
       "Index([u'Winner', u'Novel Date', u'has genre', u'standard genre',\n",
       "       u'has_synopses', u'num words', u'num uniques', u'num sentences',\n",
       "       u'paragraphs', u'fk score', u'has excerpt', u'num words excerpt',\n",
       "       u'num uniques excerpt', u'num sentences excerpt', u'paragraphs excerpt',\n",
       "       u'fk score excerpt'],\n",
       "      dtype='object')"
      ]
     },
     "execution_count": 22,
     "metadata": {},
     "output_type": "execute_result"
    }
   ],
   "source": [
    "del novel_features['Novel Name']\n",
    "del novel_features['Genre']\n",
    "del novel_features['Final Word Count']\n",
    "del novel_features['Daily Average']\n",
    "del novel_features['Synopses']\n",
    "del novel_features['url']\n",
    "del novel_features['Excerpt']\n",
    "del novel_features['Writer Name']\n",
    "novel_features.columns"
   ]
  },
  {
   "cell_type": "code",
   "execution_count": 23,
   "metadata": {
    "collapsed": false
   },
   "outputs": [
    {
     "name": "stdout",
     "output_type": "stream",
     "text": [
      "0.437125748503 is the fraction of winners in the test data\n",
      "0.686806411837 is the fraction of winners in the train data\n"
     ]
    }
   ],
   "source": [
    "test = novel_features[novel_features['Novel Date'] == \"November 2015\"]\n",
    "train = novel_features[novel_features['Novel Date'] != \"November 2015\"]\n",
    "print str(sum(test['Winner'] / float(len(test)))) + \" is the fraction of winners in the test data\"\n",
    "print str(sum(train['Winner'] / float(len(train)))) + \" is the fraction of winners in the train data\""
   ]
  },
  {
   "cell_type": "code",
   "execution_count": 24,
   "metadata": {
    "collapsed": false
   },
   "outputs": [],
   "source": [
    "trainy = train['Winner']\n",
    "testy = test['Winner']\n",
    "del train['Novel Date']\n",
    "del test['Novel Date']\n",
    "del train['Winner']\n",
    "del test['Winner']"
   ]
  },
  {
   "cell_type": "markdown",
   "metadata": {},
   "source": [
    "### Logistic Regression"
   ]
  },
  {
   "cell_type": "code",
   "execution_count": 25,
   "metadata": {
    "collapsed": false
   },
   "outputs": [],
   "source": [
    "from sklearn.linear_model import LogisticRegression\n",
    "from sklearn.preprocessing import StandardScaler\n",
    "from sklearn.cross_validation import cross_val_score"
   ]
  },
  {
   "cell_type": "code",
   "execution_count": 26,
   "metadata": {
    "collapsed": false
   },
   "outputs": [
    {
     "data": {
      "text/plain": [
       "array([[ 0.26575753,  0.76621417,  0.75510524, ...,  0.05557189,\n",
       "         0.40225773,  1.14438148],\n",
       "       [ 0.26575753,  0.76621417,  0.75510524, ..., -0.25385216,\n",
       "        -0.09881021, -0.29451814],\n",
       "       [ 0.26575753, -1.30511813,  0.75510524, ..., -0.25385216,\n",
       "        -0.09881021, -0.29451814],\n",
       "       ..., \n",
       "       [ 0.26575753, -1.30511813, -1.32431871, ..., -0.25385216,\n",
       "        -0.09881021, -0.29451814],\n",
       "       [ 0.26575753,  0.76621417,  0.75510524, ..., -0.25385216,\n",
       "        -0.09881021, -0.29451814],\n",
       "       [ 0.26575753,  0.76621417, -1.32431871, ..., -0.25385216,\n",
       "        -0.09881021, -0.29451814]])"
      ]
     },
     "execution_count": 26,
     "metadata": {},
     "output_type": "execute_result"
    }
   ],
   "source": [
    "scaler = StandardScaler()\n",
    "train_norm = scaler.fit_transform(train)\n",
    "train_norm"
   ]
  },
  {
   "cell_type": "code",
   "execution_count": 29,
   "metadata": {
    "collapsed": false
   },
   "outputs": [
    {
     "data": {
      "text/plain": [
       "0.68434733683244386"
      ]
     },
     "execution_count": 29,
     "metadata": {},
     "output_type": "execute_result"
    }
   ],
   "source": [
    "model_lr = LogisticRegression(C=5)\n",
    "cross_val_score(model_lr,train_norm,trainy,cv=10).mean()"
   ]
  },
  {
   "cell_type": "code",
   "execution_count": null,
   "metadata": {
    "collapsed": true
   },
   "outputs": [],
   "source": [
    "test_norm = scaler.fit_transform(test)"
   ]
  },
  {
   "cell_type": "code",
   "execution_count": 31,
   "metadata": {
    "collapsed": false
   },
   "outputs": [
    {
     "data": {
      "text/plain": [
       "0.47305389221556887"
      ]
     },
     "execution_count": 31,
     "metadata": {},
     "output_type": "execute_result"
    }
   ],
   "source": [
    "model_lr = LogisticRegression(C=5).fit(train_norm, trainy)\n",
    "model_lr.score(test, testy)"
   ]
  },
  {
   "cell_type": "markdown",
   "metadata": {},
   "source": [
    "only slightly better than guessing.  Let's try PCA before running LogReg again? And trying Random Forests? and then use predictions in main logistic regression model"
   ]
  },
  {
   "cell_type": "code",
   "execution_count": null,
   "metadata": {
    "collapsed": true
   },
   "outputs": [],
   "source": []
  }
 ],
 "metadata": {
  "kernelspec": {
   "display_name": "Python 2",
   "language": "python",
   "name": "python2"
  },
  "language_info": {
   "codemirror_mode": {
    "name": "ipython",
    "version": 2
   },
   "file_extension": ".py",
   "mimetype": "text/x-python",
   "name": "python",
   "nbconvert_exporter": "python",
   "pygments_lexer": "ipython2",
   "version": "2.7.11"
  }
 },
 "nbformat": 4,
 "nbformat_minor": 0
}
