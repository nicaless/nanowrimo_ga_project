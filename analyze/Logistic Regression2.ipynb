{
 "cells": [
  {
   "cell_type": "markdown",
   "metadata": {},
   "source": [
    "# Predicting NaNoWriMo winners with Logistic Regression"
   ]
  },
  {
   "cell_type": "markdown",
   "metadata": {},
   "source": [
    "As the variable I want to predict is binary (1 if a writer is a winner, 0 if otherwise) I decided to use a logistic regression as my prediction model.  "
   ]
  },
  {
   "cell_type": "code",
   "execution_count": 2,
   "metadata": {
    "collapsed": false
   },
   "outputs": [
    {
     "data": {
      "text/html": [
       "<div>\n",
       "<table border=\"1\" class=\"dataframe\">\n",
       "  <thead>\n",
       "    <tr style=\"text-align: right;\">\n",
       "      <th></th>\n",
       "      <th>Writer Name</th>\n",
       "      <th>Member Length</th>\n",
       "      <th>LifetimeWordCount</th>\n",
       "      <th>url</th>\n",
       "      <th>Age</th>\n",
       "      <th>Birthday</th>\n",
       "      <th>Favorite books or authors</th>\n",
       "      <th>Favorite noveling music</th>\n",
       "      <th>Hobbies</th>\n",
       "      <th>Location</th>\n",
       "      <th>...</th>\n",
       "      <th>Expected Max Submission</th>\n",
       "      <th>Expected Max Day</th>\n",
       "      <th>Expected Std Submissions</th>\n",
       "      <th>Expected Consec Subs</th>\n",
       "      <th>FW Total</th>\n",
       "      <th>FW Sub</th>\n",
       "      <th>FH Total</th>\n",
       "      <th>FH Sub</th>\n",
       "      <th>SH Total</th>\n",
       "      <th>SH Sub</th>\n",
       "    </tr>\n",
       "  </thead>\n",
       "  <tbody>\n",
       "    <tr>\n",
       "      <th>0</th>\n",
       "      <td>Nicaless</td>\n",
       "      <td>2</td>\n",
       "      <td>50919</td>\n",
       "      <td>http://nanowrimo.org/participants/nicaless</td>\n",
       "      <td>24</td>\n",
       "      <td>December 20</td>\n",
       "      <td>Ursula Le Guin, J.K.</td>\n",
       "      <td>Classical, Musicals</td>\n",
       "      <td>Reading, Video Games, Blogging, Learning</td>\n",
       "      <td>San Francisco, CA</td>\n",
       "      <td>...</td>\n",
       "      <td>24935.0</td>\n",
       "      <td>28.000000</td>\n",
       "      <td>6235.712933</td>\n",
       "      <td>12.000000</td>\n",
       "      <td>6689</td>\n",
       "      <td>6</td>\n",
       "      <td>12486</td>\n",
       "      <td>9</td>\n",
       "      <td>11743</td>\n",
       "      <td>3</td>\n",
       "    </tr>\n",
       "    <tr>\n",
       "      <th>1</th>\n",
       "      <td>Rachel B. Moore</td>\n",
       "      <td>10</td>\n",
       "      <td>478090</td>\n",
       "      <td>http://nanowrimo.org/participants/rachel-b-moore</td>\n",
       "      <td>NaN</td>\n",
       "      <td>NaN</td>\n",
       "      <td>2666, Unaccustomed Earth, Exit Music, Crazy Lo...</td>\n",
       "      <td>Belle and Sebastian, Elliott Smith, PJ Harvey,...</td>\n",
       "      <td>Reading, volunteering, knitting, listening to ...</td>\n",
       "      <td>San Francisco</td>\n",
       "      <td>...</td>\n",
       "      <td>3809.0</td>\n",
       "      <td>9.000000</td>\n",
       "      <td>1002.295167</td>\n",
       "      <td>6.800000</td>\n",
       "      <td>16722</td>\n",
       "      <td>7</td>\n",
       "      <td>24086</td>\n",
       "      <td>14</td>\n",
       "      <td>26517</td>\n",
       "      <td>14</td>\n",
       "    </tr>\n",
       "    <tr>\n",
       "      <th>2</th>\n",
       "      <td>abookishbabe</td>\n",
       "      <td>1</td>\n",
       "      <td>0</td>\n",
       "      <td>http://nanowrimo.org/participants/abookishbabe</td>\n",
       "      <td>NaN</td>\n",
       "      <td>April 2</td>\n",
       "      <td>Colleen Hoover, Veronica Roth, Jennifer Niven,...</td>\n",
       "      <td>Tori Kelley</td>\n",
       "      <td>Reading (DUH), Day dreaming, Going to Disneyla...</td>\n",
       "      <td>Sacramento, CA</td>\n",
       "      <td>...</td>\n",
       "      <td>NaN</td>\n",
       "      <td>NaN</td>\n",
       "      <td>NaN</td>\n",
       "      <td>NaN</td>\n",
       "      <td>28632</td>\n",
       "      <td>1</td>\n",
       "      <td>29299</td>\n",
       "      <td>2</td>\n",
       "      <td>0</td>\n",
       "      <td>0</td>\n",
       "    </tr>\n",
       "    <tr>\n",
       "      <th>3</th>\n",
       "      <td>alexabexis</td>\n",
       "      <td>11</td>\n",
       "      <td>475500</td>\n",
       "      <td>http://nanowrimo.org/participants/alexabexis</td>\n",
       "      <td>NaN</td>\n",
       "      <td>NaN</td>\n",
       "      <td>NaN</td>\n",
       "      <td>Three Goddesses playlist Florence + the Machin...</td>\n",
       "      <td>drawing, reading, movies &amp; TV shows, comics, p...</td>\n",
       "      <td>New York City</td>\n",
       "      <td>...</td>\n",
       "      <td>2325.0</td>\n",
       "      <td>8.545455</td>\n",
       "      <td>570.626795</td>\n",
       "      <td>8.090909</td>\n",
       "      <td>25360</td>\n",
       "      <td>7</td>\n",
       "      <td>38034</td>\n",
       "      <td>12</td>\n",
       "      <td>40766</td>\n",
       "      <td>9</td>\n",
       "    </tr>\n",
       "    <tr>\n",
       "      <th>4</th>\n",
       "      <td>AllYellowFlowers</td>\n",
       "      <td>3</td>\n",
       "      <td>30428</td>\n",
       "      <td>http://nanowrimo.org/participants/AllYellowFlo...</td>\n",
       "      <td>NaN</td>\n",
       "      <td>NaN</td>\n",
       "      <td>Lolita, Jesus' Son, Ask the</td>\n",
       "      <td>the sound of the coffeemaker</td>\n",
       "      <td>cryptozoology</td>\n",
       "      <td>Allston</td>\n",
       "      <td>...</td>\n",
       "      <td>2054.5</td>\n",
       "      <td>4.500000</td>\n",
       "      <td>538.273315</td>\n",
       "      <td>21.000000</td>\n",
       "      <td>1800</td>\n",
       "      <td>5</td>\n",
       "      <td>5300</td>\n",
       "      <td>10</td>\n",
       "      <td>5700</td>\n",
       "      <td>9</td>\n",
       "    </tr>\n",
       "  </tbody>\n",
       "</table>\n",
       "<p>5 rows × 41 columns</p>\n",
       "</div>"
      ],
      "text/plain": [
       "        Writer Name  Member Length  LifetimeWordCount  \\\n",
       "0          Nicaless              2              50919   \n",
       "1   Rachel B. Moore             10             478090   \n",
       "2      abookishbabe              1                  0   \n",
       "3        alexabexis             11             475500   \n",
       "4  AllYellowFlowers              3              30428   \n",
       "\n",
       "                                                 url  Age     Birthday  \\\n",
       "0         http://nanowrimo.org/participants/nicaless   24  December 20   \n",
       "1   http://nanowrimo.org/participants/rachel-b-moore  NaN          NaN   \n",
       "2     http://nanowrimo.org/participants/abookishbabe  NaN      April 2   \n",
       "3       http://nanowrimo.org/participants/alexabexis  NaN          NaN   \n",
       "4  http://nanowrimo.org/participants/AllYellowFlo...  NaN          NaN   \n",
       "\n",
       "                           Favorite books or authors  \\\n",
       "0                               Ursula Le Guin, J.K.   \n",
       "1  2666, Unaccustomed Earth, Exit Music, Crazy Lo...   \n",
       "2  Colleen Hoover, Veronica Roth, Jennifer Niven,...   \n",
       "3                                                NaN   \n",
       "4                        Lolita, Jesus' Son, Ask the   \n",
       "\n",
       "                             Favorite noveling music  \\\n",
       "0                                Classical, Musicals   \n",
       "1  Belle and Sebastian, Elliott Smith, PJ Harvey,...   \n",
       "2                                        Tori Kelley   \n",
       "3  Three Goddesses playlist Florence + the Machin...   \n",
       "4                       the sound of the coffeemaker   \n",
       "\n",
       "                                             Hobbies           Location  \\\n",
       "0           Reading, Video Games, Blogging, Learning  San Francisco, CA   \n",
       "1  Reading, volunteering, knitting, listening to ...      San Francisco   \n",
       "2  Reading (DUH), Day dreaming, Going to Disneyla...     Sacramento, CA   \n",
       "3  drawing, reading, movies & TV shows, comics, p...      New York City   \n",
       "4                                      cryptozoology            Allston   \n",
       "\n",
       "    ...   Expected Max Submission Expected Max Day Expected Std Submissions  \\\n",
       "0   ...                   24935.0        28.000000              6235.712933   \n",
       "1   ...                    3809.0         9.000000              1002.295167   \n",
       "2   ...                       NaN              NaN                      NaN   \n",
       "3   ...                    2325.0         8.545455               570.626795   \n",
       "4   ...                    2054.5         4.500000               538.273315   \n",
       "\n",
       "   Expected Consec Subs  FW Total  FW Sub  FH Total  FH Sub  SH Total  SH Sub  \n",
       "0             12.000000      6689       6     12486       9     11743       3  \n",
       "1              6.800000     16722       7     24086      14     26517      14  \n",
       "2                   NaN     28632       1     29299       2         0       0  \n",
       "3              8.090909     25360       7     38034      12     40766       9  \n",
       "4             21.000000      1800       5      5300      10      5700       9  \n",
       "\n",
       "[5 rows x 41 columns]"
      ]
     },
     "execution_count": 2,
     "metadata": {},
     "output_type": "execute_result"
    }
   ],
   "source": [
    "# import the data\n",
    "import pandas as pd\n",
    "import numpy as np\n",
    "import warnings\n",
    "warnings.filterwarnings('ignore')\n",
    "\n",
    "writers = pd.read_csv(\"../clean data/user_summary_no2015.csv\", index_col=0)\n",
    "writers.head()"
   ]
  },
  {
   "cell_type": "code",
   "execution_count": 3,
   "metadata": {
    "collapsed": false
   },
   "outputs": [
    {
     "data": {
      "text/plain": [
       "Index([u'Writer Name', u'Member Length', u'LifetimeWordCount', u'url', u'Age',\n",
       "       u'Birthday', u'Favorite books or authors', u'Favorite noveling music',\n",
       "       u'Hobbies', u'Location', u'Occupation', u'Primary Role',\n",
       "       u'Sponsorship URL', u'Expected Final Word Count',\n",
       "       u'Expected Daily Average', u'CURRENT WINNER', u'Current Donor', u'Wins',\n",
       "       u'Donations', u'Participated', u'Consecutive Donor',\n",
       "       u'Consecutive Wins', u'Consecutive Part', u'Part Years', u'Win Years',\n",
       "       u'Donor Years', u'Num Novels', u'Expected Num Submissions',\n",
       "       u'Expected Avg Submission', u'Expected Min Submission',\n",
       "       u'Expected Min Day', u'Expected Max Submission', u'Expected Max Day',\n",
       "       u'Expected Std Submissions', u'Expected Consec Subs', u'FW Total',\n",
       "       u'FW Sub', u'FH Total', u'FH Sub', u'SH Total', u'SH Sub'],\n",
       "      dtype='object')"
      ]
     },
     "execution_count": 3,
     "metadata": {},
     "output_type": "execute_result"
    }
   ],
   "source": [
    "writers.columns"
   ]
  },
  {
   "cell_type": "code",
   "execution_count": 4,
   "metadata": {
    "collapsed": false
   },
   "outputs": [],
   "source": [
    "# convert primary role and sponsorship url to binary vars\n",
    "writers['Primary Role'][writers['Primary Role'] == 'Municipal Liaison'] = 1\n",
    "writers['Primary Role'][writers['Primary Role'] != 1] = 0\n",
    "\n",
    "writers['Sponsorship URL'].fillna(0, inplace=True)\n",
    "writers['Sponsorship URL'][writers['Sponsorship URL'] != 0] = 1"
   ]
  },
  {
   "cell_type": "code",
   "execution_count": 5,
   "metadata": {
    "collapsed": false
   },
   "outputs": [],
   "source": [
    "# let's keep ALL NUMERIAL COLUMNS except the CURRENT WINNER column which we will use as response\n",
    "features = writers._get_numeric_data()"
   ]
  },
  {
   "cell_type": "code",
   "execution_count": 6,
   "metadata": {
    "collapsed": false
   },
   "outputs": [
    {
     "data": {
      "text/html": [
       "<div>\n",
       "<table border=\"1\" class=\"dataframe\">\n",
       "  <thead>\n",
       "    <tr style=\"text-align: right;\">\n",
       "      <th></th>\n",
       "      <th>Member Length</th>\n",
       "      <th>LifetimeWordCount</th>\n",
       "      <th>Age</th>\n",
       "      <th>Expected Final Word Count</th>\n",
       "      <th>Expected Daily Average</th>\n",
       "      <th>Current Donor</th>\n",
       "      <th>Wins</th>\n",
       "      <th>Donations</th>\n",
       "      <th>Participated</th>\n",
       "      <th>Consecutive Donor</th>\n",
       "      <th>...</th>\n",
       "      <th>Expected Max Submission</th>\n",
       "      <th>Expected Max Day</th>\n",
       "      <th>Expected Std Submissions</th>\n",
       "      <th>Expected Consec Subs</th>\n",
       "      <th>FW Total</th>\n",
       "      <th>FW Sub</th>\n",
       "      <th>FH Total</th>\n",
       "      <th>FH Sub</th>\n",
       "      <th>SH Total</th>\n",
       "      <th>SH Sub</th>\n",
       "    </tr>\n",
       "  </thead>\n",
       "  <tbody>\n",
       "    <tr>\n",
       "      <th>0</th>\n",
       "      <td>2</td>\n",
       "      <td>50919</td>\n",
       "      <td>24</td>\n",
       "      <td>50919.000000</td>\n",
       "      <td>1697.300000</td>\n",
       "      <td>0</td>\n",
       "      <td>1</td>\n",
       "      <td>1</td>\n",
       "      <td>1</td>\n",
       "      <td>1</td>\n",
       "      <td>...</td>\n",
       "      <td>24935.0</td>\n",
       "      <td>28.000000</td>\n",
       "      <td>6235.712933</td>\n",
       "      <td>12.000000</td>\n",
       "      <td>6689</td>\n",
       "      <td>6</td>\n",
       "      <td>12486</td>\n",
       "      <td>9</td>\n",
       "      <td>11743</td>\n",
       "      <td>3</td>\n",
       "    </tr>\n",
       "    <tr>\n",
       "      <th>1</th>\n",
       "      <td>10</td>\n",
       "      <td>478090</td>\n",
       "      <td>NaN</td>\n",
       "      <td>47809.000000</td>\n",
       "      <td>1593.633333</td>\n",
       "      <td>1</td>\n",
       "      <td>8</td>\n",
       "      <td>8</td>\n",
       "      <td>10</td>\n",
       "      <td>8</td>\n",
       "      <td>...</td>\n",
       "      <td>3809.0</td>\n",
       "      <td>9.000000</td>\n",
       "      <td>1002.295167</td>\n",
       "      <td>6.800000</td>\n",
       "      <td>16722</td>\n",
       "      <td>7</td>\n",
       "      <td>24086</td>\n",
       "      <td>14</td>\n",
       "      <td>26517</td>\n",
       "      <td>14</td>\n",
       "    </tr>\n",
       "    <tr>\n",
       "      <th>2</th>\n",
       "      <td>1</td>\n",
       "      <td>0</td>\n",
       "      <td>NaN</td>\n",
       "      <td>NaN</td>\n",
       "      <td>NaN</td>\n",
       "      <td>1</td>\n",
       "      <td>0</td>\n",
       "      <td>0</td>\n",
       "      <td>0</td>\n",
       "      <td>0</td>\n",
       "      <td>...</td>\n",
       "      <td>NaN</td>\n",
       "      <td>NaN</td>\n",
       "      <td>NaN</td>\n",
       "      <td>NaN</td>\n",
       "      <td>28632</td>\n",
       "      <td>1</td>\n",
       "      <td>29299</td>\n",
       "      <td>2</td>\n",
       "      <td>0</td>\n",
       "      <td>0</td>\n",
       "    </tr>\n",
       "    <tr>\n",
       "      <th>3</th>\n",
       "      <td>11</td>\n",
       "      <td>475500</td>\n",
       "      <td>NaN</td>\n",
       "      <td>43227.272727</td>\n",
       "      <td>1440.909091</td>\n",
       "      <td>1</td>\n",
       "      <td>7</td>\n",
       "      <td>7</td>\n",
       "      <td>11</td>\n",
       "      <td>4</td>\n",
       "      <td>...</td>\n",
       "      <td>2325.0</td>\n",
       "      <td>8.545455</td>\n",
       "      <td>570.626795</td>\n",
       "      <td>8.090909</td>\n",
       "      <td>25360</td>\n",
       "      <td>7</td>\n",
       "      <td>38034</td>\n",
       "      <td>12</td>\n",
       "      <td>40766</td>\n",
       "      <td>9</td>\n",
       "    </tr>\n",
       "    <tr>\n",
       "      <th>4</th>\n",
       "      <td>3</td>\n",
       "      <td>30428</td>\n",
       "      <td>NaN</td>\n",
       "      <td>15214.000000</td>\n",
       "      <td>507.133333</td>\n",
       "      <td>0</td>\n",
       "      <td>0</td>\n",
       "      <td>0</td>\n",
       "      <td>2</td>\n",
       "      <td>0</td>\n",
       "      <td>...</td>\n",
       "      <td>2054.5</td>\n",
       "      <td>4.500000</td>\n",
       "      <td>538.273315</td>\n",
       "      <td>21.000000</td>\n",
       "      <td>1800</td>\n",
       "      <td>5</td>\n",
       "      <td>5300</td>\n",
       "      <td>10</td>\n",
       "      <td>5700</td>\n",
       "      <td>9</td>\n",
       "    </tr>\n",
       "  </tbody>\n",
       "</table>\n",
       "<p>5 rows × 27 columns</p>\n",
       "</div>"
      ],
      "text/plain": [
       "   Member Length  LifetimeWordCount  Age  Expected Final Word Count  \\\n",
       "0              2              50919   24               50919.000000   \n",
       "1             10             478090  NaN               47809.000000   \n",
       "2              1                  0  NaN                        NaN   \n",
       "3             11             475500  NaN               43227.272727   \n",
       "4              3              30428  NaN               15214.000000   \n",
       "\n",
       "   Expected Daily Average  Current Donor  Wins  Donations  Participated  \\\n",
       "0             1697.300000              0     1          1             1   \n",
       "1             1593.633333              1     8          8            10   \n",
       "2                     NaN              1     0          0             0   \n",
       "3             1440.909091              1     7          7            11   \n",
       "4              507.133333              0     0          0             2   \n",
       "\n",
       "   Consecutive Donor   ...    Expected Max Submission  Expected Max Day  \\\n",
       "0                  1   ...                    24935.0         28.000000   \n",
       "1                  8   ...                     3809.0          9.000000   \n",
       "2                  0   ...                        NaN               NaN   \n",
       "3                  4   ...                     2325.0          8.545455   \n",
       "4                  0   ...                     2054.5          4.500000   \n",
       "\n",
       "   Expected Std Submissions  Expected Consec Subs  FW Total  FW Sub  FH Total  \\\n",
       "0               6235.712933             12.000000      6689       6     12486   \n",
       "1               1002.295167              6.800000     16722       7     24086   \n",
       "2                       NaN                   NaN     28632       1     29299   \n",
       "3                570.626795              8.090909     25360       7     38034   \n",
       "4                538.273315             21.000000      1800       5      5300   \n",
       "\n",
       "   FH Sub  SH Total  SH Sub  \n",
       "0       9     11743       3  \n",
       "1      14     26517      14  \n",
       "2       2         0       0  \n",
       "3      12     40766       9  \n",
       "4      10      5700       9  \n",
       "\n",
       "[5 rows x 27 columns]"
      ]
     },
     "execution_count": 6,
     "metadata": {},
     "output_type": "execute_result"
    }
   ],
   "source": [
    "del features['CURRENT WINNER']\n",
    "features.head()"
   ]
  },
  {
   "cell_type": "code",
   "execution_count": 7,
   "metadata": {
    "collapsed": false
   },
   "outputs": [],
   "source": [
    "y = writers['CURRENT WINNER'].values"
   ]
  },
  {
   "cell_type": "code",
   "execution_count": 8,
   "metadata": {
    "collapsed": false
   },
   "outputs": [
    {
     "data": {
      "text/html": [
       "<div>\n",
       "<table border=\"1\" class=\"dataframe\">\n",
       "  <thead>\n",
       "    <tr style=\"text-align: right;\">\n",
       "      <th></th>\n",
       "      <th>Member Length</th>\n",
       "      <th>LifetimeWordCount</th>\n",
       "      <th>Age</th>\n",
       "      <th>Expected Final Word Count</th>\n",
       "      <th>Expected Daily Average</th>\n",
       "      <th>Current Donor</th>\n",
       "      <th>Wins</th>\n",
       "      <th>Donations</th>\n",
       "      <th>Participated</th>\n",
       "      <th>Consecutive Donor</th>\n",
       "      <th>...</th>\n",
       "      <th>Expected Max Submission</th>\n",
       "      <th>Expected Max Day</th>\n",
       "      <th>Expected Std Submissions</th>\n",
       "      <th>Expected Consec Subs</th>\n",
       "      <th>FW Total</th>\n",
       "      <th>FW Sub</th>\n",
       "      <th>FH Total</th>\n",
       "      <th>FH Sub</th>\n",
       "      <th>SH Total</th>\n",
       "      <th>SH Sub</th>\n",
       "    </tr>\n",
       "  </thead>\n",
       "  <tbody>\n",
       "    <tr>\n",
       "      <th>count</th>\n",
       "      <td>501.000000</td>\n",
       "      <td>501.000000</td>\n",
       "      <td>501.000000</td>\n",
       "      <td>501.000000</td>\n",
       "      <td>501.000000</td>\n",
       "      <td>501.000000</td>\n",
       "      <td>501.000000</td>\n",
       "      <td>501.000000</td>\n",
       "      <td>501.000000</td>\n",
       "      <td>501.000000</td>\n",
       "      <td>...</td>\n",
       "      <td>501.000000</td>\n",
       "      <td>501.000000</td>\n",
       "      <td>501.000000</td>\n",
       "      <td>501.000000</td>\n",
       "      <td>501.000000</td>\n",
       "      <td>501.000000</td>\n",
       "      <td>501.000000</td>\n",
       "      <td>501.000000</td>\n",
       "      <td>501.000000</td>\n",
       "      <td>501.000000</td>\n",
       "    </tr>\n",
       "    <tr>\n",
       "      <th>mean</th>\n",
       "      <td>4.212575</td>\n",
       "      <td>172552.676647</td>\n",
       "      <td>8.596806</td>\n",
       "      <td>36428.312194</td>\n",
       "      <td>1214.277073</td>\n",
       "      <td>0.317365</td>\n",
       "      <td>2.606786</td>\n",
       "      <td>1.421158</td>\n",
       "      <td>3.656687</td>\n",
       "      <td>1.047904</td>\n",
       "      <td>...</td>\n",
       "      <td>4764.389341</td>\n",
       "      <td>10.005534</td>\n",
       "      <td>1314.411102</td>\n",
       "      <td>9.573348</td>\n",
       "      <td>12203.137725</td>\n",
       "      <td>4.413174</td>\n",
       "      <td>20962.403194</td>\n",
       "      <td>8.137725</td>\n",
       "      <td>17100.556886</td>\n",
       "      <td>6.520958</td>\n",
       "    </tr>\n",
       "    <tr>\n",
       "      <th>std</th>\n",
       "      <td>3.255209</td>\n",
       "      <td>329113.331830</td>\n",
       "      <td>14.463648</td>\n",
       "      <td>43782.218313</td>\n",
       "      <td>1459.407277</td>\n",
       "      <td>0.465916</td>\n",
       "      <td>4.651782</td>\n",
       "      <td>3.044384</td>\n",
       "      <td>4.899582</td>\n",
       "      <td>1.760029</td>\n",
       "      <td>...</td>\n",
       "      <td>5727.358954</td>\n",
       "      <td>8.406292</td>\n",
       "      <td>2011.241171</td>\n",
       "      <td>8.393503</td>\n",
       "      <td>39000.987493</td>\n",
       "      <td>2.614373</td>\n",
       "      <td>54462.877403</td>\n",
       "      <td>5.140330</td>\n",
       "      <td>21562.099582</td>\n",
       "      <td>6.259238</td>\n",
       "    </tr>\n",
       "    <tr>\n",
       "      <th>min</th>\n",
       "      <td>0.166667</td>\n",
       "      <td>0.000000</td>\n",
       "      <td>0.000000</td>\n",
       "      <td>0.000000</td>\n",
       "      <td>0.000000</td>\n",
       "      <td>0.000000</td>\n",
       "      <td>0.000000</td>\n",
       "      <td>0.000000</td>\n",
       "      <td>0.000000</td>\n",
       "      <td>0.000000</td>\n",
       "      <td>...</td>\n",
       "      <td>0.000000</td>\n",
       "      <td>0.000000</td>\n",
       "      <td>0.000000</td>\n",
       "      <td>0.000000</td>\n",
       "      <td>0.000000</td>\n",
       "      <td>0.000000</td>\n",
       "      <td>0.000000</td>\n",
       "      <td>0.000000</td>\n",
       "      <td>0.000000</td>\n",
       "      <td>0.000000</td>\n",
       "    </tr>\n",
       "    <tr>\n",
       "      <th>25%</th>\n",
       "      <td>1.000000</td>\n",
       "      <td>9818.000000</td>\n",
       "      <td>0.000000</td>\n",
       "      <td>7443.250000</td>\n",
       "      <td>248.108333</td>\n",
       "      <td>0.000000</td>\n",
       "      <td>0.000000</td>\n",
       "      <td>0.000000</td>\n",
       "      <td>1.000000</td>\n",
       "      <td>0.000000</td>\n",
       "      <td>...</td>\n",
       "      <td>955.000000</td>\n",
       "      <td>1.000000</td>\n",
       "      <td>256.685927</td>\n",
       "      <td>0.000000</td>\n",
       "      <td>2258.000000</td>\n",
       "      <td>2.000000</td>\n",
       "      <td>3925.000000</td>\n",
       "      <td>3.000000</td>\n",
       "      <td>0.000000</td>\n",
       "      <td>0.000000</td>\n",
       "    </tr>\n",
       "    <tr>\n",
       "      <th>50%</th>\n",
       "      <td>4.000000</td>\n",
       "      <td>93385.000000</td>\n",
       "      <td>0.000000</td>\n",
       "      <td>37594.333333</td>\n",
       "      <td>1253.144444</td>\n",
       "      <td>0.000000</td>\n",
       "      <td>1.000000</td>\n",
       "      <td>0.000000</td>\n",
       "      <td>2.000000</td>\n",
       "      <td>0.000000</td>\n",
       "      <td>...</td>\n",
       "      <td>3546.500000</td>\n",
       "      <td>9.333333</td>\n",
       "      <td>873.018486</td>\n",
       "      <td>8.500000</td>\n",
       "      <td>7890.000000</td>\n",
       "      <td>5.000000</td>\n",
       "      <td>15212.000000</td>\n",
       "      <td>10.000000</td>\n",
       "      <td>10900.000000</td>\n",
       "      <td>5.000000</td>\n",
       "    </tr>\n",
       "    <tr>\n",
       "      <th>75%</th>\n",
       "      <td>6.000000</td>\n",
       "      <td>206482.000000</td>\n",
       "      <td>20.000000</td>\n",
       "      <td>50734.200000</td>\n",
       "      <td>1691.140000</td>\n",
       "      <td>1.000000</td>\n",
       "      <td>3.000000</td>\n",
       "      <td>2.000000</td>\n",
       "      <td>5.000000</td>\n",
       "      <td>1.000000</td>\n",
       "      <td>...</td>\n",
       "      <td>6250.000000</td>\n",
       "      <td>16.200000</td>\n",
       "      <td>1516.145753</td>\n",
       "      <td>16.000000</td>\n",
       "      <td>12361.000000</td>\n",
       "      <td>7.000000</td>\n",
       "      <td>23832.000000</td>\n",
       "      <td>13.000000</td>\n",
       "      <td>28005.000000</td>\n",
       "      <td>13.000000</td>\n",
       "    </tr>\n",
       "    <tr>\n",
       "      <th>max</th>\n",
       "      <td>13.000000</td>\n",
       "      <td>4562712.000000</td>\n",
       "      <td>61.000000</td>\n",
       "      <td>651816.000000</td>\n",
       "      <td>21727.200000</td>\n",
       "      <td>1.000000</td>\n",
       "      <td>52.000000</td>\n",
       "      <td>36.000000</td>\n",
       "      <td>52.000000</td>\n",
       "      <td>9.000000</td>\n",
       "      <td>...</td>\n",
       "      <td>51238.000000</td>\n",
       "      <td>30.000000</td>\n",
       "      <td>23874.872328</td>\n",
       "      <td>30.000000</td>\n",
       "      <td>630036.000000</td>\n",
       "      <td>7.000000</td>\n",
       "      <td>1000000.000000</td>\n",
       "      <td>14.000000</td>\n",
       "      <td>210000.000000</td>\n",
       "      <td>16.000000</td>\n",
       "    </tr>\n",
       "  </tbody>\n",
       "</table>\n",
       "<p>8 rows × 27 columns</p>\n",
       "</div>"
      ],
      "text/plain": [
       "       Member Length  LifetimeWordCount         Age  \\\n",
       "count     501.000000         501.000000  501.000000   \n",
       "mean        4.212575      172552.676647    8.596806   \n",
       "std         3.255209      329113.331830   14.463648   \n",
       "min         0.166667           0.000000    0.000000   \n",
       "25%         1.000000        9818.000000    0.000000   \n",
       "50%         4.000000       93385.000000    0.000000   \n",
       "75%         6.000000      206482.000000   20.000000   \n",
       "max        13.000000     4562712.000000   61.000000   \n",
       "\n",
       "       Expected Final Word Count  Expected Daily Average  Current Donor  \\\n",
       "count                 501.000000              501.000000     501.000000   \n",
       "mean                36428.312194             1214.277073       0.317365   \n",
       "std                 43782.218313             1459.407277       0.465916   \n",
       "min                     0.000000                0.000000       0.000000   \n",
       "25%                  7443.250000              248.108333       0.000000   \n",
       "50%                 37594.333333             1253.144444       0.000000   \n",
       "75%                 50734.200000             1691.140000       1.000000   \n",
       "max                651816.000000            21727.200000       1.000000   \n",
       "\n",
       "             Wins   Donations  Participated  Consecutive Donor     ...      \\\n",
       "count  501.000000  501.000000    501.000000         501.000000     ...       \n",
       "mean     2.606786    1.421158      3.656687           1.047904     ...       \n",
       "std      4.651782    3.044384      4.899582           1.760029     ...       \n",
       "min      0.000000    0.000000      0.000000           0.000000     ...       \n",
       "25%      0.000000    0.000000      1.000000           0.000000     ...       \n",
       "50%      1.000000    0.000000      2.000000           0.000000     ...       \n",
       "75%      3.000000    2.000000      5.000000           1.000000     ...       \n",
       "max     52.000000   36.000000     52.000000           9.000000     ...       \n",
       "\n",
       "       Expected Max Submission  Expected Max Day  Expected Std Submissions  \\\n",
       "count               501.000000        501.000000                501.000000   \n",
       "mean               4764.389341         10.005534               1314.411102   \n",
       "std                5727.358954          8.406292               2011.241171   \n",
       "min                   0.000000          0.000000                  0.000000   \n",
       "25%                 955.000000          1.000000                256.685927   \n",
       "50%                3546.500000          9.333333                873.018486   \n",
       "75%                6250.000000         16.200000               1516.145753   \n",
       "max               51238.000000         30.000000              23874.872328   \n",
       "\n",
       "       Expected Consec Subs       FW Total      FW Sub        FH Total  \\\n",
       "count            501.000000     501.000000  501.000000      501.000000   \n",
       "mean               9.573348   12203.137725    4.413174    20962.403194   \n",
       "std                8.393503   39000.987493    2.614373    54462.877403   \n",
       "min                0.000000       0.000000    0.000000        0.000000   \n",
       "25%                0.000000    2258.000000    2.000000     3925.000000   \n",
       "50%                8.500000    7890.000000    5.000000    15212.000000   \n",
       "75%               16.000000   12361.000000    7.000000    23832.000000   \n",
       "max               30.000000  630036.000000    7.000000  1000000.000000   \n",
       "\n",
       "           FH Sub       SH Total      SH Sub  \n",
       "count  501.000000     501.000000  501.000000  \n",
       "mean     8.137725   17100.556886    6.520958  \n",
       "std      5.140330   21562.099582    6.259238  \n",
       "min      0.000000       0.000000    0.000000  \n",
       "25%      3.000000       0.000000    0.000000  \n",
       "50%     10.000000   10900.000000    5.000000  \n",
       "75%     13.000000   28005.000000   13.000000  \n",
       "max     14.000000  210000.000000   16.000000  \n",
       "\n",
       "[8 rows x 27 columns]"
      ]
     },
     "execution_count": 8,
     "metadata": {},
     "output_type": "execute_result"
    }
   ],
   "source": [
    "# inputting 0 for users without prior data for daily avg, avg submission, num submissions etc. and so are marked NaN\n",
    "features.fillna(0, inplace=True)\n",
    "features.describe()"
   ]
  },
  {
   "cell_type": "code",
   "execution_count": 9,
   "metadata": {
    "collapsed": false
   },
   "outputs": [],
   "source": [
    "from sklearn.linear_model import LogisticRegression\n",
    "from sklearn.preprocessing import StandardScaler\n",
    "from sklearn.cross_validation import cross_val_score\n",
    "from sklearn.cross_validation import train_test_split\n",
    "from sklearn.metrics import classification_report"
   ]
  },
  {
   "cell_type": "markdown",
   "metadata": {},
   "source": [
    "### Normalize data"
   ]
  },
  {
   "cell_type": "code",
   "execution_count": 10,
   "metadata": {
    "collapsed": false
   },
   "outputs": [
    {
     "data": {
      "text/plain": [
       "array([ 1.77967343,  0.92929298, -0.5949674 ,  0.26019839,  0.26019839,\n",
       "        1.46660949,  1.16054543,  2.1631367 ,  1.29595831,  3.95393831,\n",
       "        1.98638802,  2.35830378,  1.92083955, -0.29678396, -0.38505565,\n",
       "       -0.01942619,  0.25599572, -0.16697823, -0.11973645, -0.15534084,\n",
       "       -0.33074635,  0.11598114,  0.99045236,  0.05741009,  1.14158714,\n",
       "        0.43714921,  1.19607487])"
      ]
     },
     "execution_count": 10,
     "metadata": {},
     "output_type": "execute_result"
    }
   ],
   "source": [
    "scaler = StandardScaler()\n",
    "features_norm = scaler.fit_transform(features)\n",
    "features_norm[1]"
   ]
  },
  {
   "cell_type": "markdown",
   "metadata": {},
   "source": [
    "### Apply Logistic Regression"
   ]
  },
  {
   "cell_type": "code",
   "execution_count": 11,
   "metadata": {
    "collapsed": false
   },
   "outputs": [],
   "source": [
    "X_train, X_test, y_train, y_test = train_test_split(features_norm,y, test_size=0.2, random_state=0)"
   ]
  },
  {
   "cell_type": "code",
   "execution_count": 12,
   "metadata": {
    "collapsed": false
   },
   "outputs": [
    {
     "data": {
      "text/plain": [
       "0.97749374609130713"
      ]
     },
     "execution_count": 12,
     "metadata": {},
     "output_type": "execute_result"
    }
   ],
   "source": [
    "model_lr = LogisticRegression(C=5)\n",
    "cross_val_score(model_lr,X_train, y_train,cv=10).mean()"
   ]
  },
  {
   "cell_type": "markdown",
   "metadata": {},
   "source": [
    "And wow! That's a very good cross validation score! Now let's check out the model's coefficient and precision/recall scores.\n",
    "\n"
   ]
  },
  {
   "cell_type": "code",
   "execution_count": 13,
   "metadata": {
    "collapsed": false
   },
   "outputs": [
    {
     "data": {
      "text/plain": [
       "array([ 0.02520523,  0.62688091, -0.47607049, -0.40851403, -0.40851403,\n",
       "        0.13470812,  0.41434166, -1.02103822,  0.17685377,  0.76671752,\n",
       "        0.0906466 ,  0.24629328,  0.31249113,  0.10064005,  0.28534595,\n",
       "       -1.21116754,  0.18072087,  0.34617884, -0.53207593,  0.40693384,\n",
       "       -0.24553556,  4.61721888, -0.30091101,  5.68824533,  1.53174036,\n",
       "        5.81078965,  0.55780255])"
      ]
     },
     "execution_count": 13,
     "metadata": {},
     "output_type": "execute_result"
    }
   ],
   "source": [
    "model_lr = LogisticRegression(C=5).fit(X_train, y_train)\n",
    "coefficients=model_lr.coef_.ravel()\n",
    "coefficients"
   ]
  },
  {
   "cell_type": "code",
   "execution_count": 14,
   "metadata": {
    "collapsed": false
   },
   "outputs": [
    {
     "name": "stdout",
     "output_type": "stream",
     "text": [
      "             precision    recall  f1-score   support\n",
      "\n",
      "          0       1.00      0.93      0.96        55\n",
      "          1       0.92      1.00      0.96        46\n",
      "\n",
      "avg / total       0.96      0.96      0.96       101\n",
      "\n",
      "0.960396039604\n"
     ]
    }
   ],
   "source": [
    "print classification_report(y_test,model_lr.predict(X_test))\n",
    "print model_lr.score(X_test,y_test)"
   ]
  },
  {
   "cell_type": "markdown",
   "metadata": {},
   "source": [
    "### Visualize the results of the Logistic Regression"
   ]
  },
  {
   "cell_type": "code",
   "execution_count": 15,
   "metadata": {
    "collapsed": true
   },
   "outputs": [],
   "source": [
    "from matplotlib.colors import ListedColormap\n",
    "%matplotlib inline"
   ]
  },
  {
   "cell_type": "code",
   "execution_count": 26,
   "metadata": {
    "collapsed": false
   },
   "outputs": [],
   "source": [
    "from sklearn.decomposition import PCA\n",
    "pca = PCA(n_components=2)"
   ]
  },
  {
   "cell_type": "code",
   "execution_count": 32,
   "metadata": {
    "collapsed": false
   },
   "outputs": [],
   "source": [
    "features_pca = pca.fit(features_norm).transform(features_norm)\n",
    "pca_X_train, pca_X_test, pca_y_train, pca_y_test = train_test_split(features_pca,y, test_size=0.2, random_state=0)\n",
    "preds = LogisticRegression(C=5).fit(pca_X_train, pca_y_train).predict(pca_X_test)"
   ]
  },
  {
   "cell_type": "code",
   "execution_count": 36,
   "metadata": {
    "collapsed": false
   },
   "outputs": [
    {
     "data": {
      "text/plain": [
       "<matplotlib.axes._subplots.AxesSubplot at 0x10a879150>"
      ]
     },
     "execution_count": 36,
     "metadata": {},
     "output_type": "execute_result"
    },
    {
     "data": {
      "image/png": "[encoded data removed]",
      "text/plain": [
       "<matplotlib.figure.Figure at 0x10a873dd0>"
      ]
     },
     "metadata": {},
     "output_type": "display_data"
    }
   ],
   "source": [
    "cmap_bold = ListedColormap(['#FF0000', '#00FF00'])\n",
    "df1 = pd.DataFrame(pca_X_train)\n",
    "df1['Predictions'] = pca_y_train\n",
    "df1.plot(kind='scatter', x=0, y=1, c='Predictions', colormap = cmap_bold)"
   ]
  },
  {
   "cell_type": "code",
   "execution_count": 37,
   "metadata": {
    "collapsed": false
   },
   "outputs": [
    {
     "data": {
      "text/plain": [
       "<matplotlib.axes._subplots.AxesSubplot at 0x108e97910>"
      ]
     },
     "execution_count": 37,
     "metadata": {},
     "output_type": "execute_result"
    },
    {
     "data": {
      "image/png": "[encoded data removed]",
      "text/plain": [
       "<matplotlib.figure.Figure at 0x10a873610>"
      ]
     },
     "metadata": {},
     "output_type": "display_data"
    }
   ],
   "source": [
    "df2 = pd.DataFrame(pca_X_test)\n",
    "df2['Predictions'] = preds\n",
    "df2.plot(kind='scatter', x=0, y=1, c='Predictions', colormap = cmap_bold)"
   ]
  },
  {
   "cell_type": "code",
   "execution_count": 39,
   "metadata": {
    "collapsed": false
   },
   "outputs": [
    {
     "data": {
      "text/plain": [
       "<matplotlib.axes._subplots.AxesSubplot at 0x10b063710>"
      ]
     },
     "execution_count": 39,
     "metadata": {},
     "output_type": "execute_result"
    },
    {
     "data": {
      "image/png": "[encoded data removed]",
      "text/plain": [
       "<matplotlib.figure.Figure at 0x10b0ea310>"
      ]
     },
     "metadata": {},
     "output_type": "display_data"
    }
   ],
   "source": [
    "df2 = pd.DataFrame(pca_X_test)\n",
    "df2['Actual'] = pca_y_test\n",
    "df2.plot(kind='scatter', x=0, y=1, c='Actual', colormap = cmap_bold)"
   ]
  },
  {
   "cell_type": "markdown",
   "metadata": {
    "collapsed": false
   },
   "source": [
    "Now let's use a Decision Tree to classify, and see what features are most predictive with a Decision Tree"
   ]
  },
  {
   "cell_type": "code",
   "execution_count": 52,
   "metadata": {
    "collapsed": true
   },
   "outputs": [],
   "source": [
    "from sklearn.tree import DecisionTreeClassifier"
   ]
  },
  {
   "cell_type": "code",
   "execution_count": 53,
   "metadata": {
    "collapsed": false
   },
   "outputs": [
    {
     "name": "stdout",
     "output_type": "stream",
     "text": [
      "0.969676360225\n",
      "             precision    recall  f1-score   support\n",
      "\n",
      "          0       0.98      0.91      0.94        55\n",
      "          1       0.90      0.98      0.94        46\n",
      "\n",
      "avg / total       0.94      0.94      0.94       101\n",
      "\n",
      "0.940594059406\n"
     ]
    }
   ],
   "source": [
    "model_dt = DecisionTreeClassifier(max_depth=4)\n",
    "print cross_val_score(model_dt, X_train, y_train, cv=10).mean()\n",
    "\n",
    "model_dt.fit(X_train, y_train)\n",
    "print classification_report(y_test,model_dt.predict(X_test))\n",
    "print model_dt.score(X_test, y_test)"
   ]
  },
  {
   "cell_type": "code",
   "execution_count": 54,
   "metadata": {
    "collapsed": false
   },
   "outputs": [
    {
     "data": {
      "text/html": [
       "<div>\n",
       "<table border=\"1\" class=\"dataframe\">\n",
       "  <thead>\n",
       "    <tr style=\"text-align: right;\">\n",
       "      <th></th>\n",
       "      <th>0</th>\n",
       "      <th>1</th>\n",
       "    </tr>\n",
       "  </thead>\n",
       "  <tbody>\n",
       "    <tr>\n",
       "      <th>25</th>\n",
       "      <td>SH Total</td>\n",
       "      <td>0.799393</td>\n",
       "    </tr>\n",
       "    <tr>\n",
       "      <th>23</th>\n",
       "      <td>FH Total</td>\n",
       "      <td>0.185607</td>\n",
       "    </tr>\n",
       "    <tr>\n",
       "      <th>18</th>\n",
       "      <td>Expected Max Day</td>\n",
       "      <td>0.010158</td>\n",
       "    </tr>\n",
       "    <tr>\n",
       "      <th>4</th>\n",
       "      <td>Expected Daily Average</td>\n",
       "      <td>0.004842</td>\n",
       "    </tr>\n",
       "    <tr>\n",
       "      <th>0</th>\n",
       "      <td>Member Length</td>\n",
       "      <td>0.000000</td>\n",
       "    </tr>\n",
       "  </tbody>\n",
       "</table>\n",
       "</div>"
      ],
      "text/plain": [
       "                         0         1\n",
       "25                SH Total  0.799393\n",
       "23                FH Total  0.185607\n",
       "18        Expected Max Day  0.010158\n",
       "4   Expected Daily Average  0.004842\n",
       "0            Member Length  0.000000"
      ]
     },
     "execution_count": 54,
     "metadata": {},
     "output_type": "execute_result"
    }
   ],
   "source": [
    "dt_importances = pd.DataFrame(zip(features.columns, model_dt.feature_importances_))\n",
    "dt_importances.sort_values(1, ascending=False).head() # most to least predictive of being 0 ??? because negative? "
   ]
  },
  {
   "cell_type": "markdown",
   "metadata": {},
   "source": [
    "SH Total, and FH Total are metrics collected after the current contest has started.  Let's build a model now with just information we have from past contests and see how that works.  "
   ]
  },
  {
   "cell_type": "code",
   "execution_count": null,
   "metadata": {
    "collapsed": true
   },
   "outputs": [],
   "source": []
  }
 ],
 "metadata": {
  "kernelspec": {
   "display_name": "Python 2",
   "language": "python",
   "name": "python2"
  },
  "language_info": {
   "codemirror_mode": {
    "name": "ipython",
    "version": 2
   },
   "file_extension": ".py",
   "mimetype": "text/x-python",
   "name": "python",
   "nbconvert_exporter": "python",
   "pygments_lexer": "ipython2",
   "version": "2.7.11"
  }
 },
 "nbformat": 4,
 "nbformat_minor": 0
}
