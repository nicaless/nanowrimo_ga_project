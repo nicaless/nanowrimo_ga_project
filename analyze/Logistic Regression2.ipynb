{
 "cells": [
  {
   "cell_type": "markdown",
   "metadata": {},
   "source": [
    "# Predicting NaNoWriMo winners with Logistic Regression"
   ]
  },
  {
   "cell_type": "markdown",
   "metadata": {},
   "source": [
    "As the variable I want to predict is binary (1 if a writer is a winner, 0 if otherwise) I decided to use a logistic regression as my prediction model.  "
   ]
  },
  {
   "cell_type": "code",
   "execution_count": 50,
   "metadata": {
    "collapsed": false
   },
   "outputs": [
    {
     "data": {
      "text/html": [
       "<div>\n",
       "<table border=\"1\" class=\"dataframe\">\n",
       "  <thead>\n",
       "    <tr style=\"text-align: right;\">\n",
       "      <th></th>\n",
       "      <th>Writer Name</th>\n",
       "      <th>Member Length</th>\n",
       "      <th>LifetimeWordCount</th>\n",
       "      <th>url</th>\n",
       "      <th>Age</th>\n",
       "      <th>Birthday</th>\n",
       "      <th>Favorite books or authors</th>\n",
       "      <th>Favorite noveling music</th>\n",
       "      <th>Hobbies</th>\n",
       "      <th>Location</th>\n",
       "      <th>...</th>\n",
       "      <th>Expected Max Submission</th>\n",
       "      <th>Expected Max Day</th>\n",
       "      <th>Expected Std Submissions</th>\n",
       "      <th>Expected Consec Subs</th>\n",
       "      <th>FW Total</th>\n",
       "      <th>FW Sub</th>\n",
       "      <th>FH Total</th>\n",
       "      <th>FH Sub</th>\n",
       "      <th>SH Total</th>\n",
       "      <th>SH Sub</th>\n",
       "    </tr>\n",
       "  </thead>\n",
       "  <tbody>\n",
       "    <tr>\n",
       "      <th>0</th>\n",
       "      <td>Nicaless</td>\n",
       "      <td>2</td>\n",
       "      <td>50919</td>\n",
       "      <td>http://nanowrimo.org/participants/nicaless</td>\n",
       "      <td>24</td>\n",
       "      <td>December 20</td>\n",
       "      <td>Ursula Le Guin, J.K.</td>\n",
       "      <td>Classical, Musicals</td>\n",
       "      <td>Reading, Video Games, Blogging, Learning</td>\n",
       "      <td>San Francisco, CA</td>\n",
       "      <td>...</td>\n",
       "      <td>24935.0</td>\n",
       "      <td>28.000000</td>\n",
       "      <td>6235.712933</td>\n",
       "      <td>12.000000</td>\n",
       "      <td>6689</td>\n",
       "      <td>6</td>\n",
       "      <td>12486</td>\n",
       "      <td>9</td>\n",
       "      <td>11743</td>\n",
       "      <td>3</td>\n",
       "    </tr>\n",
       "    <tr>\n",
       "      <th>1</th>\n",
       "      <td>Rachel B. Moore</td>\n",
       "      <td>10</td>\n",
       "      <td>478090</td>\n",
       "      <td>http://nanowrimo.org/participants/rachel-b-moore</td>\n",
       "      <td>NaN</td>\n",
       "      <td>NaN</td>\n",
       "      <td>2666, Unaccustomed Earth, Exit Music, Crazy Lo...</td>\n",
       "      <td>Belle and Sebastian, Elliott Smith, PJ Harvey,...</td>\n",
       "      <td>Reading, volunteering, knitting, listening to ...</td>\n",
       "      <td>San Francisco</td>\n",
       "      <td>...</td>\n",
       "      <td>3809.0</td>\n",
       "      <td>9.000000</td>\n",
       "      <td>1002.295167</td>\n",
       "      <td>6.800000</td>\n",
       "      <td>16722</td>\n",
       "      <td>7</td>\n",
       "      <td>24086</td>\n",
       "      <td>14</td>\n",
       "      <td>26517</td>\n",
       "      <td>14</td>\n",
       "    </tr>\n",
       "    <tr>\n",
       "      <th>2</th>\n",
       "      <td>abookishbabe</td>\n",
       "      <td>1</td>\n",
       "      <td>0</td>\n",
       "      <td>http://nanowrimo.org/participants/abookishbabe</td>\n",
       "      <td>NaN</td>\n",
       "      <td>April 2</td>\n",
       "      <td>Colleen Hoover, Veronica Roth, Jennifer Niven,...</td>\n",
       "      <td>Tori Kelley</td>\n",
       "      <td>Reading (DUH), Day dreaming, Going to Disneyla...</td>\n",
       "      <td>Sacramento, CA</td>\n",
       "      <td>...</td>\n",
       "      <td>NaN</td>\n",
       "      <td>NaN</td>\n",
       "      <td>NaN</td>\n",
       "      <td>NaN</td>\n",
       "      <td>28632</td>\n",
       "      <td>1</td>\n",
       "      <td>29299</td>\n",
       "      <td>2</td>\n",
       "      <td>0</td>\n",
       "      <td>0</td>\n",
       "    </tr>\n",
       "    <tr>\n",
       "      <th>3</th>\n",
       "      <td>alexabexis</td>\n",
       "      <td>11</td>\n",
       "      <td>475500</td>\n",
       "      <td>http://nanowrimo.org/participants/alexabexis</td>\n",
       "      <td>NaN</td>\n",
       "      <td>NaN</td>\n",
       "      <td>NaN</td>\n",
       "      <td>Three Goddesses playlist Florence + the Machin...</td>\n",
       "      <td>drawing, reading, movies &amp; TV shows, comics, p...</td>\n",
       "      <td>New York City</td>\n",
       "      <td>...</td>\n",
       "      <td>2325.0</td>\n",
       "      <td>8.545455</td>\n",
       "      <td>570.626795</td>\n",
       "      <td>8.090909</td>\n",
       "      <td>25360</td>\n",
       "      <td>7</td>\n",
       "      <td>38034</td>\n",
       "      <td>12</td>\n",
       "      <td>40766</td>\n",
       "      <td>9</td>\n",
       "    </tr>\n",
       "    <tr>\n",
       "      <th>4</th>\n",
       "      <td>AllYellowFlowers</td>\n",
       "      <td>3</td>\n",
       "      <td>30428</td>\n",
       "      <td>http://nanowrimo.org/participants/AllYellowFlo...</td>\n",
       "      <td>NaN</td>\n",
       "      <td>NaN</td>\n",
       "      <td>Lolita, Jesus' Son, Ask the</td>\n",
       "      <td>the sound of the coffeemaker</td>\n",
       "      <td>cryptozoology</td>\n",
       "      <td>Allston</td>\n",
       "      <td>...</td>\n",
       "      <td>2054.5</td>\n",
       "      <td>4.500000</td>\n",
       "      <td>538.273315</td>\n",
       "      <td>21.000000</td>\n",
       "      <td>1800</td>\n",
       "      <td>5</td>\n",
       "      <td>5300</td>\n",
       "      <td>10</td>\n",
       "      <td>5700</td>\n",
       "      <td>9</td>\n",
       "    </tr>\n",
       "  </tbody>\n",
       "</table>\n",
       "<p>5 rows × 41 columns</p>\n",
       "</div>"
      ],
      "text/plain": [
       "        Writer Name  Member Length  LifetimeWordCount  \\\n",
       "0          Nicaless              2              50919   \n",
       "1   Rachel B. Moore             10             478090   \n",
       "2      abookishbabe              1                  0   \n",
       "3        alexabexis             11             475500   \n",
       "4  AllYellowFlowers              3              30428   \n",
       "\n",
       "                                                 url  Age     Birthday  \\\n",
       "0         http://nanowrimo.org/participants/nicaless   24  December 20   \n",
       "1   http://nanowrimo.org/participants/rachel-b-moore  NaN          NaN   \n",
       "2     http://nanowrimo.org/participants/abookishbabe  NaN      April 2   \n",
       "3       http://nanowrimo.org/participants/alexabexis  NaN          NaN   \n",
       "4  http://nanowrimo.org/participants/AllYellowFlo...  NaN          NaN   \n",
       "\n",
       "                           Favorite books or authors  \\\n",
       "0                               Ursula Le Guin, J.K.   \n",
       "1  2666, Unaccustomed Earth, Exit Music, Crazy Lo...   \n",
       "2  Colleen Hoover, Veronica Roth, Jennifer Niven,...   \n",
       "3                                                NaN   \n",
       "4                        Lolita, Jesus' Son, Ask the   \n",
       "\n",
       "                             Favorite noveling music  \\\n",
       "0                                Classical, Musicals   \n",
       "1  Belle and Sebastian, Elliott Smith, PJ Harvey,...   \n",
       "2                                        Tori Kelley   \n",
       "3  Three Goddesses playlist Florence + the Machin...   \n",
       "4                       the sound of the coffeemaker   \n",
       "\n",
       "                                             Hobbies           Location  \\\n",
       "0           Reading, Video Games, Blogging, Learning  San Francisco, CA   \n",
       "1  Reading, volunteering, knitting, listening to ...      San Francisco   \n",
       "2  Reading (DUH), Day dreaming, Going to Disneyla...     Sacramento, CA   \n",
       "3  drawing, reading, movies & TV shows, comics, p...      New York City   \n",
       "4                                      cryptozoology            Allston   \n",
       "\n",
       "    ...   Expected Max Submission Expected Max Day Expected Std Submissions  \\\n",
       "0   ...                   24935.0        28.000000              6235.712933   \n",
       "1   ...                    3809.0         9.000000              1002.295167   \n",
       "2   ...                       NaN              NaN                      NaN   \n",
       "3   ...                    2325.0         8.545455               570.626795   \n",
       "4   ...                    2054.5         4.500000               538.273315   \n",
       "\n",
       "   Expected Consec Subs  FW Total  FW Sub  FH Total  FH Sub  SH Total  SH Sub  \n",
       "0             12.000000      6689       6     12486       9     11743       3  \n",
       "1              6.800000     16722       7     24086      14     26517      14  \n",
       "2                   NaN     28632       1     29299       2         0       0  \n",
       "3              8.090909     25360       7     38034      12     40766       9  \n",
       "4             21.000000      1800       5      5300      10      5700       9  \n",
       "\n",
       "[5 rows x 41 columns]"
      ]
     },
     "execution_count": 50,
     "metadata": {},
     "output_type": "execute_result"
    }
   ],
   "source": [
    "# import the data\n",
    "import pandas as pd\n",
    "import numpy as np\n",
    "import warnings\n",
    "warnings.filterwarnings('ignore')\n",
    "\n",
    "writers = pd.read_csv(\"../clean data/user_summary_no2015.csv\", index_col=0)\n",
    "writers.head()"
   ]
  },
  {
   "cell_type": "code",
   "execution_count": 51,
   "metadata": {
    "collapsed": false
   },
   "outputs": [
    {
     "data": {
      "text/plain": [
       "Index([u'Writer Name', u'Member Length', u'LifetimeWordCount', u'url', u'Age',\n",
       "       u'Birthday', u'Favorite books or authors', u'Favorite noveling music',\n",
       "       u'Hobbies', u'Location', u'Occupation', u'Primary Role',\n",
       "       u'Sponsorship URL', u'Expected Final Word Count',\n",
       "       u'Expected Daily Average', u'CURRENT WINNER', u'Current Donor', u'Wins',\n",
       "       u'Donations', u'Participated', u'Consecutive Donor',\n",
       "       u'Consecutive Wins', u'Consecutive Part', u'Part Years', u'Win Years',\n",
       "       u'Donor Years', u'Num Novels', u'Expected Num Submissions',\n",
       "       u'Expected Avg Submission', u'Expected Min Submission',\n",
       "       u'Expected Min Day', u'Expected Max Submission', u'Expected Max Day',\n",
       "       u'Expected Std Submissions', u'Expected Consec Subs', u'FW Total',\n",
       "       u'FW Sub', u'FH Total', u'FH Sub', u'SH Total', u'SH Sub'],\n",
       "      dtype='object')"
      ]
     },
     "execution_count": 51,
     "metadata": {},
     "output_type": "execute_result"
    }
   ],
   "source": [
    "writers.columns"
   ]
  },
  {
   "cell_type": "code",
   "execution_count": 52,
   "metadata": {
    "collapsed": false
   },
   "outputs": [],
   "source": [
    "# convert primary role and sponsorship url to binary vars\n",
    "writers['Primary Role'][writers['Primary Role'] == 'Municipal Liaison'] = 1\n",
    "writers['Primary Role'][writers['Primary Role'] != 1] = 0\n",
    "\n",
    "writers['Sponsorship URL'].fillna(0, inplace=True)\n",
    "writers['Sponsorship URL'][writers['Sponsorship URL'] != 0] = 1"
   ]
  },
  {
   "cell_type": "code",
   "execution_count": 53,
   "metadata": {
    "collapsed": false
   },
   "outputs": [],
   "source": [
    "# let's keep ALL NUMERIAL COLUMNS except the CURRENT WINNER column which we will use as response\n",
    "features = writers._get_numeric_data()"
   ]
  },
  {
   "cell_type": "code",
   "execution_count": 54,
   "metadata": {
    "collapsed": false
   },
   "outputs": [
    {
     "data": {
      "text/html": [
       "<div>\n",
       "<table border=\"1\" class=\"dataframe\">\n",
       "  <thead>\n",
       "    <tr style=\"text-align: right;\">\n",
       "      <th></th>\n",
       "      <th>Member Length</th>\n",
       "      <th>LifetimeWordCount</th>\n",
       "      <th>Age</th>\n",
       "      <th>Expected Final Word Count</th>\n",
       "      <th>Expected Daily Average</th>\n",
       "      <th>Current Donor</th>\n",
       "      <th>Wins</th>\n",
       "      <th>Donations</th>\n",
       "      <th>Participated</th>\n",
       "      <th>Consecutive Donor</th>\n",
       "      <th>...</th>\n",
       "      <th>Expected Min Submission</th>\n",
       "      <th>Expected Min Day</th>\n",
       "      <th>Expected Max Submission</th>\n",
       "      <th>Expected Max Day</th>\n",
       "      <th>Expected Std Submissions</th>\n",
       "      <th>Expected Consec Subs</th>\n",
       "      <th>FW Total</th>\n",
       "      <th>FW Sub</th>\n",
       "      <th>FH Total</th>\n",
       "      <th>FH Sub</th>\n",
       "    </tr>\n",
       "  </thead>\n",
       "  <tbody>\n",
       "    <tr>\n",
       "      <th>0</th>\n",
       "      <td>2</td>\n",
       "      <td>50919</td>\n",
       "      <td>24</td>\n",
       "      <td>50919.000000</td>\n",
       "      <td>1697.300000</td>\n",
       "      <td>0</td>\n",
       "      <td>1</td>\n",
       "      <td>1</td>\n",
       "      <td>1</td>\n",
       "      <td>1</td>\n",
       "      <td>...</td>\n",
       "      <td>299.0</td>\n",
       "      <td>2.000000</td>\n",
       "      <td>24935.0</td>\n",
       "      <td>28.000000</td>\n",
       "      <td>6235.712933</td>\n",
       "      <td>12.000000</td>\n",
       "      <td>6689</td>\n",
       "      <td>6</td>\n",
       "      <td>12486</td>\n",
       "      <td>9</td>\n",
       "    </tr>\n",
       "    <tr>\n",
       "      <th>1</th>\n",
       "      <td>10</td>\n",
       "      <td>478090</td>\n",
       "      <td>NaN</td>\n",
       "      <td>47809.000000</td>\n",
       "      <td>1593.633333</td>\n",
       "      <td>1</td>\n",
       "      <td>8</td>\n",
       "      <td>8</td>\n",
       "      <td>10</td>\n",
       "      <td>8</td>\n",
       "      <td>...</td>\n",
       "      <td>42.7</td>\n",
       "      <td>7.700000</td>\n",
       "      <td>3809.0</td>\n",
       "      <td>9.000000</td>\n",
       "      <td>1002.295167</td>\n",
       "      <td>6.800000</td>\n",
       "      <td>16722</td>\n",
       "      <td>7</td>\n",
       "      <td>24086</td>\n",
       "      <td>14</td>\n",
       "    </tr>\n",
       "    <tr>\n",
       "      <th>2</th>\n",
       "      <td>1</td>\n",
       "      <td>0</td>\n",
       "      <td>NaN</td>\n",
       "      <td>NaN</td>\n",
       "      <td>NaN</td>\n",
       "      <td>1</td>\n",
       "      <td>0</td>\n",
       "      <td>0</td>\n",
       "      <td>0</td>\n",
       "      <td>0</td>\n",
       "      <td>...</td>\n",
       "      <td>NaN</td>\n",
       "      <td>NaN</td>\n",
       "      <td>NaN</td>\n",
       "      <td>NaN</td>\n",
       "      <td>NaN</td>\n",
       "      <td>NaN</td>\n",
       "      <td>28632</td>\n",
       "      <td>1</td>\n",
       "      <td>29299</td>\n",
       "      <td>2</td>\n",
       "    </tr>\n",
       "    <tr>\n",
       "      <th>3</th>\n",
       "      <td>11</td>\n",
       "      <td>475500</td>\n",
       "      <td>NaN</td>\n",
       "      <td>43227.272727</td>\n",
       "      <td>1440.909091</td>\n",
       "      <td>1</td>\n",
       "      <td>7</td>\n",
       "      <td>7</td>\n",
       "      <td>11</td>\n",
       "      <td>4</td>\n",
       "      <td>...</td>\n",
       "      <td>36.0</td>\n",
       "      <td>6.727273</td>\n",
       "      <td>2325.0</td>\n",
       "      <td>8.545455</td>\n",
       "      <td>570.626795</td>\n",
       "      <td>8.090909</td>\n",
       "      <td>25360</td>\n",
       "      <td>7</td>\n",
       "      <td>38034</td>\n",
       "      <td>12</td>\n",
       "    </tr>\n",
       "    <tr>\n",
       "      <th>4</th>\n",
       "      <td>3</td>\n",
       "      <td>30428</td>\n",
       "      <td>NaN</td>\n",
       "      <td>15214.000000</td>\n",
       "      <td>507.133333</td>\n",
       "      <td>0</td>\n",
       "      <td>0</td>\n",
       "      <td>0</td>\n",
       "      <td>2</td>\n",
       "      <td>0</td>\n",
       "      <td>...</td>\n",
       "      <td>50.0</td>\n",
       "      <td>10.500000</td>\n",
       "      <td>2054.5</td>\n",
       "      <td>4.500000</td>\n",
       "      <td>538.273315</td>\n",
       "      <td>21.000000</td>\n",
       "      <td>1800</td>\n",
       "      <td>5</td>\n",
       "      <td>5300</td>\n",
       "      <td>10</td>\n",
       "    </tr>\n",
       "  </tbody>\n",
       "</table>\n",
       "<p>5 rows × 25 columns</p>\n",
       "</div>"
      ],
      "text/plain": [
       "   Member Length  LifetimeWordCount  Age  Expected Final Word Count  \\\n",
       "0              2              50919   24               50919.000000   \n",
       "1             10             478090  NaN               47809.000000   \n",
       "2              1                  0  NaN                        NaN   \n",
       "3             11             475500  NaN               43227.272727   \n",
       "4              3              30428  NaN               15214.000000   \n",
       "\n",
       "   Expected Daily Average  Current Donor  Wins  Donations  Participated  \\\n",
       "0             1697.300000              0     1          1             1   \n",
       "1             1593.633333              1     8          8            10   \n",
       "2                     NaN              1     0          0             0   \n",
       "3             1440.909091              1     7          7            11   \n",
       "4              507.133333              0     0          0             2   \n",
       "\n",
       "   Consecutive Donor   ...    Expected Min Submission  Expected Min Day  \\\n",
       "0                  1   ...                      299.0          2.000000   \n",
       "1                  8   ...                       42.7          7.700000   \n",
       "2                  0   ...                        NaN               NaN   \n",
       "3                  4   ...                       36.0          6.727273   \n",
       "4                  0   ...                       50.0         10.500000   \n",
       "\n",
       "   Expected Max Submission  Expected Max Day  Expected Std Submissions  \\\n",
       "0                  24935.0         28.000000               6235.712933   \n",
       "1                   3809.0          9.000000               1002.295167   \n",
       "2                      NaN               NaN                       NaN   \n",
       "3                   2325.0          8.545455                570.626795   \n",
       "4                   2054.5          4.500000                538.273315   \n",
       "\n",
       "   Expected Consec Subs  FW Total  FW Sub  FH Total  FH Sub  \n",
       "0             12.000000      6689       6     12486       9  \n",
       "1              6.800000     16722       7     24086      14  \n",
       "2                   NaN     28632       1     29299       2  \n",
       "3              8.090909     25360       7     38034      12  \n",
       "4             21.000000      1800       5      5300      10  \n",
       "\n",
       "[5 rows x 25 columns]"
      ]
     },
     "execution_count": 54,
     "metadata": {},
     "output_type": "execute_result"
    }
   ],
   "source": [
    "del features['CURRENT WINNER']\n",
    "#deleting features \n",
    "del features['SH Sub']\n",
    "del features['SH Total']\n",
    "features.head()"
   ]
  },
  {
   "cell_type": "code",
   "execution_count": 55,
   "metadata": {
    "collapsed": false
   },
   "outputs": [],
   "source": [
    "y = writers['CURRENT WINNER'].values"
   ]
  },
  {
   "cell_type": "code",
   "execution_count": 56,
   "metadata": {
    "collapsed": false
   },
   "outputs": [
    {
     "data": {
      "text/html": [
       "<div>\n",
       "<table border=\"1\" class=\"dataframe\">\n",
       "  <thead>\n",
       "    <tr style=\"text-align: right;\">\n",
       "      <th></th>\n",
       "      <th>Member Length</th>\n",
       "      <th>LifetimeWordCount</th>\n",
       "      <th>Age</th>\n",
       "      <th>Expected Final Word Count</th>\n",
       "      <th>Expected Daily Average</th>\n",
       "      <th>Current Donor</th>\n",
       "      <th>Wins</th>\n",
       "      <th>Donations</th>\n",
       "      <th>Participated</th>\n",
       "      <th>Consecutive Donor</th>\n",
       "      <th>...</th>\n",
       "      <th>Expected Min Submission</th>\n",
       "      <th>Expected Min Day</th>\n",
       "      <th>Expected Max Submission</th>\n",
       "      <th>Expected Max Day</th>\n",
       "      <th>Expected Std Submissions</th>\n",
       "      <th>Expected Consec Subs</th>\n",
       "      <th>FW Total</th>\n",
       "      <th>FW Sub</th>\n",
       "      <th>FH Total</th>\n",
       "      <th>FH Sub</th>\n",
       "    </tr>\n",
       "  </thead>\n",
       "  <tbody>\n",
       "    <tr>\n",
       "      <th>count</th>\n",
       "      <td>501.000000</td>\n",
       "      <td>501.000000</td>\n",
       "      <td>501.000000</td>\n",
       "      <td>501.000000</td>\n",
       "      <td>501.000000</td>\n",
       "      <td>501.000000</td>\n",
       "      <td>501.000000</td>\n",
       "      <td>501.000000</td>\n",
       "      <td>501.000000</td>\n",
       "      <td>501.000000</td>\n",
       "      <td>...</td>\n",
       "      <td>501.000000</td>\n",
       "      <td>501.000000</td>\n",
       "      <td>501.000000</td>\n",
       "      <td>501.000000</td>\n",
       "      <td>501.000000</td>\n",
       "      <td>501.000000</td>\n",
       "      <td>501.000000</td>\n",
       "      <td>501.000000</td>\n",
       "      <td>501.000000</td>\n",
       "      <td>501.000000</td>\n",
       "    </tr>\n",
       "    <tr>\n",
       "      <th>mean</th>\n",
       "      <td>4.212575</td>\n",
       "      <td>172552.676647</td>\n",
       "      <td>8.596806</td>\n",
       "      <td>36428.312194</td>\n",
       "      <td>1214.277073</td>\n",
       "      <td>0.317365</td>\n",
       "      <td>2.606786</td>\n",
       "      <td>1.421158</td>\n",
       "      <td>3.656687</td>\n",
       "      <td>1.047904</td>\n",
       "      <td>...</td>\n",
       "      <td>73.105821</td>\n",
       "      <td>6.128300</td>\n",
       "      <td>4764.389341</td>\n",
       "      <td>10.005534</td>\n",
       "      <td>1314.411102</td>\n",
       "      <td>9.573348</td>\n",
       "      <td>12203.137725</td>\n",
       "      <td>4.413174</td>\n",
       "      <td>20962.403194</td>\n",
       "      <td>8.137725</td>\n",
       "    </tr>\n",
       "    <tr>\n",
       "      <th>std</th>\n",
       "      <td>3.255209</td>\n",
       "      <td>329113.331830</td>\n",
       "      <td>14.463648</td>\n",
       "      <td>43782.218313</td>\n",
       "      <td>1459.407277</td>\n",
       "      <td>0.465916</td>\n",
       "      <td>4.651782</td>\n",
       "      <td>3.044384</td>\n",
       "      <td>4.899582</td>\n",
       "      <td>1.760029</td>\n",
       "      <td>...</td>\n",
       "      <td>1566.761571</td>\n",
       "      <td>6.145692</td>\n",
       "      <td>5727.358954</td>\n",
       "      <td>8.406292</td>\n",
       "      <td>2011.241171</td>\n",
       "      <td>8.393503</td>\n",
       "      <td>39000.987493</td>\n",
       "      <td>2.614373</td>\n",
       "      <td>54462.877403</td>\n",
       "      <td>5.140330</td>\n",
       "    </tr>\n",
       "    <tr>\n",
       "      <th>min</th>\n",
       "      <td>0.166667</td>\n",
       "      <td>0.000000</td>\n",
       "      <td>0.000000</td>\n",
       "      <td>0.000000</td>\n",
       "      <td>0.000000</td>\n",
       "      <td>0.000000</td>\n",
       "      <td>0.000000</td>\n",
       "      <td>0.000000</td>\n",
       "      <td>0.000000</td>\n",
       "      <td>0.000000</td>\n",
       "      <td>...</td>\n",
       "      <td>-21113.500000</td>\n",
       "      <td>0.000000</td>\n",
       "      <td>0.000000</td>\n",
       "      <td>0.000000</td>\n",
       "      <td>0.000000</td>\n",
       "      <td>0.000000</td>\n",
       "      <td>0.000000</td>\n",
       "      <td>0.000000</td>\n",
       "      <td>0.000000</td>\n",
       "      <td>0.000000</td>\n",
       "    </tr>\n",
       "    <tr>\n",
       "      <th>25%</th>\n",
       "      <td>1.000000</td>\n",
       "      <td>9818.000000</td>\n",
       "      <td>0.000000</td>\n",
       "      <td>7443.250000</td>\n",
       "      <td>248.108333</td>\n",
       "      <td>0.000000</td>\n",
       "      <td>0.000000</td>\n",
       "      <td>0.000000</td>\n",
       "      <td>1.000000</td>\n",
       "      <td>0.000000</td>\n",
       "      <td>...</td>\n",
       "      <td>0.000000</td>\n",
       "      <td>1.000000</td>\n",
       "      <td>955.000000</td>\n",
       "      <td>1.000000</td>\n",
       "      <td>256.685927</td>\n",
       "      <td>0.000000</td>\n",
       "      <td>2258.000000</td>\n",
       "      <td>2.000000</td>\n",
       "      <td>3925.000000</td>\n",
       "      <td>3.000000</td>\n",
       "    </tr>\n",
       "    <tr>\n",
       "      <th>50%</th>\n",
       "      <td>4.000000</td>\n",
       "      <td>93385.000000</td>\n",
       "      <td>0.000000</td>\n",
       "      <td>37594.333333</td>\n",
       "      <td>1253.144444</td>\n",
       "      <td>0.000000</td>\n",
       "      <td>1.000000</td>\n",
       "      <td>0.000000</td>\n",
       "      <td>2.000000</td>\n",
       "      <td>0.000000</td>\n",
       "      <td>...</td>\n",
       "      <td>85.666667</td>\n",
       "      <td>4.500000</td>\n",
       "      <td>3546.500000</td>\n",
       "      <td>9.333333</td>\n",
       "      <td>873.018486</td>\n",
       "      <td>8.500000</td>\n",
       "      <td>7890.000000</td>\n",
       "      <td>5.000000</td>\n",
       "      <td>15212.000000</td>\n",
       "      <td>10.000000</td>\n",
       "    </tr>\n",
       "    <tr>\n",
       "      <th>75%</th>\n",
       "      <td>6.000000</td>\n",
       "      <td>206482.000000</td>\n",
       "      <td>20.000000</td>\n",
       "      <td>50734.200000</td>\n",
       "      <td>1691.140000</td>\n",
       "      <td>1.000000</td>\n",
       "      <td>3.000000</td>\n",
       "      <td>2.000000</td>\n",
       "      <td>5.000000</td>\n",
       "      <td>1.000000</td>\n",
       "      <td>...</td>\n",
       "      <td>291.500000</td>\n",
       "      <td>10.000000</td>\n",
       "      <td>6250.000000</td>\n",
       "      <td>16.200000</td>\n",
       "      <td>1516.145753</td>\n",
       "      <td>16.000000</td>\n",
       "      <td>12361.000000</td>\n",
       "      <td>7.000000</td>\n",
       "      <td>23832.000000</td>\n",
       "      <td>13.000000</td>\n",
       "    </tr>\n",
       "    <tr>\n",
       "      <th>max</th>\n",
       "      <td>13.000000</td>\n",
       "      <td>4562712.000000</td>\n",
       "      <td>61.000000</td>\n",
       "      <td>651816.000000</td>\n",
       "      <td>21727.200000</td>\n",
       "      <td>1.000000</td>\n",
       "      <td>52.000000</td>\n",
       "      <td>36.000000</td>\n",
       "      <td>52.000000</td>\n",
       "      <td>9.000000</td>\n",
       "      <td>...</td>\n",
       "      <td>5000.000000</td>\n",
       "      <td>27.666667</td>\n",
       "      <td>51238.000000</td>\n",
       "      <td>30.000000</td>\n",
       "      <td>23874.872328</td>\n",
       "      <td>30.000000</td>\n",
       "      <td>630036.000000</td>\n",
       "      <td>7.000000</td>\n",
       "      <td>1000000.000000</td>\n",
       "      <td>14.000000</td>\n",
       "    </tr>\n",
       "  </tbody>\n",
       "</table>\n",
       "<p>8 rows × 25 columns</p>\n",
       "</div>"
      ],
      "text/plain": [
       "       Member Length  LifetimeWordCount         Age  \\\n",
       "count     501.000000         501.000000  501.000000   \n",
       "mean        4.212575      172552.676647    8.596806   \n",
       "std         3.255209      329113.331830   14.463648   \n",
       "min         0.166667           0.000000    0.000000   \n",
       "25%         1.000000        9818.000000    0.000000   \n",
       "50%         4.000000       93385.000000    0.000000   \n",
       "75%         6.000000      206482.000000   20.000000   \n",
       "max        13.000000     4562712.000000   61.000000   \n",
       "\n",
       "       Expected Final Word Count  Expected Daily Average  Current Donor  \\\n",
       "count                 501.000000              501.000000     501.000000   \n",
       "mean                36428.312194             1214.277073       0.317365   \n",
       "std                 43782.218313             1459.407277       0.465916   \n",
       "min                     0.000000                0.000000       0.000000   \n",
       "25%                  7443.250000              248.108333       0.000000   \n",
       "50%                 37594.333333             1253.144444       0.000000   \n",
       "75%                 50734.200000             1691.140000       1.000000   \n",
       "max                651816.000000            21727.200000       1.000000   \n",
       "\n",
       "             Wins   Donations  Participated  Consecutive Donor     ...      \\\n",
       "count  501.000000  501.000000    501.000000         501.000000     ...       \n",
       "mean     2.606786    1.421158      3.656687           1.047904     ...       \n",
       "std      4.651782    3.044384      4.899582           1.760029     ...       \n",
       "min      0.000000    0.000000      0.000000           0.000000     ...       \n",
       "25%      0.000000    0.000000      1.000000           0.000000     ...       \n",
       "50%      1.000000    0.000000      2.000000           0.000000     ...       \n",
       "75%      3.000000    2.000000      5.000000           1.000000     ...       \n",
       "max     52.000000   36.000000     52.000000           9.000000     ...       \n",
       "\n",
       "       Expected Min Submission  Expected Min Day  Expected Max Submission  \\\n",
       "count               501.000000        501.000000               501.000000   \n",
       "mean                 73.105821          6.128300              4764.389341   \n",
       "std                1566.761571          6.145692              5727.358954   \n",
       "min              -21113.500000          0.000000                 0.000000   \n",
       "25%                   0.000000          1.000000               955.000000   \n",
       "50%                  85.666667          4.500000              3546.500000   \n",
       "75%                 291.500000         10.000000              6250.000000   \n",
       "max                5000.000000         27.666667             51238.000000   \n",
       "\n",
       "       Expected Max Day  Expected Std Submissions  Expected Consec Subs  \\\n",
       "count        501.000000                501.000000            501.000000   \n",
       "mean          10.005534               1314.411102              9.573348   \n",
       "std            8.406292               2011.241171              8.393503   \n",
       "min            0.000000                  0.000000              0.000000   \n",
       "25%            1.000000                256.685927              0.000000   \n",
       "50%            9.333333                873.018486              8.500000   \n",
       "75%           16.200000               1516.145753             16.000000   \n",
       "max           30.000000              23874.872328             30.000000   \n",
       "\n",
       "            FW Total      FW Sub        FH Total      FH Sub  \n",
       "count     501.000000  501.000000      501.000000  501.000000  \n",
       "mean    12203.137725    4.413174    20962.403194    8.137725  \n",
       "std     39000.987493    2.614373    54462.877403    5.140330  \n",
       "min         0.000000    0.000000        0.000000    0.000000  \n",
       "25%      2258.000000    2.000000     3925.000000    3.000000  \n",
       "50%      7890.000000    5.000000    15212.000000   10.000000  \n",
       "75%     12361.000000    7.000000    23832.000000   13.000000  \n",
       "max    630036.000000    7.000000  1000000.000000   14.000000  \n",
       "\n",
       "[8 rows x 25 columns]"
      ]
     },
     "execution_count": 56,
     "metadata": {},
     "output_type": "execute_result"
    }
   ],
   "source": [
    "# inputting 0 for users without prior data for daily avg, avg submission, num submissions etc. and so are marked NaN\n",
    "features.fillna(0, inplace=True)\n",
    "features.describe()"
   ]
  },
  {
   "cell_type": "code",
   "execution_count": 57,
   "metadata": {
    "collapsed": false
   },
   "outputs": [
    {
     "data": {
      "text/html": [
       "\n",
       "\n",
       "    <script type=\"text/javascript\">\n",
       "      \n",
       "      (function(global) {\n",
       "        function now() {\n",
       "          return new Date();\n",
       "        }\n",
       "      \n",
       "        if (typeof (window._bokeh_onload_callbacks) === \"undefined\") {\n",
       "          window._bokeh_onload_callbacks = [];\n",
       "        }\n",
       "      \n",
       "        function run_callbacks() {\n",
       "          window._bokeh_onload_callbacks.forEach(function(callback) { callback() });\n",
       "          delete window._bokeh_onload_callbacks\n",
       "          console.info(\"Bokeh: all callbacks have finished\");\n",
       "        }\n",
       "      \n",
       "        function load_libs(js_urls, callback) {\n",
       "          window._bokeh_onload_callbacks.push(callback);\n",
       "          if (window._bokeh_is_loading > 0) {\n",
       "            console.log(\"Bokeh: BokehJS is being loaded, scheduling callback at\", now());\n",
       "            return null;\n",
       "          }\n",
       "          if (js_urls == null || js_urls.length === 0) {\n",
       "            run_callbacks();\n",
       "            return null;\n",
       "          }\n",
       "          console.log(\"Bokeh: BokehJS not loaded, scheduling load and callback at\", now());\n",
       "          window._bokeh_is_loading = js_urls.length;\n",
       "          for (var i = 0; i < js_urls.length; i++) {\n",
       "            var url = js_urls[i];\n",
       "            var s = document.createElement('script');\n",
       "            s.src = url;\n",
       "            s.async = false;\n",
       "            s.onreadystatechange = s.onload = function() {\n",
       "              window._bokeh_is_loading--;\n",
       "              if (window._bokeh_is_loading === 0) {\n",
       "                console.log(\"Bokeh: all BokehJS libraries loaded\");\n",
       "                run_callbacks()\n",
       "              }\n",
       "            };\n",
       "            s.onerror = function() {\n",
       "              console.warn(\"failed to load library \" + url);\n",
       "            };\n",
       "            console.log(\"Bokeh: injecting script tag for BokehJS library: \", url);\n",
       "            document.getElementsByTagName(\"head\")[0].appendChild(s);\n",
       "          }\n",
       "        };var js_urls = ['https://cdn.pydata.org/bokeh/release/bokeh-0.11.0.min.js', 'https://cdn.pydata.org/bokeh/release/bokeh-widgets-0.11.0.min.js', 'https://cdn.pydata.org/bokeh/release/bokeh-compiler-0.11.0.min.js'];\n",
       "      \n",
       "        var inline_js = [\n",
       "          function(Bokeh) {\n",
       "            Bokeh.set_log_level(\"info\");\n",
       "          },\n",
       "          function(Bokeh) {\n",
       "            console.log(\"Bokeh: injecting CSS: https://cdn.pydata.org/bokeh/release/bokeh-0.11.0.min.css\");\n",
       "            Bokeh.embed.inject_css(\"https://cdn.pydata.org/bokeh/release/bokeh-0.11.0.min.css\");\n",
       "            console.log(\"Bokeh: injecting CSS: https://cdn.pydata.org/bokeh/release/bokeh-widgets-0.11.0.min.css\");\n",
       "            Bokeh.embed.inject_css(\"https://cdn.pydata.org/bokeh/release/bokeh-widgets-0.11.0.min.css\");\n",
       "          }\n",
       "        ];\n",
       "      \n",
       "        function run_inline_js() {\n",
       "          for (var i = 0; i < inline_js.length; i++) {\n",
       "            inline_js[i](window.Bokeh);\n",
       "          }\n",
       "        }\n",
       "      \n",
       "        if (window._bokeh_is_loading === 0) {\n",
       "          console.log(\"Bokeh: BokehJS loaded, going straight to plotting\");\n",
       "          run_inline_js();\n",
       "        } else {\n",
       "          load_libs(js_urls, function() {\n",
       "            console.log(\"Bokeh: BokehJS plotting callback run at\", now());\n",
       "            run_inline_js();\n",
       "          });\n",
       "        }\n",
       "      }(this));\n",
       "    </script>\n",
       "    <div>\n",
       "        <a href=\"http://bokeh.pydata.org\" target=\"_blank\" class=\"bk-logo bk-logo-small bk-logo-notebook\"></a>\n",
       "        <span>BokehJS successfully loaded.</span>\n",
       "    </div>"
      ]
     },
     "metadata": {},
     "output_type": "display_data"
    }
   ],
   "source": [
    "from sklearn.linear_model import LogisticRegression\n",
    "from sklearn.preprocessing import StandardScaler\n",
    "from sklearn.cross_validation import cross_val_score\n",
    "from sklearn.cross_validation import train_test_split\n",
    "from sklearn.metrics import classification_report\n",
    "from sklearn.metrics import confusion_matrix\n",
    "from sklearn.metrics import roc_curve\n",
    "from sklearn.metrics import auc\n",
    "from bokeh.plotting import figure,show,output_notebook\n",
    "from bokeh.models import Range1d\n",
    "output_notebook()"
   ]
  },
  {
   "cell_type": "markdown",
   "metadata": {},
   "source": [
    "### Normalize data"
   ]
  },
  {
   "cell_type": "code",
   "execution_count": 58,
   "metadata": {
    "collapsed": false
   },
   "outputs": [
    {
     "data": {
      "text/plain": [
       "array([ 1.77967343,  0.92929298, -0.5949674 ,  0.26019839,  0.26019839,\n",
       "        1.46660949,  1.16054543,  2.1631367 ,  1.29595831,  3.95393831,\n",
       "        1.98638802,  2.35830378,  1.92083955, -0.29678396, -0.38505565,\n",
       "       -0.01942619,  0.25599572, -0.16697823, -0.11973645, -0.15534084,\n",
       "       -0.33074635,  0.11598114,  0.99045236,  0.05741009,  1.14158714])"
      ]
     },
     "execution_count": 58,
     "metadata": {},
     "output_type": "execute_result"
    }
   ],
   "source": [
    "scaler = StandardScaler()\n",
    "features_norm = scaler.fit_transform(features)\n",
    "features_norm[1]"
   ]
  },
  {
   "cell_type": "markdown",
   "metadata": {},
   "source": [
    "### Apply Logistic Regression"
   ]
  },
  {
   "cell_type": "code",
   "execution_count": 59,
   "metadata": {
    "collapsed": true
   },
   "outputs": [],
   "source": [
    "def plot_roc_curve(target_test, target_predicted_proba):\n",
    "    fpr, tpr, thresholds = roc_curve(target_test, target_predicted_proba[:, 1])\n",
    "    \n",
    "    roc_auc = auc(fpr, tpr)\n",
    "    \n",
    "    p = figure(title='Receiver Operating Characteristic')\n",
    "    # Plot ROC curve\n",
    "    p.line(x=fpr,y=tpr,legend='ROC curve (area = %0.3f)' % roc_auc)\n",
    "    p.x_range=Range1d(0,1)\n",
    "    p.y_range=Range1d(0,1)\n",
    "    p.xaxis.axis_label='False Positive Rate or (1 - Specifity)'\n",
    "    p.yaxis.axis_label='True Positive Rate or (Sensitivity)'\n",
    "    p.legend.orientation = \"bottom_right\"\n",
    "    show(p)\n",
    "    \n",
    "%matplotlib inline"
   ]
  },
  {
   "cell_type": "code",
   "execution_count": 60,
   "metadata": {
    "collapsed": false
   },
   "outputs": [],
   "source": [
    "X_train, X_test, y_train, y_test = train_test_split(features_norm,y, test_size=0.2, random_state=0)"
   ]
  },
  {
   "cell_type": "code",
   "execution_count": 61,
   "metadata": {
    "collapsed": false
   },
   "outputs": [
    {
     "data": {
      "text/plain": [
       "0.8623889931207005"
      ]
     },
     "execution_count": 61,
     "metadata": {},
     "output_type": "execute_result"
    }
   ],
   "source": [
    "model_lr = LogisticRegression(C=5)\n",
    "cross_val_score(model_lr,X_train, y_train,cv=10).mean()"
   ]
  },
  {
   "cell_type": "markdown",
   "metadata": {},
   "source": [
    "Wow! That's a very good cross validation score! Now let's check out the model's confusion matrix and classification report and how well it does predicting the targets of the test data.\n",
    "\n"
   ]
  },
  {
   "cell_type": "code",
   "execution_count": 62,
   "metadata": {
    "collapsed": false
   },
   "outputs": [
    {
     "name": "stdout",
     "output_type": "stream",
     "text": [
      "                   Actual Class 0  Actual Class 1\n",
      "Predicted Class 0              46               9\n",
      "Predicted Class 1               8              38\n",
      "             precision    recall  f1-score   support\n",
      "\n",
      "          0       0.85      0.84      0.84        55\n",
      "          1       0.81      0.83      0.82        46\n",
      "\n",
      "avg / total       0.83      0.83      0.83       101\n",
      "\n",
      "0.831683168317\n"
     ]
    },
    {
     "data": {
      "text/html": [
       "\n",
       "\n",
       "    <div class=\"plotdiv\" id=\"c34152ae-b7a7-4021-a905-1162df03e699\"></div>\n",
       "<script type=\"text/javascript\">\n",
       "  \n",
       "  (function(global) {\n",
       "    function now() {\n",
       "      return new Date();\n",
       "    }\n",
       "  \n",
       "    if (typeof (window._bokeh_onload_callbacks) === \"undefined\") {\n",
       "      window._bokeh_onload_callbacks = [];\n",
       "    }\n",
       "  \n",
       "    function run_callbacks() {\n",
       "      window._bokeh_onload_callbacks.forEach(function(callback) { callback() });\n",
       "      delete window._bokeh_onload_callbacks\n",
       "      console.info(\"Bokeh: all callbacks have finished\");\n",
       "    }\n",
       "  \n",
       "    function load_libs(js_urls, callback) {\n",
       "      window._bokeh_onload_callbacks.push(callback);\n",
       "      if (window._bokeh_is_loading > 0) {\n",
       "        console.log(\"Bokeh: BokehJS is being loaded, scheduling callback at\", now());\n",
       "        return null;\n",
       "      }\n",
       "      if (js_urls == null || js_urls.length === 0) {\n",
       "        run_callbacks();\n",
       "        return null;\n",
       "      }\n",
       "      console.log(\"Bokeh: BokehJS not loaded, scheduling load and callback at\", now());\n",
       "      window._bokeh_is_loading = js_urls.length;\n",
       "      for (var i = 0; i < js_urls.length; i++) {\n",
       "        var url = js_urls[i];\n",
       "        var s = document.createElement('script');\n",
       "        s.src = url;\n",
       "        s.async = false;\n",
       "        s.onreadystatechange = s.onload = function() {\n",
       "          window._bokeh_is_loading--;\n",
       "          if (window._bokeh_is_loading === 0) {\n",
       "            console.log(\"Bokeh: all BokehJS libraries loaded\");\n",
       "            run_callbacks()\n",
       "          }\n",
       "        };\n",
       "        s.onerror = function() {\n",
       "          console.warn(\"failed to load library \" + url);\n",
       "        };\n",
       "        console.log(\"Bokeh: injecting script tag for BokehJS library: \", url);\n",
       "        document.getElementsByTagName(\"head\")[0].appendChild(s);\n",
       "      }\n",
       "    };var element = document.getElementById(\"c34152ae-b7a7-4021-a905-1162df03e699\");\n",
       "    if (element == null) {\n",
       "      console.log(\"Bokeh: ERROR: autoload.js configured with elementid 'c34152ae-b7a7-4021-a905-1162df03e699' but no matching script tag was found. \")\n",
       "      return false;\n",
       "    }var js_urls = [];\n",
       "  \n",
       "    var inline_js = [\n",
       "      function(Bokeh) {\n",
       "        Bokeh.$(function() {\n",
       "            var docs_json = {\"00435098-3aa6-41d2-985c-3f69c4e69985\": {\"version\": \"0.11.0\", \"roots\": {\"root_ids\": [\"a21b58ac-9738-45a8-9c81-9d0527e32a86\", \"dc1f8d7d-2069-4df0-8089-4f31d8cc0caf\", \"46f1ca09-f3b9-494a-be85-ade83b20cbc6\"], \"references\": [{\"attributes\": {\"plot\": {\"subtype\": \"Figure\", \"type\": \"Plot\", \"id\": \"dc1f8d7d-2069-4df0-8089-4f31d8cc0caf\"}, \"overlay\": {\"type\": \"BoxAnnotation\", \"id\": \"1bc23a55-1e33-49db-bdcd-05805c7a4664\"}}, \"type\": \"BoxZoomTool\", \"id\": \"753f080d-90a9-4cae-9e0a-7d0c67166a81\"}, {\"attributes\": {\"nonselection_glyph\": {\"type\": \"Line\", \"id\": \"e5750240-4804-415b-b053-b51a8d6fd9ff\"}, \"data_source\": {\"type\": \"ColumnDataSource\", \"id\": \"e5998992-e7fd-494a-98f8-7c56652217de\"}, \"selection_glyph\": null, \"hover_glyph\": null, \"glyph\": {\"type\": \"Line\", \"id\": \"2a1295b6-8c18-4d98-b2f9-59fe075ea4df\"}}, \"type\": \"GlyphRenderer\", \"id\": \"2c55d054-a551-49d1-93b6-b4e69a2a9396\"}, {\"attributes\": {\"line_color\": {\"value\": \"#1f77b4\"}, \"line_alpha\": {\"value\": 0.1}, \"y\": {\"field\": \"y\"}, \"x\": {\"field\": \"x\"}}, \"type\": \"Line\", \"id\": \"e5750240-4804-415b-b053-b51a8d6fd9ff\"}, {\"attributes\": {\"callback\": null, \"column_names\": [\"y\", \"x\"], \"data\": {\"y\": [0.0, 0.06521739130434782, 0.2608695652173913, 0.30434782608695654, 0.5434782608695652, 0.5434782608695652, 0.5869565217391305, 0.5869565217391305, 0.9130434782608695, 0.9130434782608695, 1.0, 1.0], \"x\": [0.0, 0.01818181818181818, 0.01818181818181818, 0.01818181818181818, 0.01818181818181818, 0.03636363636363636, 0.03636363636363636, 0.05454545454545454, 0.05454545454545454, 0.07272727272727272, 0.07272727272727272, 1.0]}}, \"type\": \"ColumnDataSource\", \"id\": \"e5998992-e7fd-494a-98f8-7c56652217de\"}, {\"attributes\": {\"plot\": {\"subtype\": \"Figure\", \"type\": \"Plot\", \"id\": \"dc1f8d7d-2069-4df0-8089-4f31d8cc0caf\"}}, \"type\": \"ResizeTool\", \"id\": \"1f3e89a7-b50b-4cd6-ab8e-dd2a6197c6bf\"}, {\"attributes\": {\"line_color\": {\"value\": \"#1f77b4\"}, \"line_alpha\": {\"value\": 0.1}, \"y\": {\"field\": \"y\"}, \"x\": {\"field\": \"x\"}}, \"type\": \"Line\", \"id\": \"da9ab4a2-8479-4595-9369-8a8c354edc11\"}, {\"attributes\": {\"callback\": null, \"column_names\": [\"y\", \"x\"], \"data\": {\"y\": [0.0, 0.0, 0.41304347826086957, 0.41304347826086957, 0.4782608695652174, 0.4782608695652174, 0.5217391304347826, 0.5217391304347826, 0.717391304347826, 0.717391304347826, 0.7391304347826086, 0.7391304347826086, 0.7608695652173914, 0.7608695652173914, 0.8695652173913043, 0.8695652173913043, 0.9130434782608695, 0.9130434782608695, 0.9347826086956522, 0.9347826086956522, 0.9565217391304348, 0.9565217391304348, 1.0, 1.0], \"x\": [0.0, 0.01818181818181818, 0.01818181818181818, 0.03636363636363636, 0.03636363636363636, 0.05454545454545454, 0.05454545454545454, 0.07272727272727272, 0.07272727272727272, 0.10909090909090909, 0.10909090909090909, 0.14545454545454545, 0.14545454545454545, 0.16363636363636364, 0.16363636363636364, 0.21818181818181817, 0.21818181818181817, 0.23636363636363636, 0.23636363636363636, 0.41818181818181815, 0.41818181818181815, 0.7818181818181819, 0.7818181818181819, 1.0]}}, \"type\": \"ColumnDataSource\", \"id\": \"d3922c91-42ed-4745-abb3-f454f67b0d08\"}, {\"attributes\": {}, \"type\": \"BasicTicker\", \"id\": \"dbfa6462-5dce-45d9-9050-66512cfd506e\"}, {\"attributes\": {\"plot\": {\"subtype\": \"Figure\", \"type\": \"Plot\", \"id\": \"46f1ca09-f3b9-494a-be85-ade83b20cbc6\"}, \"axis_label\": \"False Positive Rate or (1 - Specifity)\", \"formatter\": {\"type\": \"BasicTickFormatter\", \"id\": \"8482c2c2-2ef6-415e-8a73-651cf17088f5\"}, \"ticker\": {\"type\": \"BasicTicker\", \"id\": \"d5966f2d-a1ee-44da-b284-7c523e27388e\"}}, \"type\": \"LinearAxis\", \"id\": \"8ad7b553-2451-45f5-8e9d-18af2dd9c0c0\"}, {\"attributes\": {}, \"type\": \"BasicTickFormatter\", \"id\": \"d37c18cc-310d-4b82-a4c2-7b74ce96fa89\"}, {\"attributes\": {\"plot\": {\"subtype\": \"Figure\", \"type\": \"Plot\", \"id\": \"dc1f8d7d-2069-4df0-8089-4f31d8cc0caf\"}}, \"type\": \"PanTool\", \"id\": \"cf28b0d0-c298-498a-bb4a-fb708fb00129\"}, {\"attributes\": {\"callback\": null}, \"type\": \"Range1d\", \"id\": \"e4db7c17-4c89-4994-baaf-b1aa3cfb0ebf\"}, {\"attributes\": {\"plot\": {\"subtype\": \"Figure\", \"type\": \"Plot\", \"id\": \"dc1f8d7d-2069-4df0-8089-4f31d8cc0caf\"}, \"legends\": [[\"ROC curve (area = 0.965)\", [{\"type\": \"GlyphRenderer\", \"id\": \"2c55d054-a551-49d1-93b6-b4e69a2a9396\"}]]], \"location\": \"bottom_right\"}, \"type\": \"Legend\", \"id\": \"421ebcc7-9134-419c-8c0a-dfe144fafb51\"}, {\"attributes\": {\"plot\": {\"subtype\": \"Figure\", \"type\": \"Plot\", \"id\": \"46f1ca09-f3b9-494a-be85-ade83b20cbc6\"}}, \"type\": \"PanTool\", \"id\": \"d21f5832-6b7d-4408-bf51-4b069a6096fb\"}, {\"attributes\": {\"plot\": {\"subtype\": \"Figure\", \"type\": \"Plot\", \"id\": \"a21b58ac-9738-45a8-9c81-9d0527e32a86\"}}, \"type\": \"HelpTool\", \"id\": \"baa36e3d-3fd9-43c1-91e0-023f1b104397\"}, {\"attributes\": {\"plot\": {\"subtype\": \"Figure\", \"type\": \"Plot\", \"id\": \"a21b58ac-9738-45a8-9c81-9d0527e32a86\"}, \"axis_label\": \"True Positive Rate or (Sensitivity)\", \"formatter\": {\"type\": \"BasicTickFormatter\", \"id\": \"4aa5698f-ec62-4c70-ae45-4e08c36b013b\"}, \"ticker\": {\"type\": \"BasicTicker\", \"id\": \"dbfa6462-5dce-45d9-9050-66512cfd506e\"}}, \"type\": \"LinearAxis\", \"id\": \"a65c4e49-c353-40e6-9d13-9184f1abbbaf\"}, {\"attributes\": {\"plot\": {\"subtype\": \"Figure\", \"type\": \"Plot\", \"id\": \"46f1ca09-f3b9-494a-be85-ade83b20cbc6\"}, \"ticker\": {\"type\": \"BasicTicker\", \"id\": \"d5966f2d-a1ee-44da-b284-7c523e27388e\"}}, \"type\": \"Grid\", \"id\": \"6bb04fe9-32d7-4e9a-8579-b76a34061f87\"}, {\"attributes\": {\"plot\": {\"subtype\": \"Figure\", \"type\": \"Plot\", \"id\": \"a21b58ac-9738-45a8-9c81-9d0527e32a86\"}, \"ticker\": {\"type\": \"BasicTicker\", \"id\": \"8ddd3c87-eb1d-48d4-b1ef-de41b12a07c1\"}}, \"type\": \"Grid\", \"id\": \"0d307a6a-5cf2-441b-97ed-a76d65743230\"}, {\"attributes\": {}, \"type\": \"ToolEvents\", \"id\": \"b8663e3e-e471-4edd-a22f-189563d90428\"}, {\"attributes\": {\"plot\": {\"subtype\": \"Figure\", \"type\": \"Plot\", \"id\": \"46f1ca09-f3b9-494a-be85-ade83b20cbc6\"}, \"overlay\": {\"type\": \"BoxAnnotation\", \"id\": \"114d5779-f678-4e41-ba9b-2d6eefa6a6bd\"}}, \"type\": \"BoxZoomTool\", \"id\": \"1aa886cc-9c9d-4367-a8b8-ad57a4e2a6b8\"}, {\"attributes\": {\"callback\": null}, \"type\": \"Range1d\", \"id\": \"cd8239c0-fa97-42af-a029-61584964467e\"}, {\"attributes\": {\"plot\": {\"subtype\": \"Figure\", \"type\": \"Plot\", \"id\": \"dc1f8d7d-2069-4df0-8089-4f31d8cc0caf\"}, \"axis_label\": \"True Positive Rate or (Sensitivity)\", \"formatter\": {\"type\": \"BasicTickFormatter\", \"id\": \"95401525-cbf5-43e0-a0ec-fac232d859e7\"}, \"ticker\": {\"type\": \"BasicTicker\", \"id\": \"03c2fb10-af5b-44a5-a5f7-e37ccf90310b\"}}, \"type\": \"LinearAxis\", \"id\": \"29dc3d2c-1d9a-430f-9d84-cbe7966c7157\"}, {\"attributes\": {}, \"type\": \"BasicTicker\", \"id\": \"d9db059c-a3cd-4646-a6bc-685da106b00f\"}, {\"attributes\": {}, \"type\": \"BasicTicker\", \"id\": \"d5966f2d-a1ee-44da-b284-7c523e27388e\"}, {\"attributes\": {\"plot\": {\"subtype\": \"Figure\", \"type\": \"Plot\", \"id\": \"a21b58ac-9738-45a8-9c81-9d0527e32a86\"}, \"legends\": [[\"ROC curve (area = 0.892)\", [{\"type\": \"GlyphRenderer\", \"id\": \"97796d30-2e2e-4493-af61-c77a8f84141e\"}]]], \"location\": \"bottom_right\"}, \"type\": \"Legend\", \"id\": \"7da5dc16-24be-40e7-bf3a-cc8d80f40a67\"}, {\"attributes\": {\"line_color\": {\"value\": \"#1f77b4\"}, \"x\": {\"field\": \"x\"}, \"y\": {\"field\": \"y\"}}, \"type\": \"Line\", \"id\": \"2a1295b6-8c18-4d98-b2f9-59fe075ea4df\"}, {\"attributes\": {\"plot\": {\"subtype\": \"Figure\", \"type\": \"Plot\", \"id\": \"a21b58ac-9738-45a8-9c81-9d0527e32a86\"}}, \"type\": \"WheelZoomTool\", \"id\": \"84b885d3-5e5f-41d3-b795-777427ca86c7\"}, {\"attributes\": {\"plot\": {\"subtype\": \"Figure\", \"type\": \"Plot\", \"id\": \"dc1f8d7d-2069-4df0-8089-4f31d8cc0caf\"}, \"ticker\": {\"type\": \"BasicTicker\", \"id\": \"0089e9f1-3e4a-4565-a894-916d1ec01319\"}}, \"type\": \"Grid\", \"id\": \"3bf243df-91ce-47b2-8bb8-d22770475ab4\"}, {\"attributes\": {\"plot\": {\"subtype\": \"Figure\", \"type\": \"Plot\", \"id\": \"dc1f8d7d-2069-4df0-8089-4f31d8cc0caf\"}, \"ticker\": {\"type\": \"BasicTicker\", \"id\": \"03c2fb10-af5b-44a5-a5f7-e37ccf90310b\"}, \"dimension\": 1}, \"type\": \"Grid\", \"id\": \"26b62edf-3f30-4c5d-b0ac-51d284651b1b\"}, {\"attributes\": {\"line_color\": {\"value\": \"#1f77b4\"}, \"x\": {\"field\": \"x\"}, \"y\": {\"field\": \"y\"}}, \"type\": \"Line\", \"id\": \"eb70d21e-bee5-4050-8a79-16942ce2fb24\"}, {\"attributes\": {\"plot\": {\"subtype\": \"Figure\", \"type\": \"Plot\", \"id\": \"dc1f8d7d-2069-4df0-8089-4f31d8cc0caf\"}, \"axis_label\": \"False Positive Rate or (1 - Specifity)\", \"formatter\": {\"type\": \"BasicTickFormatter\", \"id\": \"ff457156-dabd-4d2b-b228-57e263861d7c\"}, \"ticker\": {\"type\": \"BasicTicker\", \"id\": \"0089e9f1-3e4a-4565-a894-916d1ec01319\"}}, \"type\": \"LinearAxis\", \"id\": \"2edde984-143d-4e75-84ac-c19978d932f7\"}, {\"attributes\": {\"plot\": {\"subtype\": \"Figure\", \"type\": \"Plot\", \"id\": \"dc1f8d7d-2069-4df0-8089-4f31d8cc0caf\"}}, \"type\": \"HelpTool\", \"id\": \"9b068d27-5196-46b8-a5c3-7b492b572596\"}, {\"attributes\": {\"plot\": {\"subtype\": \"Figure\", \"type\": \"Plot\", \"id\": \"46f1ca09-f3b9-494a-be85-ade83b20cbc6\"}}, \"type\": \"PreviewSaveTool\", \"id\": \"0c599c8f-6bb2-495e-92e5-3f91c23fa226\"}, {\"attributes\": {\"plot\": {\"subtype\": \"Figure\", \"type\": \"Plot\", \"id\": \"46f1ca09-f3b9-494a-be85-ade83b20cbc6\"}, \"axis_label\": \"True Positive Rate or (Sensitivity)\", \"formatter\": {\"type\": \"BasicTickFormatter\", \"id\": \"21b2fcd9-9398-4758-a735-646e36b31885\"}, \"ticker\": {\"type\": \"BasicTicker\", \"id\": \"d9db059c-a3cd-4646-a6bc-685da106b00f\"}}, \"type\": \"LinearAxis\", \"id\": \"14d166cf-05b0-41ef-82b4-2af2e7da7a80\"}, {\"attributes\": {\"plot\": {\"subtype\": \"Figure\", \"type\": \"Plot\", \"id\": \"a21b58ac-9738-45a8-9c81-9d0527e32a86\"}, \"ticker\": {\"type\": \"BasicTicker\", \"id\": \"dbfa6462-5dce-45d9-9050-66512cfd506e\"}, \"dimension\": 1}, \"type\": \"Grid\", \"id\": \"ebb7d291-cc4d-400f-8ccc-f29cc8602a53\"}, {\"attributes\": {\"plot\": {\"subtype\": \"Figure\", \"type\": \"Plot\", \"id\": \"a21b58ac-9738-45a8-9c81-9d0527e32a86\"}}, \"type\": \"PanTool\", \"id\": \"0349ba3a-dbe7-4d2a-b922-37e7713680a6\"}, {\"attributes\": {\"plot\": {\"subtype\": \"Figure\", \"type\": \"Plot\", \"id\": \"46f1ca09-f3b9-494a-be85-ade83b20cbc6\"}}, \"type\": \"HelpTool\", \"id\": \"0dbb8f27-980b-407a-a892-28537166df3e\"}, {\"attributes\": {\"callback\": null}, \"type\": \"Range1d\", \"id\": \"7e9b6262-aefe-4bb2-b1d1-f834c3cfc4e9\"}, {\"attributes\": {\"x_range\": {\"type\": \"Range1d\", \"id\": \"db76631d-be69-41c3-a2de-8562a997eade\"}, \"title\": \"Receiver Operating Characteristic\", \"y_range\": {\"type\": \"Range1d\", \"id\": \"e4db7c17-4c89-4994-baaf-b1aa3cfb0ebf\"}, \"renderers\": [{\"type\": \"LinearAxis\", \"id\": \"8ad7b553-2451-45f5-8e9d-18af2dd9c0c0\"}, {\"type\": \"Grid\", \"id\": \"6bb04fe9-32d7-4e9a-8579-b76a34061f87\"}, {\"type\": \"LinearAxis\", \"id\": \"14d166cf-05b0-41ef-82b4-2af2e7da7a80\"}, {\"type\": \"Grid\", \"id\": \"d74bf8e4-54a1-4117-b0c8-375d13897fa0\"}, {\"type\": \"BoxAnnotation\", \"id\": \"114d5779-f678-4e41-ba9b-2d6eefa6a6bd\"}, {\"type\": \"Legend\", \"id\": \"049311bd-d143-443c-9ebb-11c171b583bd\"}, {\"type\": \"GlyphRenderer\", \"id\": \"2b1bf4be-a950-499a-bb0a-8065646f3b6e\"}], \"below\": [{\"type\": \"LinearAxis\", \"id\": \"8ad7b553-2451-45f5-8e9d-18af2dd9c0c0\"}], \"tool_events\": {\"type\": \"ToolEvents\", \"id\": \"8439fc35-0907-4435-9299-41074a43aee1\"}, \"tools\": [{\"type\": \"PanTool\", \"id\": \"d21f5832-6b7d-4408-bf51-4b069a6096fb\"}, {\"type\": \"WheelZoomTool\", \"id\": \"5a265725-7ea7-4026-a265-2236d14a485f\"}, {\"type\": \"BoxZoomTool\", \"id\": \"1aa886cc-9c9d-4367-a8b8-ad57a4e2a6b8\"}, {\"type\": \"PreviewSaveTool\", \"id\": \"0c599c8f-6bb2-495e-92e5-3f91c23fa226\"}, {\"type\": \"ResizeTool\", \"id\": \"46bfaa74-1e79-45f1-a220-da79a53af7fc\"}, {\"type\": \"ResetTool\", \"id\": \"dcbc9f68-39eb-49c5-a0c9-a98e7167e232\"}, {\"type\": \"HelpTool\", \"id\": \"0dbb8f27-980b-407a-a892-28537166df3e\"}], \"left\": [{\"type\": \"LinearAxis\", \"id\": \"14d166cf-05b0-41ef-82b4-2af2e7da7a80\"}]}, \"type\": \"Plot\", \"id\": \"46f1ca09-f3b9-494a-be85-ade83b20cbc6\", \"subtype\": \"Figure\"}, {\"attributes\": {}, \"type\": \"BasicTickFormatter\", \"id\": \"95401525-cbf5-43e0-a0ec-fac232d859e7\"}, {\"attributes\": {\"line_color\": {\"value\": \"#1f77b4\"}, \"line_alpha\": {\"value\": 0.1}, \"y\": {\"field\": \"y\"}, \"x\": {\"field\": \"x\"}}, \"type\": \"Line\", \"id\": \"ddc7cd70-6fb3-4908-a125-84ce98b913c7\"}, {\"attributes\": {}, \"type\": \"BasicTicker\", \"id\": \"03c2fb10-af5b-44a5-a5f7-e37ccf90310b\"}, {\"attributes\": {\"nonselection_glyph\": {\"type\": \"Line\", \"id\": \"da9ab4a2-8479-4595-9369-8a8c354edc11\"}, \"data_source\": {\"type\": \"ColumnDataSource\", \"id\": \"2e50c0ee-3cb1-41b4-b93a-789142f2e5d6\"}, \"selection_glyph\": null, \"hover_glyph\": null, \"glyph\": {\"type\": \"Line\", \"id\": \"eb70d21e-bee5-4050-8a79-16942ce2fb24\"}}, \"type\": \"GlyphRenderer\", \"id\": \"2b1bf4be-a950-499a-bb0a-8065646f3b6e\"}, {\"attributes\": {\"plot\": {\"subtype\": \"Figure\", \"type\": \"Plot\", \"id\": \"a21b58ac-9738-45a8-9c81-9d0527e32a86\"}}, \"type\": \"PreviewSaveTool\", \"id\": \"82872db0-21d6-42e8-8ea1-40f2b7d85b29\"}, {\"attributes\": {\"plot\": {\"subtype\": \"Figure\", \"type\": \"Plot\", \"id\": \"a21b58ac-9738-45a8-9c81-9d0527e32a86\"}, \"axis_label\": \"False Positive Rate or (1 - Specifity)\", \"formatter\": {\"type\": \"BasicTickFormatter\", \"id\": \"d37c18cc-310d-4b82-a4c2-7b74ce96fa89\"}, \"ticker\": {\"type\": \"BasicTicker\", \"id\": \"8ddd3c87-eb1d-48d4-b1ef-de41b12a07c1\"}}, \"type\": \"LinearAxis\", \"id\": \"d0e473cc-9a02-4638-a995-4cec8404a7e9\"}, {\"attributes\": {\"callback\": null}, \"type\": \"Range1d\", \"id\": \"e4f27a61-f65d-43b1-a62f-1cbad4050ed1\"}, {\"attributes\": {\"line_color\": {\"value\": \"black\"}, \"line_alpha\": {\"value\": 1.0}, \"render_mode\": \"css\", \"bottom_units\": \"screen\", \"level\": \"overlay\", \"top_units\": \"screen\", \"fill_alpha\": {\"value\": 0.5}, \"plot\": null, \"left_units\": \"screen\", \"line_dash\": [4, 4], \"line_width\": {\"value\": 2}, \"right_units\": \"screen\", \"fill_color\": {\"value\": \"lightgrey\"}}, \"type\": \"BoxAnnotation\", \"id\": \"03e2a927-d9e3-45bc-a046-3713fb896b9d\"}, {\"attributes\": {\"callback\": null, \"column_names\": [\"y\", \"x\"], \"data\": {\"y\": [0.0, 0.0, 0.41304347826086957, 0.41304347826086957, 0.4782608695652174, 0.4782608695652174, 0.5217391304347826, 0.5217391304347826, 0.717391304347826, 0.717391304347826, 0.7391304347826086, 0.7391304347826086, 0.7608695652173914, 0.7608695652173914, 0.8695652173913043, 0.8695652173913043, 0.9130434782608695, 0.9130434782608695, 0.9347826086956522, 0.9347826086956522, 0.9565217391304348, 0.9565217391304348, 1.0, 1.0], \"x\": [0.0, 0.01818181818181818, 0.01818181818181818, 0.03636363636363636, 0.03636363636363636, 0.05454545454545454, 0.05454545454545454, 0.07272727272727272, 0.07272727272727272, 0.10909090909090909, 0.10909090909090909, 0.14545454545454545, 0.14545454545454545, 0.16363636363636364, 0.16363636363636364, 0.21818181818181817, 0.21818181818181817, 0.23636363636363636, 0.23636363636363636, 0.41818181818181815, 0.41818181818181815, 0.7818181818181819, 0.7818181818181819, 1.0]}}, \"type\": \"ColumnDataSource\", \"id\": \"2e50c0ee-3cb1-41b4-b93a-789142f2e5d6\"}, {\"attributes\": {}, \"type\": \"BasicTicker\", \"id\": \"8ddd3c87-eb1d-48d4-b1ef-de41b12a07c1\"}, {\"attributes\": {\"x_range\": {\"type\": \"Range1d\", \"id\": \"e4f27a61-f65d-43b1-a62f-1cbad4050ed1\"}, \"title\": \"Receiver Operating Characteristic\", \"y_range\": {\"type\": \"Range1d\", \"id\": \"cd8239c0-fa97-42af-a029-61584964467e\"}, \"renderers\": [{\"type\": \"LinearAxis\", \"id\": \"d0e473cc-9a02-4638-a995-4cec8404a7e9\"}, {\"type\": \"Grid\", \"id\": \"0d307a6a-5cf2-441b-97ed-a76d65743230\"}, {\"type\": \"LinearAxis\", \"id\": \"a65c4e49-c353-40e6-9d13-9184f1abbbaf\"}, {\"type\": \"Grid\", \"id\": \"ebb7d291-cc4d-400f-8ccc-f29cc8602a53\"}, {\"type\": \"BoxAnnotation\", \"id\": \"03e2a927-d9e3-45bc-a046-3713fb896b9d\"}, {\"type\": \"Legend\", \"id\": \"7da5dc16-24be-40e7-bf3a-cc8d80f40a67\"}, {\"type\": \"GlyphRenderer\", \"id\": \"97796d30-2e2e-4493-af61-c77a8f84141e\"}], \"below\": [{\"type\": \"LinearAxis\", \"id\": \"d0e473cc-9a02-4638-a995-4cec8404a7e9\"}], \"tool_events\": {\"type\": \"ToolEvents\", \"id\": \"46c74439-8476-4498-9134-9d3f8caa941f\"}, \"tools\": [{\"type\": \"PanTool\", \"id\": \"0349ba3a-dbe7-4d2a-b922-37e7713680a6\"}, {\"type\": \"WheelZoomTool\", \"id\": \"84b885d3-5e5f-41d3-b795-777427ca86c7\"}, {\"type\": \"BoxZoomTool\", \"id\": \"8cc445cb-e160-43ff-8271-5473b837dc4a\"}, {\"type\": \"PreviewSaveTool\", \"id\": \"82872db0-21d6-42e8-8ea1-40f2b7d85b29\"}, {\"type\": \"ResizeTool\", \"id\": \"753456fd-3adb-48ab-8e7a-c3a6f3284920\"}, {\"type\": \"ResetTool\", \"id\": \"6cbcb680-aee7-40a5-9ce7-dc147dafd819\"}, {\"type\": \"HelpTool\", \"id\": \"baa36e3d-3fd9-43c1-91e0-023f1b104397\"}], \"left\": [{\"type\": \"LinearAxis\", \"id\": \"a65c4e49-c353-40e6-9d13-9184f1abbbaf\"}]}, \"type\": \"Plot\", \"id\": \"a21b58ac-9738-45a8-9c81-9d0527e32a86\", \"subtype\": \"Figure\"}, {\"attributes\": {}, \"type\": \"BasicTicker\", \"id\": \"0089e9f1-3e4a-4565-a894-916d1ec01319\"}, {\"attributes\": {\"line_color\": {\"value\": \"black\"}, \"line_alpha\": {\"value\": 1.0}, \"render_mode\": \"css\", \"bottom_units\": \"screen\", \"level\": \"overlay\", \"top_units\": \"screen\", \"fill_alpha\": {\"value\": 0.5}, \"plot\": null, \"left_units\": \"screen\", \"line_dash\": [4, 4], \"line_width\": {\"value\": 2}, \"right_units\": \"screen\", \"fill_color\": {\"value\": \"lightgrey\"}}, \"type\": \"BoxAnnotation\", \"id\": \"1bc23a55-1e33-49db-bdcd-05805c7a4664\"}, {\"attributes\": {\"line_color\": {\"value\": \"#1f77b4\"}, \"x\": {\"field\": \"x\"}, \"y\": {\"field\": \"y\"}}, \"type\": \"Line\", \"id\": \"9979987d-07cf-4a9f-bcef-4ec719cbbc31\"}, {\"attributes\": {}, \"type\": \"ToolEvents\", \"id\": \"46c74439-8476-4498-9134-9d3f8caa941f\"}, {\"attributes\": {\"plot\": {\"subtype\": \"Figure\", \"type\": \"Plot\", \"id\": \"46f1ca09-f3b9-494a-be85-ade83b20cbc6\"}}, \"type\": \"ResetTool\", \"id\": \"dcbc9f68-39eb-49c5-a0c9-a98e7167e232\"}, {\"attributes\": {}, \"type\": \"BasicTickFormatter\", \"id\": \"8482c2c2-2ef6-415e-8a73-651cf17088f5\"}, {\"attributes\": {\"plot\": {\"subtype\": \"Figure\", \"type\": \"Plot\", \"id\": \"dc1f8d7d-2069-4df0-8089-4f31d8cc0caf\"}}, \"type\": \"WheelZoomTool\", \"id\": \"0b7f70b5-8248-4242-a40e-80544bc9ef44\"}, {\"attributes\": {}, \"type\": \"BasicTickFormatter\", \"id\": \"4aa5698f-ec62-4c70-ae45-4e08c36b013b\"}, {\"attributes\": {}, \"type\": \"ToolEvents\", \"id\": \"8439fc35-0907-4435-9299-41074a43aee1\"}, {\"attributes\": {}, \"type\": \"BasicTickFormatter\", \"id\": \"21b2fcd9-9398-4758-a735-646e36b31885\"}, {\"attributes\": {\"callback\": null}, \"type\": \"Range1d\", \"id\": \"db76631d-be69-41c3-a2de-8562a997eade\"}, {\"attributes\": {\"line_color\": {\"value\": \"black\"}, \"line_alpha\": {\"value\": 1.0}, \"render_mode\": \"css\", \"bottom_units\": \"screen\", \"level\": \"overlay\", \"top_units\": \"screen\", \"fill_alpha\": {\"value\": 0.5}, \"plot\": null, \"left_units\": \"screen\", \"line_dash\": [4, 4], \"line_width\": {\"value\": 2}, \"right_units\": \"screen\", \"fill_color\": {\"value\": \"lightgrey\"}}, \"type\": \"BoxAnnotation\", \"id\": \"114d5779-f678-4e41-ba9b-2d6eefa6a6bd\"}, {\"attributes\": {\"plot\": {\"subtype\": \"Figure\", \"type\": \"Plot\", \"id\": \"a21b58ac-9738-45a8-9c81-9d0527e32a86\"}}, \"type\": \"ResetTool\", \"id\": \"6cbcb680-aee7-40a5-9ce7-dc147dafd819\"}, {\"attributes\": {\"plot\": {\"subtype\": \"Figure\", \"type\": \"Plot\", \"id\": \"46f1ca09-f3b9-494a-be85-ade83b20cbc6\"}, \"ticker\": {\"type\": \"BasicTicker\", \"id\": \"d9db059c-a3cd-4646-a6bc-685da106b00f\"}, \"dimension\": 1}, \"type\": \"Grid\", \"id\": \"d74bf8e4-54a1-4117-b0c8-375d13897fa0\"}, {\"attributes\": {\"nonselection_glyph\": {\"type\": \"Line\", \"id\": \"ddc7cd70-6fb3-4908-a125-84ce98b913c7\"}, \"data_source\": {\"type\": \"ColumnDataSource\", \"id\": \"d3922c91-42ed-4745-abb3-f454f67b0d08\"}, \"selection_glyph\": null, \"hover_glyph\": null, \"glyph\": {\"type\": \"Line\", \"id\": \"9979987d-07cf-4a9f-bcef-4ec719cbbc31\"}}, \"type\": \"GlyphRenderer\", \"id\": \"97796d30-2e2e-4493-af61-c77a8f84141e\"}, {\"attributes\": {\"plot\": {\"subtype\": \"Figure\", \"type\": \"Plot\", \"id\": \"a21b58ac-9738-45a8-9c81-9d0527e32a86\"}}, \"type\": \"ResizeTool\", \"id\": \"753456fd-3adb-48ab-8e7a-c3a6f3284920\"}, {\"attributes\": {\"plot\": {\"subtype\": \"Figure\", \"type\": \"Plot\", \"id\": \"a21b58ac-9738-45a8-9c81-9d0527e32a86\"}, \"overlay\": {\"type\": \"BoxAnnotation\", \"id\": \"03e2a927-d9e3-45bc-a046-3713fb896b9d\"}}, \"type\": \"BoxZoomTool\", \"id\": \"8cc445cb-e160-43ff-8271-5473b837dc4a\"}, {\"attributes\": {\"plot\": {\"subtype\": \"Figure\", \"type\": \"Plot\", \"id\": \"46f1ca09-f3b9-494a-be85-ade83b20cbc6\"}}, \"type\": \"WheelZoomTool\", \"id\": \"5a265725-7ea7-4026-a265-2236d14a485f\"}, {\"attributes\": {\"callback\": null}, \"type\": \"Range1d\", \"id\": \"487c585e-ea90-4736-be13-2f42cc24dc2f\"}, {\"attributes\": {\"plot\": {\"subtype\": \"Figure\", \"type\": \"Plot\", \"id\": \"46f1ca09-f3b9-494a-be85-ade83b20cbc6\"}, \"legends\": [[\"ROC curve (area = 0.892)\", [{\"type\": \"GlyphRenderer\", \"id\": \"2b1bf4be-a950-499a-bb0a-8065646f3b6e\"}]]], \"location\": \"bottom_right\"}, \"type\": \"Legend\", \"id\": \"049311bd-d143-443c-9ebb-11c171b583bd\"}, {\"attributes\": {\"plot\": {\"subtype\": \"Figure\", \"type\": \"Plot\", \"id\": \"46f1ca09-f3b9-494a-be85-ade83b20cbc6\"}}, \"type\": \"ResizeTool\", \"id\": \"46bfaa74-1e79-45f1-a220-da79a53af7fc\"}, {\"attributes\": {\"plot\": {\"subtype\": \"Figure\", \"type\": \"Plot\", \"id\": \"dc1f8d7d-2069-4df0-8089-4f31d8cc0caf\"}}, \"type\": \"ResetTool\", \"id\": \"50a68fc0-8ac8-42c2-a964-e62279b7c432\"}, {\"attributes\": {\"x_range\": {\"type\": \"Range1d\", \"id\": \"487c585e-ea90-4736-be13-2f42cc24dc2f\"}, \"title\": \"Receiver Operating Characteristic\", \"y_range\": {\"type\": \"Range1d\", \"id\": \"7e9b6262-aefe-4bb2-b1d1-f834c3cfc4e9\"}, \"renderers\": [{\"type\": \"LinearAxis\", \"id\": \"2edde984-143d-4e75-84ac-c19978d932f7\"}, {\"type\": \"Grid\", \"id\": \"3bf243df-91ce-47b2-8bb8-d22770475ab4\"}, {\"type\": \"LinearAxis\", \"id\": \"29dc3d2c-1d9a-430f-9d84-cbe7966c7157\"}, {\"type\": \"Grid\", \"id\": \"26b62edf-3f30-4c5d-b0ac-51d284651b1b\"}, {\"type\": \"BoxAnnotation\", \"id\": \"1bc23a55-1e33-49db-bdcd-05805c7a4664\"}, {\"type\": \"Legend\", \"id\": \"421ebcc7-9134-419c-8c0a-dfe144fafb51\"}, {\"type\": \"GlyphRenderer\", \"id\": \"2c55d054-a551-49d1-93b6-b4e69a2a9396\"}], \"below\": [{\"type\": \"LinearAxis\", \"id\": \"2edde984-143d-4e75-84ac-c19978d932f7\"}], \"tool_events\": {\"type\": \"ToolEvents\", \"id\": \"b8663e3e-e471-4edd-a22f-189563d90428\"}, \"tools\": [{\"type\": \"PanTool\", \"id\": \"cf28b0d0-c298-498a-bb4a-fb708fb00129\"}, {\"type\": \"WheelZoomTool\", \"id\": \"0b7f70b5-8248-4242-a40e-80544bc9ef44\"}, {\"type\": \"BoxZoomTool\", \"id\": \"753f080d-90a9-4cae-9e0a-7d0c67166a81\"}, {\"type\": \"PreviewSaveTool\", \"id\": \"a7ceb76d-3247-4d0a-b135-5fdf1cdc3fe0\"}, {\"type\": \"ResizeTool\", \"id\": \"1f3e89a7-b50b-4cd6-ab8e-dd2a6197c6bf\"}, {\"type\": \"ResetTool\", \"id\": \"50a68fc0-8ac8-42c2-a964-e62279b7c432\"}, {\"type\": \"HelpTool\", \"id\": \"9b068d27-5196-46b8-a5c3-7b492b572596\"}], \"left\": [{\"type\": \"LinearAxis\", \"id\": \"29dc3d2c-1d9a-430f-9d84-cbe7966c7157\"}]}, \"type\": \"Plot\", \"id\": \"dc1f8d7d-2069-4df0-8089-4f31d8cc0caf\", \"subtype\": \"Figure\"}, {\"attributes\": {\"plot\": {\"subtype\": \"Figure\", \"type\": \"Plot\", \"id\": \"dc1f8d7d-2069-4df0-8089-4f31d8cc0caf\"}}, \"type\": \"PreviewSaveTool\", \"id\": \"a7ceb76d-3247-4d0a-b135-5fdf1cdc3fe0\"}, {\"attributes\": {}, \"type\": \"BasicTickFormatter\", \"id\": \"ff457156-dabd-4d2b-b228-57e263861d7c\"}]}, \"title\": \"Bokeh Application\"}};\n",
       "            var render_items = [{\"notebook_comms_target\": \"c90997ec-be8d-4649-890e-08cfaa1587dd\", \"docid\": \"00435098-3aa6-41d2-985c-3f69c4e69985\", \"elementid\": \"c34152ae-b7a7-4021-a905-1162df03e699\", \"modelid\": \"46f1ca09-f3b9-494a-be85-ade83b20cbc6\"}];\n",
       "            \n",
       "            Bokeh.embed.embed_items(docs_json, render_items);\n",
       "        });\n",
       "      },\n",
       "      function(Bokeh) {\n",
       "      }\n",
       "    ];\n",
       "  \n",
       "    function run_inline_js() {\n",
       "      for (var i = 0; i < inline_js.length; i++) {\n",
       "        inline_js[i](window.Bokeh);\n",
       "      }\n",
       "    }\n",
       "  \n",
       "    if (window._bokeh_is_loading === 0) {\n",
       "      console.log(\"Bokeh: BokehJS loaded, going straight to plotting\");\n",
       "      run_inline_js();\n",
       "    } else {\n",
       "      load_libs(js_urls, function() {\n",
       "        console.log(\"Bokeh: BokehJS plotting callback run at\", now());\n",
       "        run_inline_js();\n",
       "      });\n",
       "    }\n",
       "  }(this));\n",
       "</script>"
      ]
     },
     "metadata": {},
     "output_type": "display_data"
    }
   ],
   "source": [
    "model_lr.fit(X_train,y_train)\n",
    "print pd.DataFrame(confusion_matrix(y_test,model_lr.predict(X_test)), index=['Predicted Class 0', 'Predicted Class 1'], \n",
    "                     columns=['Actual Class 0', 'Actual Class 1'])\n",
    "print classification_report(y_test,model_lr.predict(X_test))\n",
    "print model_lr.score(X_test,y_test)\n",
    "plot_roc_curve(y_test, model_lr.predict_proba(X_test))"
   ]
  },
  {
   "cell_type": "markdown",
   "metadata": {},
   "source": [
    "This Logistic Regression correctly identified all the non-winners in the test data, and only incorrectly identified winners in the test data 8% of the time.  I'd say it's a pretty good model!"
   ]
  },
  {
   "cell_type": "markdown",
   "metadata": {},
   "source": [
    "### Visualize the results of the Logistic Regression PCA"
   ]
  },
  {
   "cell_type": "code",
   "execution_count": 63,
   "metadata": {
    "collapsed": true
   },
   "outputs": [],
   "source": [
    "from matplotlib.colors import ListedColormap\n",
    "%matplotlib inline"
   ]
  },
  {
   "cell_type": "markdown",
   "metadata": {},
   "source": [
    "There are a lot of features in this data set, so let's use Principal Components Analysis to decompose the data into 2 dimensions so it's easy to visualize."
   ]
  },
  {
   "cell_type": "code",
   "execution_count": 64,
   "metadata": {
    "collapsed": false
   },
   "outputs": [],
   "source": [
    "from sklearn.decomposition import PCA\n",
    "pca = PCA(n_components=2)"
   ]
  },
  {
   "cell_type": "markdown",
   "metadata": {},
   "source": [
    "Now let's apply Logistic Regression again on the decomposed data"
   ]
  },
  {
   "cell_type": "code",
   "execution_count": 65,
   "metadata": {
    "collapsed": false
   },
   "outputs": [],
   "source": [
    "features_pca = pca.fit(features_norm).transform(features_norm)\n",
    "pca_X_train, pca_X_test, pca_y_train, pca_y_test = train_test_split(features_pca,y, test_size=0.2, random_state=0)\n",
    "preds = LogisticRegression(C=5).fit(pca_X_train, pca_y_train).predict(pca_X_test)"
   ]
  },
  {
   "cell_type": "code",
   "execution_count": 66,
   "metadata": {
    "collapsed": false
   },
   "outputs": [
    {
     "data": {
      "text/plain": [
       "<matplotlib.axes._subplots.AxesSubplot at 0x11d5b12d0>"
      ]
     },
     "execution_count": 66,
     "metadata": {},
     "output_type": "execute_result"
    },
    {
     "data": {
      "image/png": "[encoded data removed]",
      "text/plain": [
       "<matplotlib.figure.Figure at 0x11d5ed9d0>"
      ]
     },
     "metadata": {},
     "output_type": "display_data"
    }
   ],
   "source": [
    "cmap_bold = ListedColormap(['#FF0000', '#00FF00'])\n",
    "df1 = pd.DataFrame(pca_X_train)\n",
    "df1['Result'] = pca_y_train\n",
    "df1.plot(kind='scatter', x=0, y=1, c='Result', colormap = cmap_bold)"
   ]
  },
  {
   "cell_type": "markdown",
   "metadata": {},
   "source": [
    "Above are the first and second principal components of the train data set, colored by the winners and non-winners."
   ]
  },
  {
   "cell_type": "code",
   "execution_count": 67,
   "metadata": {
    "collapsed": false
   },
   "outputs": [
    {
     "data": {
      "text/plain": [
       "<matplotlib.axes._subplots.AxesSubplot at 0x11e0cd110>"
      ]
     },
     "execution_count": 67,
     "metadata": {},
     "output_type": "execute_result"
    },
    {
     "data": {
      "image/png": "[encoded data removed]",
      "text/plain": [
       "<matplotlib.figure.Figure at 0x11d5081d0>"
      ]
     },
     "metadata": {},
     "output_type": "display_data"
    }
   ],
   "source": [
    "df2 = pd.DataFrame(pca_X_test)\n",
    "df2['Predictions'] = preds\n",
    "df2.plot(kind='scatter', x=0, y=1, c='Predictions', colormap = cmap_bold)"
   ]
  },
  {
   "cell_type": "markdown",
   "metadata": {},
   "source": [
    "Here's how the Logistic Regression splits the decomposed test data.  Let's compare it with the actual results of the test data."
   ]
  },
  {
   "cell_type": "code",
   "execution_count": 68,
   "metadata": {
    "collapsed": false
   },
   "outputs": [
    {
     "data": {
      "text/plain": [
       "<matplotlib.axes._subplots.AxesSubplot at 0x11e0cddd0>"
      ]
     },
     "execution_count": 68,
     "metadata": {},
     "output_type": "execute_result"
    },
    {
     "data": {
      "image/png": "[encoded data removed]",
      "text/plain": [
       "<matplotlib.figure.Figure at 0x11ce26590>"
      ]
     },
     "metadata": {},
     "output_type": "display_data"
    }
   ],
   "source": [
    "df2 = pd.DataFrame(pca_X_test)\n",
    "df2['Actual'] = pca_y_test\n",
    "df2.plot(kind='scatter', x=0, y=1, c='Actual', colormap = cmap_bold)"
   ]
  },
  {
   "cell_type": "markdown",
   "metadata": {},
   "source": [
    "The Logistic Regression did pretty well generalizing the data and sorting out the winners and non-winners of NaNoWriMo.  "
   ]
  },
  {
   "cell_type": "markdown",
   "metadata": {
    "collapsed": false
   },
   "source": [
    "Now let's try using a Decision Tree to classify winners and non-winners."
   ]
  },
  {
   "cell_type": "code",
   "execution_count": 69,
   "metadata": {
    "collapsed": true
   },
   "outputs": [],
   "source": [
    "from sklearn.tree import DecisionTreeClassifier"
   ]
  },
  {
   "cell_type": "code",
   "execution_count": 70,
   "metadata": {
    "collapsed": false
   },
   "outputs": [
    {
     "name": "stdout",
     "output_type": "stream",
     "text": [
      "0.829870231395\n",
      "[[46  9]\n",
      " [ 7 39]]\n",
      "             precision    recall  f1-score   support\n",
      "\n",
      "          0       0.87      0.84      0.85        55\n",
      "          1       0.81      0.85      0.83        46\n",
      "\n",
      "avg / total       0.84      0.84      0.84       101\n",
      "\n",
      "0.841584158416\n"
     ]
    }
   ],
   "source": [
    "model_dt = DecisionTreeClassifier(max_depth=5)\n",
    "print cross_val_score(model_dt, X_train, y_train, cv=10).mean()\n",
    "\n",
    "model_dt.fit(X_train, y_train)\n",
    "print confusion_matrix(y_test, model_dt.predict(X_test))\n",
    "print classification_report(y_test,model_dt.predict(X_test))\n",
    "print model_dt.score(X_test, y_test)"
   ]
  },
  {
   "cell_type": "markdown",
   "metadata": {},
   "source": [
    "The decision tree also performs pretty well in predicting winners and non-winners. Let's see what features it found to be most predictive."
   ]
  },
  {
   "cell_type": "code",
   "execution_count": 72,
   "metadata": {
    "collapsed": false
   },
   "outputs": [
    {
     "data": {
      "text/html": [
       "<div>\n",
       "<table border=\"1\" class=\"dataframe\">\n",
       "  <thead>\n",
       "    <tr style=\"text-align: right;\">\n",
       "      <th></th>\n",
       "      <th>0</th>\n",
       "      <th>1</th>\n",
       "    </tr>\n",
       "  </thead>\n",
       "  <tbody>\n",
       "    <tr>\n",
       "      <th>23</th>\n",
       "      <td>FH Total</td>\n",
       "      <td>0.712847</td>\n",
       "    </tr>\n",
       "    <tr>\n",
       "      <th>1</th>\n",
       "      <td>LifetimeWordCount</td>\n",
       "      <td>0.057194</td>\n",
       "    </tr>\n",
       "    <tr>\n",
       "      <th>24</th>\n",
       "      <td>FH Sub</td>\n",
       "      <td>0.045414</td>\n",
       "    </tr>\n",
       "    <tr>\n",
       "      <th>14</th>\n",
       "      <td>Expected Avg Submission</td>\n",
       "      <td>0.039117</td>\n",
       "    </tr>\n",
       "    <tr>\n",
       "      <th>11</th>\n",
       "      <td>Consecutive Part</td>\n",
       "      <td>0.036241</td>\n",
       "    </tr>\n",
       "  </tbody>\n",
       "</table>\n",
       "</div>"
      ],
      "text/plain": [
       "                          0         1\n",
       "23                 FH Total  0.712847\n",
       "1         LifetimeWordCount  0.057194\n",
       "24                   FH Sub  0.045414\n",
       "14  Expected Avg Submission  0.039117\n",
       "11         Consecutive Part  0.036241"
      ]
     },
     "execution_count": 72,
     "metadata": {},
     "output_type": "execute_result"
    }
   ],
   "source": [
    "dt_importances = pd.DataFrame(zip(features.columns, model_dt.feature_importances_))\n",
    "dt_importances.sort_values(1, ascending=False).head() # most to least predictive  "
   ]
  },
  {
   "cell_type": "markdown",
   "metadata": {},
   "source": [
    "FH Total is the most predictive feature, but this is a metric collected after the current contest has started.  Let's build a model now with just information we have from past contests and see how that works.  "
   ]
  },
  {
   "cell_type": "code",
   "execution_count": null,
   "metadata": {
    "collapsed": true
   },
   "outputs": [],
   "source": []
  }
 ],
 "metadata": {
  "kernelspec": {
   "display_name": "Python 2",
   "language": "python",
   "name": "python2"
  },
  "language_info": {
   "codemirror_mode": {
    "name": "ipython",
    "version": 2
   },
   "file_extension": ".py",
   "mimetype": "text/x-python",
   "name": "python",
   "nbconvert_exporter": "python",
   "pygments_lexer": "ipython2",
   "version": "2.7.11"
  }
 },
 "nbformat": 4,
 "nbformat_minor": 0
}
