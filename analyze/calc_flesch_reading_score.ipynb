{
 "cells": [
  {
   "cell_type": "code",
   "execution_count": 20,
   "metadata": {
    "collapsed": true
   },
   "outputs": [],
   "source": [
    "from textstat.textstat import textstat\n",
    "import pandas as pd\n",
    "from bs4 import BeautifulSoup\n",
    "from collections import Counter"
   ]
  },
  {
   "cell_type": "code",
   "execution_count": 21,
   "metadata": {
    "collapsed": false
   },
   "outputs": [
    {
     "data": {
      "text/html": [
       "<div>\n",
       "<table border=\"1\" class=\"dataframe\">\n",
       "  <thead>\n",
       "    <tr style=\"text-align: right;\">\n",
       "      <th></th>\n",
       "      <th>Writer Name</th>\n",
       "      <th>Novel Name</th>\n",
       "      <th>Genre</th>\n",
       "      <th>Final Word Count</th>\n",
       "      <th>Daily Average</th>\n",
       "      <th>Winner</th>\n",
       "      <th>Synopses</th>\n",
       "      <th>url</th>\n",
       "      <th>Novel Date</th>\n",
       "    </tr>\n",
       "  </thead>\n",
       "  <tbody>\n",
       "    <tr>\n",
       "      <th>0</th>\n",
       "      <td>Nicaless</td>\n",
       "      <td>Novel: Lauren's Birthday</td>\n",
       "      <td>Genre: Young Adult</td>\n",
       "      <td>24229</td>\n",
       "      <td>807</td>\n",
       "      <td>0</td>\n",
       "      <td>\\n&lt;p&gt;&lt;/p&gt;\\n</td>\n",
       "      <td>http://nanowrimo.org/participants/nicaless/nov...</td>\n",
       "      <td>November 2015</td>\n",
       "    </tr>\n",
       "    <tr>\n",
       "      <th>1</th>\n",
       "      <td>Nicaless</td>\n",
       "      <td>Novel: A Mystery in the Kingdom of Aermon</td>\n",
       "      <td>Genre: Fantasy</td>\n",
       "      <td>50919</td>\n",
       "      <td>1,697</td>\n",
       "      <td>1</td>\n",
       "      <td>\\n&lt;p&gt;Hitoshi is appointed the youngest Judge a...</td>\n",
       "      <td>http://nanowrimo.org/participants/nicaless/nov...</td>\n",
       "      <td>November 2014</td>\n",
       "    </tr>\n",
       "    <tr>\n",
       "      <th>2</th>\n",
       "      <td>Rachel B. Moore</td>\n",
       "      <td>Novel: Finding Fortunato</td>\n",
       "      <td>Genre: Literary</td>\n",
       "      <td>50603</td>\n",
       "      <td>1,686</td>\n",
       "      <td>1</td>\n",
       "      <td>\\n&lt;p&gt;Sam and Anna Gold and their newly adoptiv...</td>\n",
       "      <td>http://nanowrimo.org/participants/rachel-b-moo...</td>\n",
       "      <td>November 2015</td>\n",
       "    </tr>\n",
       "    <tr>\n",
       "      <th>3</th>\n",
       "      <td>Rachel B. Moore</td>\n",
       "      <td>Novel: The Residency</td>\n",
       "      <td>Genre: Literary</td>\n",
       "      <td>50425</td>\n",
       "      <td>1,680</td>\n",
       "      <td>1</td>\n",
       "      <td>\\n&lt;p&gt;It's every writer's dream - an all-expens...</td>\n",
       "      <td>http://nanowrimo.org/participants/rachel-b-moo...</td>\n",
       "      <td>November 2014</td>\n",
       "    </tr>\n",
       "    <tr>\n",
       "      <th>4</th>\n",
       "      <td>Rachel B. Moore</td>\n",
       "      <td>Novel: The Jew From Fortunato</td>\n",
       "      <td>Genre: Literary Fiction</td>\n",
       "      <td>41447</td>\n",
       "      <td>1,381</td>\n",
       "      <td>0</td>\n",
       "      <td>\\n&lt;p&gt;20-something Andre Levinsky is a fish out...</td>\n",
       "      <td>http://nanowrimo.org/participants/rachel-b-moo...</td>\n",
       "      <td>November 2013</td>\n",
       "    </tr>\n",
       "  </tbody>\n",
       "</table>\n",
       "</div>"
      ],
      "text/plain": [
       "       Writer Name                                 Novel Name  \\\n",
       "0         Nicaless                   Novel: Lauren's Birthday   \n",
       "1         Nicaless  Novel: A Mystery in the Kingdom of Aermon   \n",
       "2  Rachel B. Moore                   Novel: Finding Fortunato   \n",
       "3  Rachel B. Moore                       Novel: The Residency   \n",
       "4  Rachel B. Moore              Novel: The Jew From Fortunato   \n",
       "\n",
       "                     Genre  Final Word Count Daily Average  Winner  \\\n",
       "0       Genre: Young Adult             24229           807       0   \n",
       "1           Genre: Fantasy             50919         1,697       1   \n",
       "2          Genre: Literary             50603         1,686       1   \n",
       "3          Genre: Literary             50425         1,680       1   \n",
       "4  Genre: Literary Fiction             41447         1,381       0   \n",
       "\n",
       "                                            Synopses  \\\n",
       "0                                        \\n<p></p>\\n   \n",
       "1  \\n<p>Hitoshi is appointed the youngest Judge a...   \n",
       "2  \\n<p>Sam and Anna Gold and their newly adoptiv...   \n",
       "3  \\n<p>It's every writer's dream - an all-expens...   \n",
       "4  \\n<p>20-something Andre Levinsky is a fish out...   \n",
       "\n",
       "                                                 url     Novel Date  \n",
       "0  http://nanowrimo.org/participants/nicaless/nov...  November 2015  \n",
       "1  http://nanowrimo.org/participants/nicaless/nov...  November 2014  \n",
       "2  http://nanowrimo.org/participants/rachel-b-moo...  November 2015  \n",
       "3  http://nanowrimo.org/participants/rachel-b-moo...  November 2014  \n",
       "4  http://nanowrimo.org/participants/rachel-b-moo...  November 2013  "
      ]
     },
     "execution_count": 21,
     "metadata": {},
     "output_type": "execute_result"
    }
   ],
   "source": [
    "novels = pd.read_csv(\"../clean data/novel_data.csv\", index_col=0)\n",
    "novels.head()"
   ]
  },
  {
   "cell_type": "code",
   "execution_count": 22,
   "metadata": {
    "collapsed": false
   },
   "outputs": [
    {
     "name": "stdout",
     "output_type": "stream",
     "text": [
      "4\n",
      "58.62\n",
      "153\n",
      "109\n"
     ]
    },
    {
     "data": {
      "text/plain": [
       "\"Sam and Anna Gold and their newly adoptive family - broken and traumatized 'uncle' Leo Berger and 'brother' Josef Neumann -\\xc2\\xa0 have finally left the Fohrenwald Displaced Person's Camp in Germany for their new home, the small Argentinean town of Fortunato. How do you reconstruct your life from scratch, in a new land and a new language? Having left Germany with false papers declaring their familial bond, the non-traditional family is thrust into rural Fortunato with a few pesos and the promise of work and four walls to call home. Settling into a new home isn't easy when you know what you're doing, but when you've just escaped the horrors of post-Wold War II Germany, it is an incredible challenge. Here in Fortunato they will find peace and stability. They will learn Spanish. They will find work, they will find friendship, and they will become the family that their paperwork claims they already are. \""
      ]
     },
     "execution_count": 22,
     "metadata": {},
     "output_type": "execute_result"
    }
   ],
   "source": [
    "soup = BeautifulSoup(novels['Synopses'][2], \"html.parser\")\n",
    "s = soup.find_all(\"p\")\n",
    "print len(s)\n",
    "mystr = \"\"\n",
    "for i in s:\n",
    "    mystr = mystr + i.renderContents() + \" \"\n",
    "\n",
    "\n",
    "print textstat.flesch_reading_ease(mystr)\n",
    "print textstat.lexicon_count(mystr)\n",
    "print len(Counter(mystr.split(\" \")))\n",
    "mystr"
   ]
  },
  {
   "cell_type": "code",
   "execution_count": 23,
   "metadata": {
    "collapsed": false
   },
   "outputs": [
    {
     "data": {
      "text/plain": [
       "1    \\n<p>Hitoshi is appointed the youngest Judge a...\n",
       "2    \\n<p>Sam and Anna Gold and their newly adoptiv...\n",
       "3    \\n<p>It's every writer's dream - an all-expens...\n",
       "4    \\n<p>20-something Andre Levinsky is a fish out...\n",
       "5    \\n<p>Andre Levinsky is a celebrated writer in ...\n",
       "6    \\n<p>On his last night in the US, Nicholas Cha...\n",
       "7    \\n<p>Abel works in the library, cataloging don...\n",
       "8                                          \\n<p></p>\\n\n",
       "9                                          \\n<p></p>\\n\n",
       "Name: Synopses, dtype: object"
      ]
     },
     "execution_count": 23,
     "metadata": {},
     "output_type": "execute_result"
    }
   ],
   "source": [
    "test = novels['Synopses'][1:10]\n",
    "test"
   ]
  },
  {
   "cell_type": "code",
   "execution_count": 24,
   "metadata": {
    "collapsed": false
   },
   "outputs": [],
   "source": [
    "synopses = []\n",
    "num_paragraphs = []\n",
    "num_words = []\n",
    "num_uniques = []\n",
    "num_sentences = []\n",
    "for novel in novels['Synopses']:\n",
    "#for novel in test:\n",
    "    mystr = \"\"\n",
    "    soup = BeautifulSoup(novel, 'html.parser')\n",
    "    syn = soup.find_all(\"p\")\n",
    "    for i in syn:\n",
    "        mystr = mystr + i.renderContents() + \" \"\n",
    "    synopses.append(mystr)\n",
    "    num_words.append(textstat.lexicon_count(mystr))\n",
    "    if textstat.lexicon_count(mystr) == 0:\n",
    "        num_sentences.append(0)\n",
    "        num_paragraphs.append(0)\n",
    "        num_uniques.append(0)\n",
    "    else:\n",
    "        num_sentences.append(textstat.sentence_count(mystr))\n",
    "        num_paragraphs.append(len(syn))\n",
    "        num_uniques.append(len(Counter(mystr.split(\" \"))))"
   ]
  },
  {
   "cell_type": "code",
   "execution_count": 25,
   "metadata": {
    "collapsed": false
   },
   "outputs": [],
   "source": [
    "scores = []\n",
    "has_synopses = []\n",
    "for i in synopses:\n",
    "    if i == \" \" or textstat.sentence_count(i) == 0:\n",
    "        scores.append(0)\n",
    "        has_synopses.append(0)\n",
    "    else:\n",
    "        scores.append(textstat.flesch_reading_ease(i))\n",
    "        has_synopses.append(1)"
   ]
  },
  {
   "cell_type": "code",
   "execution_count": 26,
   "metadata": {
    "collapsed": true
   },
   "outputs": [],
   "source": [
    "standard_genres = ['Adventure','Children\\'s Fiction','Erotic','Fanfiction','Fantasy','Historical','Horror/Supernatural','Literary','Mainstream','Mystery','Personal','Religious/Spiritual','Romance','Satire/Humor','Science Fiction','Thriller/Suspense','Women\\'s Fiction','Young Adult']"
   ]
  },
  {
   "cell_type": "code",
   "execution_count": 27,
   "metadata": {
    "collapsed": false
   },
   "outputs": [],
   "source": [
    "has_genre = []\n",
    "standard_genre = []\n",
    "for genre in novels['Genre']:\n",
    "    if genre == \"\":\n",
    "        has_genre.append(0)\n",
    "    else:\n",
    "        has_genre.append(1)\n",
    "    if genre in standard_genres:\n",
    "        standard_genre.append(1)\n",
    "    else:\n",
    "        standard_genre.append(0)"
   ]
  },
  {
   "cell_type": "code",
   "execution_count": 28,
   "metadata": {
    "collapsed": false
   },
   "outputs": [],
   "source": [
    "#num_paragraphs\n",
    "#num_words\n",
    "#num_uniques\n",
    "#scores\n",
    "#has_synopses\n",
    "#has_genre\n",
    "#standard_genre\n",
    "#num_sentences\n",
    "novels['has genre'] = has_genre\n",
    "novels['standard genre'] = standard_genre\n",
    "novels['has_synopses'] = has_synopses\n",
    "novels['num words'] = num_words\n",
    "novels['num uniques'] = num_uniques\n",
    "novels['num sentences'] = num_sentences\n",
    "novels['paragraphs'] = num_paragraphs\n",
    "novels['fk score'] = scores"
   ]
  },
  {
   "cell_type": "code",
   "execution_count": 29,
   "metadata": {
    "collapsed": false
   },
   "outputs": [
    {
     "data": {
      "text/html": [
       "<div>\n",
       "<table border=\"1\" class=\"dataframe\">\n",
       "  <thead>\n",
       "    <tr style=\"text-align: right;\">\n",
       "      <th></th>\n",
       "      <th>Writer Name</th>\n",
       "      <th>Novel Name</th>\n",
       "      <th>Genre</th>\n",
       "      <th>Final Word Count</th>\n",
       "      <th>Daily Average</th>\n",
       "      <th>Winner</th>\n",
       "      <th>Synopses</th>\n",
       "      <th>url</th>\n",
       "      <th>Novel Date</th>\n",
       "      <th>has genre</th>\n",
       "      <th>standard genre</th>\n",
       "      <th>has_synopses</th>\n",
       "      <th>num words</th>\n",
       "      <th>num uniques</th>\n",
       "      <th>num sentences</th>\n",
       "      <th>paragraphs</th>\n",
       "      <th>fk score</th>\n",
       "    </tr>\n",
       "  </thead>\n",
       "  <tbody>\n",
       "    <tr>\n",
       "      <th>0</th>\n",
       "      <td>Nicaless</td>\n",
       "      <td>Novel: Lauren's Birthday</td>\n",
       "      <td>Genre: Young Adult</td>\n",
       "      <td>24229</td>\n",
       "      <td>807</td>\n",
       "      <td>0</td>\n",
       "      <td>\\n&lt;p&gt;&lt;/p&gt;\\n</td>\n",
       "      <td>http://nanowrimo.org/participants/nicaless/nov...</td>\n",
       "      <td>November 2015</td>\n",
       "      <td>1</td>\n",
       "      <td>0</td>\n",
       "      <td>0</td>\n",
       "      <td>0</td>\n",
       "      <td>0</td>\n",
       "      <td>0</td>\n",
       "      <td>0</td>\n",
       "      <td>0.00</td>\n",
       "    </tr>\n",
       "    <tr>\n",
       "      <th>1</th>\n",
       "      <td>Nicaless</td>\n",
       "      <td>Novel: A Mystery in the Kingdom of Aermon</td>\n",
       "      <td>Genre: Fantasy</td>\n",
       "      <td>50919</td>\n",
       "      <td>1,697</td>\n",
       "      <td>1</td>\n",
       "      <td>\\n&lt;p&gt;Hitoshi is appointed the youngest Judge a...</td>\n",
       "      <td>http://nanowrimo.org/participants/nicaless/nov...</td>\n",
       "      <td>November 2014</td>\n",
       "      <td>1</td>\n",
       "      <td>0</td>\n",
       "      <td>1</td>\n",
       "      <td>44</td>\n",
       "      <td>42</td>\n",
       "      <td>3</td>\n",
       "      <td>1</td>\n",
       "      <td>65.73</td>\n",
       "    </tr>\n",
       "    <tr>\n",
       "      <th>2</th>\n",
       "      <td>Rachel B. Moore</td>\n",
       "      <td>Novel: Finding Fortunato</td>\n",
       "      <td>Genre: Literary</td>\n",
       "      <td>50603</td>\n",
       "      <td>1,686</td>\n",
       "      <td>1</td>\n",
       "      <td>\\n&lt;p&gt;Sam and Anna Gold and their newly adoptiv...</td>\n",
       "      <td>http://nanowrimo.org/participants/rachel-b-moo...</td>\n",
       "      <td>November 2015</td>\n",
       "      <td>1</td>\n",
       "      <td>0</td>\n",
       "      <td>1</td>\n",
       "      <td>153</td>\n",
       "      <td>109</td>\n",
       "      <td>7</td>\n",
       "      <td>4</td>\n",
       "      <td>58.62</td>\n",
       "    </tr>\n",
       "    <tr>\n",
       "      <th>3</th>\n",
       "      <td>Rachel B. Moore</td>\n",
       "      <td>Novel: The Residency</td>\n",
       "      <td>Genre: Literary</td>\n",
       "      <td>50425</td>\n",
       "      <td>1,680</td>\n",
       "      <td>1</td>\n",
       "      <td>\\n&lt;p&gt;It's every writer's dream - an all-expens...</td>\n",
       "      <td>http://nanowrimo.org/participants/rachel-b-moo...</td>\n",
       "      <td>November 2014</td>\n",
       "      <td>1</td>\n",
       "      <td>0</td>\n",
       "      <td>1</td>\n",
       "      <td>59</td>\n",
       "      <td>51</td>\n",
       "      <td>4</td>\n",
       "      <td>3</td>\n",
       "      <td>65.73</td>\n",
       "    </tr>\n",
       "    <tr>\n",
       "      <th>4</th>\n",
       "      <td>Rachel B. Moore</td>\n",
       "      <td>Novel: The Jew From Fortunato</td>\n",
       "      <td>Genre: Literary Fiction</td>\n",
       "      <td>41447</td>\n",
       "      <td>1,381</td>\n",
       "      <td>0</td>\n",
       "      <td>\\n&lt;p&gt;20-something Andre Levinsky is a fish out...</td>\n",
       "      <td>http://nanowrimo.org/participants/rachel-b-moo...</td>\n",
       "      <td>November 2013</td>\n",
       "      <td>1</td>\n",
       "      <td>0</td>\n",
       "      <td>1</td>\n",
       "      <td>124</td>\n",
       "      <td>93</td>\n",
       "      <td>4</td>\n",
       "      <td>1</td>\n",
       "      <td>56.93</td>\n",
       "    </tr>\n",
       "  </tbody>\n",
       "</table>\n",
       "</div>"
      ],
      "text/plain": [
       "       Writer Name                                 Novel Name  \\\n",
       "0         Nicaless                   Novel: Lauren's Birthday   \n",
       "1         Nicaless  Novel: A Mystery in the Kingdom of Aermon   \n",
       "2  Rachel B. Moore                   Novel: Finding Fortunato   \n",
       "3  Rachel B. Moore                       Novel: The Residency   \n",
       "4  Rachel B. Moore              Novel: The Jew From Fortunato   \n",
       "\n",
       "                     Genre  Final Word Count Daily Average  Winner  \\\n",
       "0       Genre: Young Adult             24229           807       0   \n",
       "1           Genre: Fantasy             50919         1,697       1   \n",
       "2          Genre: Literary             50603         1,686       1   \n",
       "3          Genre: Literary             50425         1,680       1   \n",
       "4  Genre: Literary Fiction             41447         1,381       0   \n",
       "\n",
       "                                            Synopses  \\\n",
       "0                                        \\n<p></p>\\n   \n",
       "1  \\n<p>Hitoshi is appointed the youngest Judge a...   \n",
       "2  \\n<p>Sam and Anna Gold and their newly adoptiv...   \n",
       "3  \\n<p>It's every writer's dream - an all-expens...   \n",
       "4  \\n<p>20-something Andre Levinsky is a fish out...   \n",
       "\n",
       "                                                 url     Novel Date  \\\n",
       "0  http://nanowrimo.org/participants/nicaless/nov...  November 2015   \n",
       "1  http://nanowrimo.org/participants/nicaless/nov...  November 2014   \n",
       "2  http://nanowrimo.org/participants/rachel-b-moo...  November 2015   \n",
       "3  http://nanowrimo.org/participants/rachel-b-moo...  November 2014   \n",
       "4  http://nanowrimo.org/participants/rachel-b-moo...  November 2013   \n",
       "\n",
       "   has genre  standard genre  has_synopses  num words  num uniques  \\\n",
       "0          1               0             0          0            0   \n",
       "1          1               0             1         44           42   \n",
       "2          1               0             1        153          109   \n",
       "3          1               0             1         59           51   \n",
       "4          1               0             1        124           93   \n",
       "\n",
       "   num sentences  paragraphs  fk score  \n",
       "0              0           0      0.00  \n",
       "1              3           1     65.73  \n",
       "2              7           4     58.62  \n",
       "3              4           3     65.73  \n",
       "4              4           1     56.93  "
      ]
     },
     "execution_count": 29,
     "metadata": {},
     "output_type": "execute_result"
    }
   ],
   "source": [
    "novels.head()"
   ]
  },
  {
   "cell_type": "code",
   "execution_count": 30,
   "metadata": {
    "collapsed": true
   },
   "outputs": [],
   "source": [
    "novels.to_csv(\"novel_features.csv\")"
   ]
  },
  {
   "cell_type": "code",
   "execution_count": null,
   "metadata": {
    "collapsed": true
   },
   "outputs": [],
   "source": []
  }
 ],
 "metadata": {
  "kernelspec": {
   "display_name": "Python 2",
   "language": "python",
   "name": "python2"
  },
  "language_info": {
   "codemirror_mode": {
    "name": "ipython",
    "version": 2
   },
   "file_extension": ".py",
   "mimetype": "text/x-python",
   "name": "python",
   "nbconvert_exporter": "python",
   "pygments_lexer": "ipython2",
   "version": "2.7.11"
  }
 },
 "nbformat": 4,
 "nbformat_minor": 0
}
